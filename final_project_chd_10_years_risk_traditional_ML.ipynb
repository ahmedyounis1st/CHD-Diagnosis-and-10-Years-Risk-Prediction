{
  "nbformat": 4,
  "nbformat_minor": 0,
  "metadata": {
    "colab": {
      "name": "final_project_chd_10_years_risk_traditional_ML.ipynb",
      "provenance": []
    },
    "kernelspec": {
      "name": "python3",
      "display_name": "Python 3"
    },
    "language_info": {
      "name": "python"
    },
    "accelerator": "GPU"
  },
  "cells": [
    {
      "cell_type": "markdown",
      "source": [
        "# Project: \n",
        "\n",
        "## Table of Contents\n",
        "<ul>\n",
        "<li><a href=\"#intro\">Introduction</a></li>\n",
        "<li><a href=\"#wrangling\">Data Wrangling</a></li>\n",
        "<li><a href=\"#preprocessing\">Data Preprocessing</a></li>\n",
        "<li><a href=\"#building\">Model Building</a></li>\n",
        "<li><a href=\"#evaluation\">Model Evaluation</a></li>\n",
        "</ul>"
      ],
      "metadata": {
        "id": "ivUd2rrUGw4o"
      }
    },
    {
      "cell_type": "markdown",
      "source": [
        "<a id='intro'></a>\n",
        "## Introduction \n",
        "\n",
        "World Health Organization has estimated 12 million deaths occur worldwide, every year due to Heart diseases. Half the deaths in the United States and other developed countries are due to cardio vascular diseases. The early prognosis of cardiovascular diseases can aid in making decisions on lifestyle changes in high risk patients and in turn reduce the complications."
      ],
      "metadata": {
        "id": "MCt6SZRSG5cJ"
      }
    },
    {
      "cell_type": "markdown",
      "source": [
        "### Source\n",
        "The dataset is publically available on the Kaggle website, and it is from an ongoing cardiovascular study on residents of the town of Framingham, Massachusetts. The classification goal is to predict whether the patient has 10-year risk of future coronary heart disease (CHD).The dataset provides the patients’ information. It includes over 4,000 records and 15 attributes."
      ],
      "metadata": {
        "id": "zqNTvP8JG48a"
      }
    },
    {
      "cell_type": "markdown",
      "source": [
        "## Setup"
      ],
      "metadata": {
        "id": "-Z1ZpKqQKRnb"
      }
    },
    {
      "cell_type": "code",
      "source": [
        "# import pakcages and libraries needed for the project\n",
        "import numpy as np\n",
        "import pandas as pd\n",
        "import matplotlib.pyplot as plt\n",
        "import seaborn as sns\n",
        "%matplotlib inline\n",
        "sns.set_style('darkgrid')"
      ],
      "metadata": {
        "id": "GlUf9--aKRCK"
      },
      "execution_count": 1,
      "outputs": []
    },
    {
      "cell_type": "markdown",
      "source": [
        "<a id='wrangling'></a>\n",
        "## Data Wrangling\n",
        "\n",
        "### General Properties"
      ],
      "metadata": {
        "id": "hDZrFeFDKZsd"
      }
    },
    {
      "cell_type": "markdown",
      "source": [
        "### Assessing & Building Intuition"
      ],
      "metadata": {
        "id": "m6-iv54bLD3i"
      }
    },
    {
      "cell_type": "code",
      "source": [
        "# Loading data and printing out a few lines. \n",
        "df = pd.read_csv(\"framingham.csv\")\n",
        "df.head()"
      ],
      "metadata": {
        "colab": {
          "base_uri": "https://localhost:8080/",
          "height": 0
        },
        "id": "MwpVlOewK-GE",
        "outputId": "6b93f11b-b018-407d-e953-9d3a5b991e01"
      },
      "execution_count": 2,
      "outputs": [
        {
          "output_type": "execute_result",
          "data": {
            "text/plain": [
              "   male  age  education  currentSmoker  cigsPerDay  BPMeds  prevalentStroke  \\\n",
              "0     1   39        4.0              0         0.0     0.0                0   \n",
              "1     0   46        2.0              0         0.0     0.0                0   \n",
              "2     1   48        1.0              1        20.0     0.0                0   \n",
              "3     0   61        3.0              1        30.0     0.0                0   \n",
              "4     0   46        3.0              1        23.0     0.0                0   \n",
              "\n",
              "   prevalentHyp  diabetes  totChol  sysBP  diaBP    BMI  heartRate  glucose  \\\n",
              "0             0         0    195.0  106.0   70.0  26.97       80.0     77.0   \n",
              "1             0         0    250.0  121.0   81.0  28.73       95.0     76.0   \n",
              "2             0         0    245.0  127.5   80.0  25.34       75.0     70.0   \n",
              "3             1         0    225.0  150.0   95.0  28.58       65.0    103.0   \n",
              "4             0         0    285.0  130.0   84.0  23.10       85.0     85.0   \n",
              "\n",
              "   TenYearCHD  \n",
              "0           0  \n",
              "1           0  \n",
              "2           0  \n",
              "3           1  \n",
              "4           0  "
            ],
            "text/html": [
              "\n",
              "  <div id=\"df-06f24c90-256c-4929-b694-bd7749d46a3c\">\n",
              "    <div class=\"colab-df-container\">\n",
              "      <div>\n",
              "<style scoped>\n",
              "    .dataframe tbody tr th:only-of-type {\n",
              "        vertical-align: middle;\n",
              "    }\n",
              "\n",
              "    .dataframe tbody tr th {\n",
              "        vertical-align: top;\n",
              "    }\n",
              "\n",
              "    .dataframe thead th {\n",
              "        text-align: right;\n",
              "    }\n",
              "</style>\n",
              "<table border=\"1\" class=\"dataframe\">\n",
              "  <thead>\n",
              "    <tr style=\"text-align: right;\">\n",
              "      <th></th>\n",
              "      <th>male</th>\n",
              "      <th>age</th>\n",
              "      <th>education</th>\n",
              "      <th>currentSmoker</th>\n",
              "      <th>cigsPerDay</th>\n",
              "      <th>BPMeds</th>\n",
              "      <th>prevalentStroke</th>\n",
              "      <th>prevalentHyp</th>\n",
              "      <th>diabetes</th>\n",
              "      <th>totChol</th>\n",
              "      <th>sysBP</th>\n",
              "      <th>diaBP</th>\n",
              "      <th>BMI</th>\n",
              "      <th>heartRate</th>\n",
              "      <th>glucose</th>\n",
              "      <th>TenYearCHD</th>\n",
              "    </tr>\n",
              "  </thead>\n",
              "  <tbody>\n",
              "    <tr>\n",
              "      <th>0</th>\n",
              "      <td>1</td>\n",
              "      <td>39</td>\n",
              "      <td>4.0</td>\n",
              "      <td>0</td>\n",
              "      <td>0.0</td>\n",
              "      <td>0.0</td>\n",
              "      <td>0</td>\n",
              "      <td>0</td>\n",
              "      <td>0</td>\n",
              "      <td>195.0</td>\n",
              "      <td>106.0</td>\n",
              "      <td>70.0</td>\n",
              "      <td>26.97</td>\n",
              "      <td>80.0</td>\n",
              "      <td>77.0</td>\n",
              "      <td>0</td>\n",
              "    </tr>\n",
              "    <tr>\n",
              "      <th>1</th>\n",
              "      <td>0</td>\n",
              "      <td>46</td>\n",
              "      <td>2.0</td>\n",
              "      <td>0</td>\n",
              "      <td>0.0</td>\n",
              "      <td>0.0</td>\n",
              "      <td>0</td>\n",
              "      <td>0</td>\n",
              "      <td>0</td>\n",
              "      <td>250.0</td>\n",
              "      <td>121.0</td>\n",
              "      <td>81.0</td>\n",
              "      <td>28.73</td>\n",
              "      <td>95.0</td>\n",
              "      <td>76.0</td>\n",
              "      <td>0</td>\n",
              "    </tr>\n",
              "    <tr>\n",
              "      <th>2</th>\n",
              "      <td>1</td>\n",
              "      <td>48</td>\n",
              "      <td>1.0</td>\n",
              "      <td>1</td>\n",
              "      <td>20.0</td>\n",
              "      <td>0.0</td>\n",
              "      <td>0</td>\n",
              "      <td>0</td>\n",
              "      <td>0</td>\n",
              "      <td>245.0</td>\n",
              "      <td>127.5</td>\n",
              "      <td>80.0</td>\n",
              "      <td>25.34</td>\n",
              "      <td>75.0</td>\n",
              "      <td>70.0</td>\n",
              "      <td>0</td>\n",
              "    </tr>\n",
              "    <tr>\n",
              "      <th>3</th>\n",
              "      <td>0</td>\n",
              "      <td>61</td>\n",
              "      <td>3.0</td>\n",
              "      <td>1</td>\n",
              "      <td>30.0</td>\n",
              "      <td>0.0</td>\n",
              "      <td>0</td>\n",
              "      <td>1</td>\n",
              "      <td>0</td>\n",
              "      <td>225.0</td>\n",
              "      <td>150.0</td>\n",
              "      <td>95.0</td>\n",
              "      <td>28.58</td>\n",
              "      <td>65.0</td>\n",
              "      <td>103.0</td>\n",
              "      <td>1</td>\n",
              "    </tr>\n",
              "    <tr>\n",
              "      <th>4</th>\n",
              "      <td>0</td>\n",
              "      <td>46</td>\n",
              "      <td>3.0</td>\n",
              "      <td>1</td>\n",
              "      <td>23.0</td>\n",
              "      <td>0.0</td>\n",
              "      <td>0</td>\n",
              "      <td>0</td>\n",
              "      <td>0</td>\n",
              "      <td>285.0</td>\n",
              "      <td>130.0</td>\n",
              "      <td>84.0</td>\n",
              "      <td>23.10</td>\n",
              "      <td>85.0</td>\n",
              "      <td>85.0</td>\n",
              "      <td>0</td>\n",
              "    </tr>\n",
              "  </tbody>\n",
              "</table>\n",
              "</div>\n",
              "      <button class=\"colab-df-convert\" onclick=\"convertToInteractive('df-06f24c90-256c-4929-b694-bd7749d46a3c')\"\n",
              "              title=\"Convert this dataframe to an interactive table.\"\n",
              "              style=\"display:none;\">\n",
              "        \n",
              "  <svg xmlns=\"http://www.w3.org/2000/svg\" height=\"24px\"viewBox=\"0 0 24 24\"\n",
              "       width=\"24px\">\n",
              "    <path d=\"M0 0h24v24H0V0z\" fill=\"none\"/>\n",
              "    <path d=\"M18.56 5.44l.94 2.06.94-2.06 2.06-.94-2.06-.94-.94-2.06-.94 2.06-2.06.94zm-11 1L8.5 8.5l.94-2.06 2.06-.94-2.06-.94L8.5 2.5l-.94 2.06-2.06.94zm10 10l.94 2.06.94-2.06 2.06-.94-2.06-.94-.94-2.06-.94 2.06-2.06.94z\"/><path d=\"M17.41 7.96l-1.37-1.37c-.4-.4-.92-.59-1.43-.59-.52 0-1.04.2-1.43.59L10.3 9.45l-7.72 7.72c-.78.78-.78 2.05 0 2.83L4 21.41c.39.39.9.59 1.41.59.51 0 1.02-.2 1.41-.59l7.78-7.78 2.81-2.81c.8-.78.8-2.07 0-2.86zM5.41 20L4 18.59l7.72-7.72 1.47 1.35L5.41 20z\"/>\n",
              "  </svg>\n",
              "      </button>\n",
              "      \n",
              "  <style>\n",
              "    .colab-df-container {\n",
              "      display:flex;\n",
              "      flex-wrap:wrap;\n",
              "      gap: 12px;\n",
              "    }\n",
              "\n",
              "    .colab-df-convert {\n",
              "      background-color: #E8F0FE;\n",
              "      border: none;\n",
              "      border-radius: 50%;\n",
              "      cursor: pointer;\n",
              "      display: none;\n",
              "      fill: #1967D2;\n",
              "      height: 32px;\n",
              "      padding: 0 0 0 0;\n",
              "      width: 32px;\n",
              "    }\n",
              "\n",
              "    .colab-df-convert:hover {\n",
              "      background-color: #E2EBFA;\n",
              "      box-shadow: 0px 1px 2px rgba(60, 64, 67, 0.3), 0px 1px 3px 1px rgba(60, 64, 67, 0.15);\n",
              "      fill: #174EA6;\n",
              "    }\n",
              "\n",
              "    [theme=dark] .colab-df-convert {\n",
              "      background-color: #3B4455;\n",
              "      fill: #D2E3FC;\n",
              "    }\n",
              "\n",
              "    [theme=dark] .colab-df-convert:hover {\n",
              "      background-color: #434B5C;\n",
              "      box-shadow: 0px 1px 3px 1px rgba(0, 0, 0, 0.15);\n",
              "      filter: drop-shadow(0px 1px 2px rgba(0, 0, 0, 0.3));\n",
              "      fill: #FFFFFF;\n",
              "    }\n",
              "  </style>\n",
              "\n",
              "      <script>\n",
              "        const buttonEl =\n",
              "          document.querySelector('#df-06f24c90-256c-4929-b694-bd7749d46a3c button.colab-df-convert');\n",
              "        buttonEl.style.display =\n",
              "          google.colab.kernel.accessAllowed ? 'block' : 'none';\n",
              "\n",
              "        async function convertToInteractive(key) {\n",
              "          const element = document.querySelector('#df-06f24c90-256c-4929-b694-bd7749d46a3c');\n",
              "          const dataTable =\n",
              "            await google.colab.kernel.invokeFunction('convertToInteractive',\n",
              "                                                     [key], {});\n",
              "          if (!dataTable) return;\n",
              "\n",
              "          const docLinkHtml = 'Like what you see? Visit the ' +\n",
              "            '<a target=\"_blank\" href=https://colab.research.google.com/notebooks/data_table.ipynb>data table notebook</a>'\n",
              "            + ' to learn more about interactive tables.';\n",
              "          element.innerHTML = '';\n",
              "          dataTable['output_type'] = 'display_data';\n",
              "          await google.colab.output.renderOutput(dataTable, element);\n",
              "          const docLink = document.createElement('div');\n",
              "          docLink.innerHTML = docLinkHtml;\n",
              "          element.appendChild(docLink);\n",
              "        }\n",
              "      </script>\n",
              "    </div>\n",
              "  </div>\n",
              "  "
            ]
          },
          "metadata": {},
          "execution_count": 2
        }
      ]
    },
    {
      "cell_type": "code",
      "source": [
        "df.columns"
      ],
      "metadata": {
        "colab": {
          "base_uri": "https://localhost:8080/"
        },
        "id": "0ih3SsRMKPbN",
        "outputId": "4a9e7803-490b-4dfe-da45-62803f285c43"
      },
      "execution_count": 3,
      "outputs": [
        {
          "output_type": "execute_result",
          "data": {
            "text/plain": [
              "Index(['male', 'age', 'education', 'currentSmoker', 'cigsPerDay', 'BPMeds',\n",
              "       'prevalentStroke', 'prevalentHyp', 'diabetes', 'totChol', 'sysBP',\n",
              "       'diaBP', 'BMI', 'heartRate', 'glucose', 'TenYearCHD'],\n",
              "      dtype='object')"
            ]
          },
          "metadata": {},
          "execution_count": 3
        }
      ]
    },
    {
      "cell_type": "markdown",
      "source": [
        "* Column [\"male\"] needs to be more general.\n",
        "* Some Columns needs to be renamed"
      ],
      "metadata": {
        "id": "q5fJ4vT8VRl1"
      }
    },
    {
      "cell_type": "markdown",
      "source": [
        "__Attributes__\n",
        "\n",
        "Each attribute is a potential risk factor. There are both demographic, behavioral and medical risk factors."
      ],
      "metadata": {
        "id": "CceEQetdKEvu"
      }
    },
    {
      "cell_type": "markdown",
      "source": [
        "__Demographic__\n",
        "\n",
        "|__Column__|__Description__|\n",
        "|:---------|:--------------|\n",
        "|• Male: |male or female (Nominal)|\n",
        "|• Age: |Age of the patient (Continuous)|\n",
        "\n",
        "__Behavioral__\n",
        "\n",
        "|__Column__|__Description__|\n",
        "|:---------|:--------------|\n",
        "|• Current Smoker: |whether or not the patient is a current smoker (Nominal)|\n",
        "|• Cigs Per Day: |the number of cigarettes that the person smoked on average in one day.|\n",
        "\n",
        "__Medical (history)__\n",
        "\n",
        "|__Column__|__Description__|\n",
        "|:---------|:--------------|\n",
        "|• BP Meds: |whether or not the patient was on blood pressure medication (Nominal)|\n",
        "|• Prevalent Stroke: |whether or not the patient had previously had a stroke (Nominal)|\n",
        "|• Prevalent Hyp: |whether or not the patient was hypertensive (Nominal)|\n",
        "|• Diabetes: |whether or not the patient had diabetes (Nominal)|\n",
        "\n",
        "__Medical (current)__\n",
        "\n",
        "|__Column__|__Description__|\n",
        "|:---------|:--------------|\n",
        "|• Tot Chol: |total cholesterol level (Continuous)|\n",
        "|• Sys BP: |systolic blood pressure (Continuous)|\n",
        "|• Dia BP: |diastolic blood pressure (Continuous)|\n",
        "|• BMI: |Body Mass Index (Continuous)|\n",
        "|• Heart Rate: |heart rate (Continuous)|\n",
        "|• Glucose: |glucose level (Continuous)|\n",
        "\n",
        "__Predict variable (desired target)__\n",
        "\n",
        "• 10 year risk of coronary heart disease CHD (binary: “1”, means “Yes”, “0” means “No”)"
      ],
      "metadata": {
        "id": "3-zVoWTTVDFq"
      }
    },
    {
      "cell_type": "code",
      "source": [
        "# inspecting numbers of the dataset rows and columns\n",
        "df.shape"
      ],
      "metadata": {
        "colab": {
          "base_uri": "https://localhost:8080/"
        },
        "id": "Fq5XztWuKDvI",
        "outputId": "c31aa043-a6fb-4b74-8346-508a0e3e1e78"
      },
      "execution_count": 4,
      "outputs": [
        {
          "output_type": "execute_result",
          "data": {
            "text/plain": [
              "(4238, 16)"
            ]
          },
          "metadata": {},
          "execution_count": 4
        }
      ]
    },
    {
      "cell_type": "markdown",
      "source": [
        "* The dataset has 4238 rows and 16 columns including the target column"
      ],
      "metadata": {
        "id": "KYjnY3JlRm_w"
      }
    },
    {
      "cell_type": "code",
      "source": [
        "# inspect data types for each Column\n",
        "df.dtypes"
      ],
      "metadata": {
        "colab": {
          "base_uri": "https://localhost:8080/"
        },
        "id": "kmiNFOO2E3qG",
        "outputId": "ab852fb6-99c6-488f-cb42-df23339910ef"
      },
      "execution_count": 5,
      "outputs": [
        {
          "output_type": "execute_result",
          "data": {
            "text/plain": [
              "male                 int64\n",
              "age                  int64\n",
              "education          float64\n",
              "currentSmoker        int64\n",
              "cigsPerDay         float64\n",
              "BPMeds             float64\n",
              "prevalentStroke      int64\n",
              "prevalentHyp         int64\n",
              "diabetes             int64\n",
              "totChol            float64\n",
              "sysBP              float64\n",
              "diaBP              float64\n",
              "BMI                float64\n",
              "heartRate          float64\n",
              "glucose            float64\n",
              "TenYearCHD           int64\n",
              "dtype: object"
            ]
          },
          "metadata": {},
          "execution_count": 5
        }
      ]
    },
    {
      "cell_type": "markdown",
      "source": [
        "* There are 2 columns [\"education\", \"BPMeds\"] have incorrect data types, since they are nominal data with float64 data type."
      ],
      "metadata": {
        "id": "B8KfMMu8R_oU"
      }
    },
    {
      "cell_type": "code",
      "source": [
        "# look for instances of missing data and possibly errant values\n",
        "df.info()"
      ],
      "metadata": {
        "colab": {
          "base_uri": "https://localhost:8080/"
        },
        "id": "VIAe3Uu9SLGv",
        "outputId": "b67a4427-8027-48fa-f51b-6bbe09ae21b6"
      },
      "execution_count": 6,
      "outputs": [
        {
          "output_type": "stream",
          "name": "stdout",
          "text": [
            "<class 'pandas.core.frame.DataFrame'>\n",
            "RangeIndex: 4238 entries, 0 to 4237\n",
            "Data columns (total 16 columns):\n",
            " #   Column           Non-Null Count  Dtype  \n",
            "---  ------           --------------  -----  \n",
            " 0   male             4238 non-null   int64  \n",
            " 1   age              4238 non-null   int64  \n",
            " 2   education        4133 non-null   float64\n",
            " 3   currentSmoker    4238 non-null   int64  \n",
            " 4   cigsPerDay       4209 non-null   float64\n",
            " 5   BPMeds           4185 non-null   float64\n",
            " 6   prevalentStroke  4238 non-null   int64  \n",
            " 7   prevalentHyp     4238 non-null   int64  \n",
            " 8   diabetes         4238 non-null   int64  \n",
            " 9   totChol          4188 non-null   float64\n",
            " 10  sysBP            4238 non-null   float64\n",
            " 11  diaBP            4238 non-null   float64\n",
            " 12  BMI              4219 non-null   float64\n",
            " 13  heartRate        4237 non-null   float64\n",
            " 14  glucose          3850 non-null   float64\n",
            " 15  TenYearCHD       4238 non-null   int64  \n",
            "dtypes: float64(9), int64(7)\n",
            "memory usage: 529.9 KB\n"
          ]
        }
      ]
    },
    {
      "cell_type": "markdown",
      "source": [
        "* We have 4238 rows in the datasets, therefore the columns [\"education\", \"cigsPerDay\", \"BPMeds\", \"totChol\", \"BMI\", \"heartRate\", \"glucose\"] have missing values."
      ],
      "metadata": {
        "id": "TeM_WTD0Sdam"
      }
    },
    {
      "cell_type": "code",
      "source": [
        "# Check number of unique values in each column\n",
        "df.nunique() "
      ],
      "metadata": {
        "colab": {
          "base_uri": "https://localhost:8080/"
        },
        "id": "kiPyeCMRTToD",
        "outputId": "fa7bb256-d317-4fe0-bf25-14699deb6bd6"
      },
      "execution_count": 7,
      "outputs": [
        {
          "output_type": "execute_result",
          "data": {
            "text/plain": [
              "male                  2\n",
              "age                  39\n",
              "education             4\n",
              "currentSmoker         2\n",
              "cigsPerDay           33\n",
              "BPMeds                2\n",
              "prevalentStroke       2\n",
              "prevalentHyp          2\n",
              "diabetes              2\n",
              "totChol             248\n",
              "sysBP               234\n",
              "diaBP               146\n",
              "BMI                1363\n",
              "heartRate            73\n",
              "glucose             143\n",
              "TenYearCHD            2\n",
              "dtype: int64"
            ]
          },
          "metadata": {},
          "execution_count": 7
        }
      ]
    },
    {
      "cell_type": "markdown",
      "source": [
        "* Columns [\"male\", \"currentSmoker\", \"BMeds\", \"prevalentStrike\", \"prevalentHyp\", \"diabetes\"] are nominal attributes each of them has only 2 values, while column [\"education\"] has 4 values and also is a nominal value."
      ],
      "metadata": {
        "id": "9VjYUcZ4TvNB"
      }
    },
    {
      "cell_type": "code",
      "source": [
        "df.TenYearCHD.value_counts()"
      ],
      "metadata": {
        "colab": {
          "base_uri": "https://localhost:8080/"
        },
        "id": "9rXJhXIvmBOw",
        "outputId": "09778869-5cd4-49d1-c7d9-5a57f2f3bde7"
      },
      "execution_count": 8,
      "outputs": [
        {
          "output_type": "execute_result",
          "data": {
            "text/plain": [
              "0    3594\n",
              "1     644\n",
              "Name: TenYearCHD, dtype: int64"
            ]
          },
          "metadata": {},
          "execution_count": 8
        }
      ]
    },
    {
      "cell_type": "markdown",
      "source": [
        "* We have a problem here, the dataset isn't balanced!"
      ],
      "metadata": {
        "id": "u4f8MGrlmXHO"
      }
    },
    {
      "cell_type": "code",
      "source": [
        "# Check the characteristics of the dataset\n",
        "df.iloc[:,np.r_[1,4,9:15]].describe()"
      ],
      "metadata": {
        "colab": {
          "base_uri": "https://localhost:8080/",
          "height": 0
        },
        "id": "62sKDMpBlh8V",
        "outputId": "d41589e0-64ef-4482-92a4-614c62f35e0b"
      },
      "execution_count": 9,
      "outputs": [
        {
          "output_type": "execute_result",
          "data": {
            "text/plain": [
              "               age   cigsPerDay      totChol        sysBP        diaBP  \\\n",
              "count  4238.000000  4209.000000  4188.000000  4238.000000  4238.000000   \n",
              "mean     49.584946     9.003089   236.721585   132.352407    82.893464   \n",
              "std       8.572160    11.920094    44.590334    22.038097    11.910850   \n",
              "min      32.000000     0.000000   107.000000    83.500000    48.000000   \n",
              "25%      42.000000     0.000000   206.000000   117.000000    75.000000   \n",
              "50%      49.000000     0.000000   234.000000   128.000000    82.000000   \n",
              "75%      56.000000    20.000000   263.000000   144.000000    89.875000   \n",
              "max      70.000000    70.000000   696.000000   295.000000   142.500000   \n",
              "\n",
              "               BMI    heartRate      glucose  \n",
              "count  4219.000000  4237.000000  3850.000000  \n",
              "mean     25.802008    75.878924    81.966753  \n",
              "std       4.080111    12.026596    23.959998  \n",
              "min      15.540000    44.000000    40.000000  \n",
              "25%      23.070000    68.000000    71.000000  \n",
              "50%      25.400000    75.000000    78.000000  \n",
              "75%      28.040000    83.000000    87.000000  \n",
              "max      56.800000   143.000000   394.000000  "
            ],
            "text/html": [
              "\n",
              "  <div id=\"df-63ece9cf-a9c8-4c87-9832-8ce93a747a88\">\n",
              "    <div class=\"colab-df-container\">\n",
              "      <div>\n",
              "<style scoped>\n",
              "    .dataframe tbody tr th:only-of-type {\n",
              "        vertical-align: middle;\n",
              "    }\n",
              "\n",
              "    .dataframe tbody tr th {\n",
              "        vertical-align: top;\n",
              "    }\n",
              "\n",
              "    .dataframe thead th {\n",
              "        text-align: right;\n",
              "    }\n",
              "</style>\n",
              "<table border=\"1\" class=\"dataframe\">\n",
              "  <thead>\n",
              "    <tr style=\"text-align: right;\">\n",
              "      <th></th>\n",
              "      <th>age</th>\n",
              "      <th>cigsPerDay</th>\n",
              "      <th>totChol</th>\n",
              "      <th>sysBP</th>\n",
              "      <th>diaBP</th>\n",
              "      <th>BMI</th>\n",
              "      <th>heartRate</th>\n",
              "      <th>glucose</th>\n",
              "    </tr>\n",
              "  </thead>\n",
              "  <tbody>\n",
              "    <tr>\n",
              "      <th>count</th>\n",
              "      <td>4238.000000</td>\n",
              "      <td>4209.000000</td>\n",
              "      <td>4188.000000</td>\n",
              "      <td>4238.000000</td>\n",
              "      <td>4238.000000</td>\n",
              "      <td>4219.000000</td>\n",
              "      <td>4237.000000</td>\n",
              "      <td>3850.000000</td>\n",
              "    </tr>\n",
              "    <tr>\n",
              "      <th>mean</th>\n",
              "      <td>49.584946</td>\n",
              "      <td>9.003089</td>\n",
              "      <td>236.721585</td>\n",
              "      <td>132.352407</td>\n",
              "      <td>82.893464</td>\n",
              "      <td>25.802008</td>\n",
              "      <td>75.878924</td>\n",
              "      <td>81.966753</td>\n",
              "    </tr>\n",
              "    <tr>\n",
              "      <th>std</th>\n",
              "      <td>8.572160</td>\n",
              "      <td>11.920094</td>\n",
              "      <td>44.590334</td>\n",
              "      <td>22.038097</td>\n",
              "      <td>11.910850</td>\n",
              "      <td>4.080111</td>\n",
              "      <td>12.026596</td>\n",
              "      <td>23.959998</td>\n",
              "    </tr>\n",
              "    <tr>\n",
              "      <th>min</th>\n",
              "      <td>32.000000</td>\n",
              "      <td>0.000000</td>\n",
              "      <td>107.000000</td>\n",
              "      <td>83.500000</td>\n",
              "      <td>48.000000</td>\n",
              "      <td>15.540000</td>\n",
              "      <td>44.000000</td>\n",
              "      <td>40.000000</td>\n",
              "    </tr>\n",
              "    <tr>\n",
              "      <th>25%</th>\n",
              "      <td>42.000000</td>\n",
              "      <td>0.000000</td>\n",
              "      <td>206.000000</td>\n",
              "      <td>117.000000</td>\n",
              "      <td>75.000000</td>\n",
              "      <td>23.070000</td>\n",
              "      <td>68.000000</td>\n",
              "      <td>71.000000</td>\n",
              "    </tr>\n",
              "    <tr>\n",
              "      <th>50%</th>\n",
              "      <td>49.000000</td>\n",
              "      <td>0.000000</td>\n",
              "      <td>234.000000</td>\n",
              "      <td>128.000000</td>\n",
              "      <td>82.000000</td>\n",
              "      <td>25.400000</td>\n",
              "      <td>75.000000</td>\n",
              "      <td>78.000000</td>\n",
              "    </tr>\n",
              "    <tr>\n",
              "      <th>75%</th>\n",
              "      <td>56.000000</td>\n",
              "      <td>20.000000</td>\n",
              "      <td>263.000000</td>\n",
              "      <td>144.000000</td>\n",
              "      <td>89.875000</td>\n",
              "      <td>28.040000</td>\n",
              "      <td>83.000000</td>\n",
              "      <td>87.000000</td>\n",
              "    </tr>\n",
              "    <tr>\n",
              "      <th>max</th>\n",
              "      <td>70.000000</td>\n",
              "      <td>70.000000</td>\n",
              "      <td>696.000000</td>\n",
              "      <td>295.000000</td>\n",
              "      <td>142.500000</td>\n",
              "      <td>56.800000</td>\n",
              "      <td>143.000000</td>\n",
              "      <td>394.000000</td>\n",
              "    </tr>\n",
              "  </tbody>\n",
              "</table>\n",
              "</div>\n",
              "      <button class=\"colab-df-convert\" onclick=\"convertToInteractive('df-63ece9cf-a9c8-4c87-9832-8ce93a747a88')\"\n",
              "              title=\"Convert this dataframe to an interactive table.\"\n",
              "              style=\"display:none;\">\n",
              "        \n",
              "  <svg xmlns=\"http://www.w3.org/2000/svg\" height=\"24px\"viewBox=\"0 0 24 24\"\n",
              "       width=\"24px\">\n",
              "    <path d=\"M0 0h24v24H0V0z\" fill=\"none\"/>\n",
              "    <path d=\"M18.56 5.44l.94 2.06.94-2.06 2.06-.94-2.06-.94-.94-2.06-.94 2.06-2.06.94zm-11 1L8.5 8.5l.94-2.06 2.06-.94-2.06-.94L8.5 2.5l-.94 2.06-2.06.94zm10 10l.94 2.06.94-2.06 2.06-.94-2.06-.94-.94-2.06-.94 2.06-2.06.94z\"/><path d=\"M17.41 7.96l-1.37-1.37c-.4-.4-.92-.59-1.43-.59-.52 0-1.04.2-1.43.59L10.3 9.45l-7.72 7.72c-.78.78-.78 2.05 0 2.83L4 21.41c.39.39.9.59 1.41.59.51 0 1.02-.2 1.41-.59l7.78-7.78 2.81-2.81c.8-.78.8-2.07 0-2.86zM5.41 20L4 18.59l7.72-7.72 1.47 1.35L5.41 20z\"/>\n",
              "  </svg>\n",
              "      </button>\n",
              "      \n",
              "  <style>\n",
              "    .colab-df-container {\n",
              "      display:flex;\n",
              "      flex-wrap:wrap;\n",
              "      gap: 12px;\n",
              "    }\n",
              "\n",
              "    .colab-df-convert {\n",
              "      background-color: #E8F0FE;\n",
              "      border: none;\n",
              "      border-radius: 50%;\n",
              "      cursor: pointer;\n",
              "      display: none;\n",
              "      fill: #1967D2;\n",
              "      height: 32px;\n",
              "      padding: 0 0 0 0;\n",
              "      width: 32px;\n",
              "    }\n",
              "\n",
              "    .colab-df-convert:hover {\n",
              "      background-color: #E2EBFA;\n",
              "      box-shadow: 0px 1px 2px rgba(60, 64, 67, 0.3), 0px 1px 3px 1px rgba(60, 64, 67, 0.15);\n",
              "      fill: #174EA6;\n",
              "    }\n",
              "\n",
              "    [theme=dark] .colab-df-convert {\n",
              "      background-color: #3B4455;\n",
              "      fill: #D2E3FC;\n",
              "    }\n",
              "\n",
              "    [theme=dark] .colab-df-convert:hover {\n",
              "      background-color: #434B5C;\n",
              "      box-shadow: 0px 1px 3px 1px rgba(0, 0, 0, 0.15);\n",
              "      filter: drop-shadow(0px 1px 2px rgba(0, 0, 0, 0.3));\n",
              "      fill: #FFFFFF;\n",
              "    }\n",
              "  </style>\n",
              "\n",
              "      <script>\n",
              "        const buttonEl =\n",
              "          document.querySelector('#df-63ece9cf-a9c8-4c87-9832-8ce93a747a88 button.colab-df-convert');\n",
              "        buttonEl.style.display =\n",
              "          google.colab.kernel.accessAllowed ? 'block' : 'none';\n",
              "\n",
              "        async function convertToInteractive(key) {\n",
              "          const element = document.querySelector('#df-63ece9cf-a9c8-4c87-9832-8ce93a747a88');\n",
              "          const dataTable =\n",
              "            await google.colab.kernel.invokeFunction('convertToInteractive',\n",
              "                                                     [key], {});\n",
              "          if (!dataTable) return;\n",
              "\n",
              "          const docLinkHtml = 'Like what you see? Visit the ' +\n",
              "            '<a target=\"_blank\" href=https://colab.research.google.com/notebooks/data_table.ipynb>data table notebook</a>'\n",
              "            + ' to learn more about interactive tables.';\n",
              "          element.innerHTML = '';\n",
              "          dataTable['output_type'] = 'display_data';\n",
              "          await google.colab.output.renderOutput(dataTable, element);\n",
              "          const docLink = document.createElement('div');\n",
              "          docLink.innerHTML = docLinkHtml;\n",
              "          element.appendChild(docLink);\n",
              "        }\n",
              "      </script>\n",
              "    </div>\n",
              "  </div>\n",
              "  "
            ]
          },
          "metadata": {},
          "execution_count": 9
        }
      ]
    },
    {
      "cell_type": "code",
      "source": [
        "# Printing the last few lines to see how the data\n",
        "df.tail()"
      ],
      "metadata": {
        "colab": {
          "base_uri": "https://localhost:8080/",
          "height": 0
        },
        "id": "V7zrf4f1UhDl",
        "outputId": "4155faad-a4ca-4d1c-9cd6-86a4196eebbe"
      },
      "execution_count": 10,
      "outputs": [
        {
          "output_type": "execute_result",
          "data": {
            "text/plain": [
              "      male  age  education  currentSmoker  cigsPerDay  BPMeds  \\\n",
              "4233     1   50        1.0              1         1.0     0.0   \n",
              "4234     1   51        3.0              1        43.0     0.0   \n",
              "4235     0   48        2.0              1        20.0     NaN   \n",
              "4236     0   44        1.0              1        15.0     0.0   \n",
              "4237     0   52        2.0              0         0.0     0.0   \n",
              "\n",
              "      prevalentStroke  prevalentHyp  diabetes  totChol  sysBP  diaBP    BMI  \\\n",
              "4233                0             1         0    313.0  179.0   92.0  25.97   \n",
              "4234                0             0         0    207.0  126.5   80.0  19.71   \n",
              "4235                0             0         0    248.0  131.0   72.0  22.00   \n",
              "4236                0             0         0    210.0  126.5   87.0  19.16   \n",
              "4237                0             0         0    269.0  133.5   83.0  21.47   \n",
              "\n",
              "      heartRate  glucose  TenYearCHD  \n",
              "4233       66.0     86.0           1  \n",
              "4234       65.0     68.0           0  \n",
              "4235       84.0     86.0           0  \n",
              "4236       86.0      NaN           0  \n",
              "4237       80.0    107.0           0  "
            ],
            "text/html": [
              "\n",
              "  <div id=\"df-894c4f20-3821-465e-bca4-dc7f704d294a\">\n",
              "    <div class=\"colab-df-container\">\n",
              "      <div>\n",
              "<style scoped>\n",
              "    .dataframe tbody tr th:only-of-type {\n",
              "        vertical-align: middle;\n",
              "    }\n",
              "\n",
              "    .dataframe tbody tr th {\n",
              "        vertical-align: top;\n",
              "    }\n",
              "\n",
              "    .dataframe thead th {\n",
              "        text-align: right;\n",
              "    }\n",
              "</style>\n",
              "<table border=\"1\" class=\"dataframe\">\n",
              "  <thead>\n",
              "    <tr style=\"text-align: right;\">\n",
              "      <th></th>\n",
              "      <th>male</th>\n",
              "      <th>age</th>\n",
              "      <th>education</th>\n",
              "      <th>currentSmoker</th>\n",
              "      <th>cigsPerDay</th>\n",
              "      <th>BPMeds</th>\n",
              "      <th>prevalentStroke</th>\n",
              "      <th>prevalentHyp</th>\n",
              "      <th>diabetes</th>\n",
              "      <th>totChol</th>\n",
              "      <th>sysBP</th>\n",
              "      <th>diaBP</th>\n",
              "      <th>BMI</th>\n",
              "      <th>heartRate</th>\n",
              "      <th>glucose</th>\n",
              "      <th>TenYearCHD</th>\n",
              "    </tr>\n",
              "  </thead>\n",
              "  <tbody>\n",
              "    <tr>\n",
              "      <th>4233</th>\n",
              "      <td>1</td>\n",
              "      <td>50</td>\n",
              "      <td>1.0</td>\n",
              "      <td>1</td>\n",
              "      <td>1.0</td>\n",
              "      <td>0.0</td>\n",
              "      <td>0</td>\n",
              "      <td>1</td>\n",
              "      <td>0</td>\n",
              "      <td>313.0</td>\n",
              "      <td>179.0</td>\n",
              "      <td>92.0</td>\n",
              "      <td>25.97</td>\n",
              "      <td>66.0</td>\n",
              "      <td>86.0</td>\n",
              "      <td>1</td>\n",
              "    </tr>\n",
              "    <tr>\n",
              "      <th>4234</th>\n",
              "      <td>1</td>\n",
              "      <td>51</td>\n",
              "      <td>3.0</td>\n",
              "      <td>1</td>\n",
              "      <td>43.0</td>\n",
              "      <td>0.0</td>\n",
              "      <td>0</td>\n",
              "      <td>0</td>\n",
              "      <td>0</td>\n",
              "      <td>207.0</td>\n",
              "      <td>126.5</td>\n",
              "      <td>80.0</td>\n",
              "      <td>19.71</td>\n",
              "      <td>65.0</td>\n",
              "      <td>68.0</td>\n",
              "      <td>0</td>\n",
              "    </tr>\n",
              "    <tr>\n",
              "      <th>4235</th>\n",
              "      <td>0</td>\n",
              "      <td>48</td>\n",
              "      <td>2.0</td>\n",
              "      <td>1</td>\n",
              "      <td>20.0</td>\n",
              "      <td>NaN</td>\n",
              "      <td>0</td>\n",
              "      <td>0</td>\n",
              "      <td>0</td>\n",
              "      <td>248.0</td>\n",
              "      <td>131.0</td>\n",
              "      <td>72.0</td>\n",
              "      <td>22.00</td>\n",
              "      <td>84.0</td>\n",
              "      <td>86.0</td>\n",
              "      <td>0</td>\n",
              "    </tr>\n",
              "    <tr>\n",
              "      <th>4236</th>\n",
              "      <td>0</td>\n",
              "      <td>44</td>\n",
              "      <td>1.0</td>\n",
              "      <td>1</td>\n",
              "      <td>15.0</td>\n",
              "      <td>0.0</td>\n",
              "      <td>0</td>\n",
              "      <td>0</td>\n",
              "      <td>0</td>\n",
              "      <td>210.0</td>\n",
              "      <td>126.5</td>\n",
              "      <td>87.0</td>\n",
              "      <td>19.16</td>\n",
              "      <td>86.0</td>\n",
              "      <td>NaN</td>\n",
              "      <td>0</td>\n",
              "    </tr>\n",
              "    <tr>\n",
              "      <th>4237</th>\n",
              "      <td>0</td>\n",
              "      <td>52</td>\n",
              "      <td>2.0</td>\n",
              "      <td>0</td>\n",
              "      <td>0.0</td>\n",
              "      <td>0.0</td>\n",
              "      <td>0</td>\n",
              "      <td>0</td>\n",
              "      <td>0</td>\n",
              "      <td>269.0</td>\n",
              "      <td>133.5</td>\n",
              "      <td>83.0</td>\n",
              "      <td>21.47</td>\n",
              "      <td>80.0</td>\n",
              "      <td>107.0</td>\n",
              "      <td>0</td>\n",
              "    </tr>\n",
              "  </tbody>\n",
              "</table>\n",
              "</div>\n",
              "      <button class=\"colab-df-convert\" onclick=\"convertToInteractive('df-894c4f20-3821-465e-bca4-dc7f704d294a')\"\n",
              "              title=\"Convert this dataframe to an interactive table.\"\n",
              "              style=\"display:none;\">\n",
              "        \n",
              "  <svg xmlns=\"http://www.w3.org/2000/svg\" height=\"24px\"viewBox=\"0 0 24 24\"\n",
              "       width=\"24px\">\n",
              "    <path d=\"M0 0h24v24H0V0z\" fill=\"none\"/>\n",
              "    <path d=\"M18.56 5.44l.94 2.06.94-2.06 2.06-.94-2.06-.94-.94-2.06-.94 2.06-2.06.94zm-11 1L8.5 8.5l.94-2.06 2.06-.94-2.06-.94L8.5 2.5l-.94 2.06-2.06.94zm10 10l.94 2.06.94-2.06 2.06-.94-2.06-.94-.94-2.06-.94 2.06-2.06.94z\"/><path d=\"M17.41 7.96l-1.37-1.37c-.4-.4-.92-.59-1.43-.59-.52 0-1.04.2-1.43.59L10.3 9.45l-7.72 7.72c-.78.78-.78 2.05 0 2.83L4 21.41c.39.39.9.59 1.41.59.51 0 1.02-.2 1.41-.59l7.78-7.78 2.81-2.81c.8-.78.8-2.07 0-2.86zM5.41 20L4 18.59l7.72-7.72 1.47 1.35L5.41 20z\"/>\n",
              "  </svg>\n",
              "      </button>\n",
              "      \n",
              "  <style>\n",
              "    .colab-df-container {\n",
              "      display:flex;\n",
              "      flex-wrap:wrap;\n",
              "      gap: 12px;\n",
              "    }\n",
              "\n",
              "    .colab-df-convert {\n",
              "      background-color: #E8F0FE;\n",
              "      border: none;\n",
              "      border-radius: 50%;\n",
              "      cursor: pointer;\n",
              "      display: none;\n",
              "      fill: #1967D2;\n",
              "      height: 32px;\n",
              "      padding: 0 0 0 0;\n",
              "      width: 32px;\n",
              "    }\n",
              "\n",
              "    .colab-df-convert:hover {\n",
              "      background-color: #E2EBFA;\n",
              "      box-shadow: 0px 1px 2px rgba(60, 64, 67, 0.3), 0px 1px 3px 1px rgba(60, 64, 67, 0.15);\n",
              "      fill: #174EA6;\n",
              "    }\n",
              "\n",
              "    [theme=dark] .colab-df-convert {\n",
              "      background-color: #3B4455;\n",
              "      fill: #D2E3FC;\n",
              "    }\n",
              "\n",
              "    [theme=dark] .colab-df-convert:hover {\n",
              "      background-color: #434B5C;\n",
              "      box-shadow: 0px 1px 3px 1px rgba(0, 0, 0, 0.15);\n",
              "      filter: drop-shadow(0px 1px 2px rgba(0, 0, 0, 0.3));\n",
              "      fill: #FFFFFF;\n",
              "    }\n",
              "  </style>\n",
              "\n",
              "      <script>\n",
              "        const buttonEl =\n",
              "          document.querySelector('#df-894c4f20-3821-465e-bca4-dc7f704d294a button.colab-df-convert');\n",
              "        buttonEl.style.display =\n",
              "          google.colab.kernel.accessAllowed ? 'block' : 'none';\n",
              "\n",
              "        async function convertToInteractive(key) {\n",
              "          const element = document.querySelector('#df-894c4f20-3821-465e-bca4-dc7f704d294a');\n",
              "          const dataTable =\n",
              "            await google.colab.kernel.invokeFunction('convertToInteractive',\n",
              "                                                     [key], {});\n",
              "          if (!dataTable) return;\n",
              "\n",
              "          const docLinkHtml = 'Like what you see? Visit the ' +\n",
              "            '<a target=\"_blank\" href=https://colab.research.google.com/notebooks/data_table.ipynb>data table notebook</a>'\n",
              "            + ' to learn more about interactive tables.';\n",
              "          element.innerHTML = '';\n",
              "          dataTable['output_type'] = 'display_data';\n",
              "          await google.colab.output.renderOutput(dataTable, element);\n",
              "          const docLink = document.createElement('div');\n",
              "          docLink.innerHTML = docLinkHtml;\n",
              "          element.appendChild(docLink);\n",
              "        }\n",
              "      </script>\n",
              "    </div>\n",
              "  </div>\n",
              "  "
            ]
          },
          "metadata": {},
          "execution_count": 10
        }
      ]
    },
    {
      "cell_type": "markdown",
      "source": [
        "<a id='preprocessin'></a>\n",
        "## Data Preprocessing"
      ],
      "metadata": {
        "id": "HNv1ZYlkWOop"
      }
    },
    {
      "cell_type": "markdown",
      "source": [
        "### Data Cleaning (Fix problems in the dataset!)\n",
        "\n",
        "__Duplicated Data__"
      ],
      "metadata": {
        "id": "4dzmLHuEUn6c"
      }
    },
    {
      "cell_type": "code",
      "source": [
        "# Check duplicated data\n",
        "df.duplicated().sum()"
      ],
      "metadata": {
        "colab": {
          "base_uri": "https://localhost:8080/"
        },
        "id": "eSuEANfgUvZ_",
        "outputId": "227d819e-b504-4b22-e2a5-87ee2e051e1e"
      },
      "execution_count": 11,
      "outputs": [
        {
          "output_type": "execute_result",
          "data": {
            "text/plain": [
              "0"
            ]
          },
          "metadata": {},
          "execution_count": 11
        }
      ]
    },
    {
      "cell_type": "markdown",
      "source": [
        "* That's great! The dataset has no duplicated rows!"
      ],
      "metadata": {
        "id": "auQpwkzcVgyA"
      }
    },
    {
      "cell_type": "markdown",
      "source": [
        "__Renaming Data Columns__"
      ],
      "metadata": {
        "id": "Wurfrg9JW3S1"
      }
    },
    {
      "cell_type": "code",
      "source": [
        "# rename the column male to gender to be more general\n",
        "df.rename(columns={\"male\": \"gender\"}, inplace= True)"
      ],
      "metadata": {
        "id": "0IfODRIDVpFd"
      },
      "execution_count": 12,
      "outputs": []
    },
    {
      "cell_type": "code",
      "source": [
        "# lowercase the columns names\n",
        "df.rename(columns = lambda X: X.lower(), inplace= True)\n",
        "df.columns"
      ],
      "metadata": {
        "colab": {
          "base_uri": "https://localhost:8080/"
        },
        "id": "KeQdXGU9XM4a",
        "outputId": "95e0f310-9b47-49a2-feb1-271426f92765"
      },
      "execution_count": 13,
      "outputs": [
        {
          "output_type": "execute_result",
          "data": {
            "text/plain": [
              "Index(['gender', 'age', 'education', 'currentsmoker', 'cigsperday', 'bpmeds',\n",
              "       'prevalentstroke', 'prevalenthyp', 'diabetes', 'totchol', 'sysbp',\n",
              "       'diabp', 'bmi', 'heartrate', 'glucose', 'tenyearchd'],\n",
              "      dtype='object')"
            ]
          },
          "metadata": {},
          "execution_count": 13
        }
      ]
    },
    {
      "cell_type": "code",
      "source": [
        "# separate the columns names\n",
        "df.rename(columns={\"currentsmoker\": \"current_smoker\", \"cigsperday\": \"cigs_per_day\", \n",
        "                   \"bpmeds\": \"bp_meds\",\"prevalentstroke\": \"prevalent_stroke\", \n",
        "                   \"prevalenthyp\": \"prevalent_hyp\",\"totchol\": \"tot_chol\", \n",
        "                   \"sysbp\": \"sys_bp\", \"diabp\": \"dia_bp\", \"heartrate\": \"heart_rate\"}, inplace= True)"
      ],
      "metadata": {
        "id": "RyidAps8Xlih"
      },
      "execution_count": 14,
      "outputs": []
    },
    {
      "cell_type": "code",
      "source": [
        "df.columns"
      ],
      "metadata": {
        "colab": {
          "base_uri": "https://localhost:8080/"
        },
        "id": "6CAf2cI3Zfnm",
        "outputId": "e60d94f2-10fd-4c90-93be-d94cff2ab98b"
      },
      "execution_count": 15,
      "outputs": [
        {
          "output_type": "execute_result",
          "data": {
            "text/plain": [
              "Index(['gender', 'age', 'education', 'current_smoker', 'cigs_per_day',\n",
              "       'bp_meds', 'prevalent_stroke', 'prevalent_hyp', 'diabetes', 'tot_chol',\n",
              "       'sys_bp', 'dia_bp', 'bmi', 'heart_rate', 'glucose', 'tenyearchd'],\n",
              "      dtype='object')"
            ]
          },
          "metadata": {},
          "execution_count": 15
        }
      ]
    },
    {
      "cell_type": "markdown",
      "source": [
        "* Now datasets columns are clean!"
      ],
      "metadata": {
        "id": "JQO-pfHOZkHe"
      }
    },
    {
      "cell_type": "markdown",
      "source": [
        "__Missing Data__"
      ],
      "metadata": {
        "id": "y4bnpF1KZsPZ"
      }
    },
    {
      "cell_type": "code",
      "source": [
        "# print number of NaN Values\n",
        "df.isnull().sum()"
      ],
      "metadata": {
        "colab": {
          "base_uri": "https://localhost:8080/"
        },
        "id": "M7Yv_kzZfdzI",
        "outputId": "c5319d90-957b-4565-f35c-9bd71f21f0aa"
      },
      "execution_count": 16,
      "outputs": [
        {
          "output_type": "execute_result",
          "data": {
            "text/plain": [
              "gender                0\n",
              "age                   0\n",
              "education           105\n",
              "current_smoker        0\n",
              "cigs_per_day         29\n",
              "bp_meds              53\n",
              "prevalent_stroke      0\n",
              "prevalent_hyp         0\n",
              "diabetes              0\n",
              "tot_chol             50\n",
              "sys_bp                0\n",
              "dia_bp                0\n",
              "bmi                  19\n",
              "heart_rate            1\n",
              "glucose             388\n",
              "tenyearchd            0\n",
              "dtype: int64"
            ]
          },
          "metadata": {},
          "execution_count": 16
        }
      ]
    },
    {
      "cell_type": "code",
      "source": [
        "# Taking care of missing data\n",
        "# import required library\n",
        "from sklearn.impute import SimpleImputer\n",
        "\n",
        "# Setting strategy for numrical data\n",
        "imputer = SimpleImputer(missing_values=np.nan, strategy='mean')"
      ],
      "metadata": {
        "id": "8Hb6CjN7ZoIL"
      },
      "execution_count": 17,
      "outputs": []
    },
    {
      "cell_type": "code",
      "source": [
        "# Choose only missing data columns of numerical data\n",
        "index = np.r_[4,9,12:15]\n",
        "\n",
        "# Apply my strategy on selected columns\n",
        "imputer = imputer.fit(df.iloc[:,index])\n",
        "\n",
        "# Transform my strategy on the data\n",
        "df.iloc[:,index] = imputer.transform(df.iloc[:,index])"
      ],
      "metadata": {
        "id": "8O57Z_yZaE6Y"
      },
      "execution_count": 18,
      "outputs": []
    },
    {
      "cell_type": "code",
      "source": [
        "# Setting strategy for nominal data\n",
        "imputer = SimpleImputer(missing_values=np.nan, strategy='most_frequent')"
      ],
      "metadata": {
        "id": "XINKOFl3d8Rs"
      },
      "execution_count": 19,
      "outputs": []
    },
    {
      "cell_type": "code",
      "source": [
        "# Choose only missing data columns of nominal data\n",
        "index = np.r_[2, 5]"
      ],
      "metadata": {
        "id": "H2wfSuXoeNaG"
      },
      "execution_count": 20,
      "outputs": []
    },
    {
      "cell_type": "code",
      "source": [
        "# Apply my strategy on selected columns\n",
        "imputer = imputer.fit(df.iloc[:,index])\n",
        "\n",
        "# Transform my strategy on the data\n",
        "df.iloc[:,index] = imputer.transform(df.iloc[:,index])"
      ],
      "metadata": {
        "id": "9Y_HEu9reNig"
      },
      "execution_count": 21,
      "outputs": []
    },
    {
      "cell_type": "code",
      "source": [
        "# Check for any NaN Values\n",
        "df.isnull().sum().any()"
      ],
      "metadata": {
        "colab": {
          "base_uri": "https://localhost:8080/"
        },
        "id": "yDYhNUBqfMnR",
        "outputId": "b3ae7105-1ad1-460f-9688-97d15e86aa3a"
      },
      "execution_count": 22,
      "outputs": [
        {
          "output_type": "execute_result",
          "data": {
            "text/plain": [
              "False"
            ]
          },
          "metadata": {},
          "execution_count": 22
        }
      ]
    },
    {
      "cell_type": "markdown",
      "source": [
        "* The dataset now has no missing data!"
      ],
      "metadata": {
        "id": "vIrMYKrEg_Lu"
      }
    },
    {
      "cell_type": "markdown",
      "source": [
        "__Incorrect Data Types__"
      ],
      "metadata": {
        "id": "nioxKMY2b6BG"
      }
    },
    {
      "cell_type": "code",
      "source": [
        "# Convert columns \"education\", \"bp_meds\" to np.int64\n",
        "df = df.astype({\"education\": np.int64, \"bp_meds\": np.int64})\n",
        "df.dtypes"
      ],
      "metadata": {
        "colab": {
          "base_uri": "https://localhost:8080/"
        },
        "id": "KOxax2kqcBAg",
        "outputId": "61fc7c37-2370-4f0f-8fbe-a39748ad9d0d"
      },
      "execution_count": 23,
      "outputs": [
        {
          "output_type": "execute_result",
          "data": {
            "text/plain": [
              "gender                int64\n",
              "age                   int64\n",
              "education             int64\n",
              "current_smoker        int64\n",
              "cigs_per_day        float64\n",
              "bp_meds               int64\n",
              "prevalent_stroke      int64\n",
              "prevalent_hyp         int64\n",
              "diabetes              int64\n",
              "tot_chol            float64\n",
              "sys_bp              float64\n",
              "dia_bp              float64\n",
              "bmi                 float64\n",
              "heart_rate          float64\n",
              "glucose             float64\n",
              "tenyearchd            int64\n",
              "dtype: object"
            ]
          },
          "metadata": {},
          "execution_count": 23
        }
      ]
    },
    {
      "cell_type": "markdown",
      "source": [
        "* Columns \"education\", \"bp_meds\" have correct data types now!"
      ],
      "metadata": {
        "id": "138-mSGOhM1A"
      }
    },
    {
      "cell_type": "markdown",
      "source": [
        "__Removing Outliers__"
      ],
      "metadata": {
        "id": "EEbsHOVEegGY"
      }
    },
    {
      "cell_type": "code",
      "source": [
        "Index = np.r_[1,4,9:15]\n",
        "plt.figure(figsize=(16,5))\n",
        "df.iloc[:,Index].boxplot()\n",
        "plt.title(\"Distribution of the values ​​of all potential predictors\")\n",
        "plt.show()"
      ],
      "metadata": {
        "colab": {
          "base_uri": "https://localhost:8080/",
          "height": 0
        },
        "id": "3zvZDnTgehGP",
        "outputId": "c949fc0e-3342-4a36-d760-49332cb62167"
      },
      "execution_count": 24,
      "outputs": [
        {
          "output_type": "display_data",
          "data": {
            "text/plain": [
              "<Figure size 1152x360 with 1 Axes>"
            ],
            "image/png": "[encoded data removed]"
          },
          "metadata": {
            "needs_background": "light"
          }
        }
      ]
    },
    {
      "cell_type": "code",
      "source": [
        "outliers = ['age','cigs_per_day', 'tot_chol', 'sys_bp','dia_bp', 'bmi', 'heart_rate', 'glucose']\n",
        "for column in outliers:\n",
        "  Q1,Q3 = np.percentile(df[column],[25,75])\n",
        "  IQR = Q3 - Q1\n",
        "  lower_fence = Q1 - (1.5*IQR)\n",
        "  upper_fence = Q3 + (1.5*IQR)  \n",
        "  df[column] = df[column].apply(lambda x: upper_fence if x>upper_fence\n",
        "                                              else lower_fence if x<lower_fence else x)"
      ],
      "metadata": {
        "id": "IXr5cQyCehO3"
      },
      "execution_count": 25,
      "outputs": []
    },
    {
      "cell_type": "code",
      "source": [
        "plt.figure(figsize=(16,5))\n",
        "sns.boxplot(data=df.iloc[:,Index])\n",
        "plt.title(\"Distribution of the values ​​of all potential predictors\")\n",
        "plt.grid()\n",
        "plt.show()"
      ],
      "metadata": {
        "colab": {
          "base_uri": "https://localhost:8080/",
          "height": 0
        },
        "id": "YWyzCEzkfG-s",
        "outputId": "e5788ceb-b716-4010-841d-ca466d7535ca"
      },
      "execution_count": 26,
      "outputs": [
        {
          "output_type": "display_data",
          "data": {
            "text/plain": [
              "<Figure size 1152x360 with 1 Axes>"
            ],
            "image/png": "[encoded data removed]"
          },
          "metadata": {
            "needs_background": "light"
          }
        }
      ]
    },
    {
      "cell_type": "markdown",
      "source": [
        "* Now the dataset is clean and can be saved for future work."
      ],
      "metadata": {
        "id": "K_vsH4_5jTgi"
      }
    },
    {
      "cell_type": "code",
      "source": [
        "df.to_csv('framingham_clean.csv', index=False)"
      ],
      "metadata": {
        "id": "AR1V3jjQjr0x"
      },
      "execution_count": 27,
      "outputs": []
    },
    {
      "cell_type": "code",
      "source": [
        "df_clean = pd.read_csv('framingham_clean.csv')\n",
        "df_clean.head()"
      ],
      "metadata": {
        "colab": {
          "base_uri": "https://localhost:8080/",
          "height": 0
        },
        "id": "cczBrhOSkHSs",
        "outputId": "56e1bc4d-ce45-48eb-9e58-996122679b3e"
      },
      "execution_count": 28,
      "outputs": [
        {
          "output_type": "execute_result",
          "data": {
            "text/plain": [
              "   gender  age  education  current_smoker  cigs_per_day  bp_meds  \\\n",
              "0       1   39          4               0           0.0        0   \n",
              "1       0   46          2               0           0.0        0   \n",
              "2       1   48          1               1          20.0        0   \n",
              "3       0   61          3               1          30.0        0   \n",
              "4       0   46          3               1          23.0        0   \n",
              "\n",
              "   prevalent_stroke  prevalent_hyp  diabetes  tot_chol  sys_bp  dia_bp    bmi  \\\n",
              "0                 0              0         0     195.0   106.0    70.0  26.97   \n",
              "1                 0              0         0     250.0   121.0    81.0  28.73   \n",
              "2                 0              0         0     245.0   127.5    80.0  25.34   \n",
              "3                 0              1         0     225.0   150.0    95.0  28.58   \n",
              "4                 0              0         0     285.0   130.0    84.0  23.10   \n",
              "\n",
              "   heart_rate  glucose  tenyearchd  \n",
              "0        80.0     77.0           0  \n",
              "1        95.0     76.0           0  \n",
              "2        75.0     70.0           0  \n",
              "3        65.0    103.0           1  \n",
              "4        85.0     85.0           0  "
            ],
            "text/html": [
              "\n",
              "  <div id=\"df-cdf59ef1-5cea-45d1-a263-72466fc5f7f3\">\n",
              "    <div class=\"colab-df-container\">\n",
              "      <div>\n",
              "<style scoped>\n",
              "    .dataframe tbody tr th:only-of-type {\n",
              "        vertical-align: middle;\n",
              "    }\n",
              "\n",
              "    .dataframe tbody tr th {\n",
              "        vertical-align: top;\n",
              "    }\n",
              "\n",
              "    .dataframe thead th {\n",
              "        text-align: right;\n",
              "    }\n",
              "</style>\n",
              "<table border=\"1\" class=\"dataframe\">\n",
              "  <thead>\n",
              "    <tr style=\"text-align: right;\">\n",
              "      <th></th>\n",
              "      <th>gender</th>\n",
              "      <th>age</th>\n",
              "      <th>education</th>\n",
              "      <th>current_smoker</th>\n",
              "      <th>cigs_per_day</th>\n",
              "      <th>bp_meds</th>\n",
              "      <th>prevalent_stroke</th>\n",
              "      <th>prevalent_hyp</th>\n",
              "      <th>diabetes</th>\n",
              "      <th>tot_chol</th>\n",
              "      <th>sys_bp</th>\n",
              "      <th>dia_bp</th>\n",
              "      <th>bmi</th>\n",
              "      <th>heart_rate</th>\n",
              "      <th>glucose</th>\n",
              "      <th>tenyearchd</th>\n",
              "    </tr>\n",
              "  </thead>\n",
              "  <tbody>\n",
              "    <tr>\n",
              "      <th>0</th>\n",
              "      <td>1</td>\n",
              "      <td>39</td>\n",
              "      <td>4</td>\n",
              "      <td>0</td>\n",
              "      <td>0.0</td>\n",
              "      <td>0</td>\n",
              "      <td>0</td>\n",
              "      <td>0</td>\n",
              "      <td>0</td>\n",
              "      <td>195.0</td>\n",
              "      <td>106.0</td>\n",
              "      <td>70.0</td>\n",
              "      <td>26.97</td>\n",
              "      <td>80.0</td>\n",
              "      <td>77.0</td>\n",
              "      <td>0</td>\n",
              "    </tr>\n",
              "    <tr>\n",
              "      <th>1</th>\n",
              "      <td>0</td>\n",
              "      <td>46</td>\n",
              "      <td>2</td>\n",
              "      <td>0</td>\n",
              "      <td>0.0</td>\n",
              "      <td>0</td>\n",
              "      <td>0</td>\n",
              "      <td>0</td>\n",
              "      <td>0</td>\n",
              "      <td>250.0</td>\n",
              "      <td>121.0</td>\n",
              "      <td>81.0</td>\n",
              "      <td>28.73</td>\n",
              "      <td>95.0</td>\n",
              "      <td>76.0</td>\n",
              "      <td>0</td>\n",
              "    </tr>\n",
              "    <tr>\n",
              "      <th>2</th>\n",
              "      <td>1</td>\n",
              "      <td>48</td>\n",
              "      <td>1</td>\n",
              "      <td>1</td>\n",
              "      <td>20.0</td>\n",
              "      <td>0</td>\n",
              "      <td>0</td>\n",
              "      <td>0</td>\n",
              "      <td>0</td>\n",
              "      <td>245.0</td>\n",
              "      <td>127.5</td>\n",
              "      <td>80.0</td>\n",
              "      <td>25.34</td>\n",
              "      <td>75.0</td>\n",
              "      <td>70.0</td>\n",
              "      <td>0</td>\n",
              "    </tr>\n",
              "    <tr>\n",
              "      <th>3</th>\n",
              "      <td>0</td>\n",
              "      <td>61</td>\n",
              "      <td>3</td>\n",
              "      <td>1</td>\n",
              "      <td>30.0</td>\n",
              "      <td>0</td>\n",
              "      <td>0</td>\n",
              "      <td>1</td>\n",
              "      <td>0</td>\n",
              "      <td>225.0</td>\n",
              "      <td>150.0</td>\n",
              "      <td>95.0</td>\n",
              "      <td>28.58</td>\n",
              "      <td>65.0</td>\n",
              "      <td>103.0</td>\n",
              "      <td>1</td>\n",
              "    </tr>\n",
              "    <tr>\n",
              "      <th>4</th>\n",
              "      <td>0</td>\n",
              "      <td>46</td>\n",
              "      <td>3</td>\n",
              "      <td>1</td>\n",
              "      <td>23.0</td>\n",
              "      <td>0</td>\n",
              "      <td>0</td>\n",
              "      <td>0</td>\n",
              "      <td>0</td>\n",
              "      <td>285.0</td>\n",
              "      <td>130.0</td>\n",
              "      <td>84.0</td>\n",
              "      <td>23.10</td>\n",
              "      <td>85.0</td>\n",
              "      <td>85.0</td>\n",
              "      <td>0</td>\n",
              "    </tr>\n",
              "  </tbody>\n",
              "</table>\n",
              "</div>\n",
              "      <button class=\"colab-df-convert\" onclick=\"convertToInteractive('df-cdf59ef1-5cea-45d1-a263-72466fc5f7f3')\"\n",
              "              title=\"Convert this dataframe to an interactive table.\"\n",
              "              style=\"display:none;\">\n",
              "        \n",
              "  <svg xmlns=\"http://www.w3.org/2000/svg\" height=\"24px\"viewBox=\"0 0 24 24\"\n",
              "       width=\"24px\">\n",
              "    <path d=\"M0 0h24v24H0V0z\" fill=\"none\"/>\n",
              "    <path d=\"M18.56 5.44l.94 2.06.94-2.06 2.06-.94-2.06-.94-.94-2.06-.94 2.06-2.06.94zm-11 1L8.5 8.5l.94-2.06 2.06-.94-2.06-.94L8.5 2.5l-.94 2.06-2.06.94zm10 10l.94 2.06.94-2.06 2.06-.94-2.06-.94-.94-2.06-.94 2.06-2.06.94z\"/><path d=\"M17.41 7.96l-1.37-1.37c-.4-.4-.92-.59-1.43-.59-.52 0-1.04.2-1.43.59L10.3 9.45l-7.72 7.72c-.78.78-.78 2.05 0 2.83L4 21.41c.39.39.9.59 1.41.59.51 0 1.02-.2 1.41-.59l7.78-7.78 2.81-2.81c.8-.78.8-2.07 0-2.86zM5.41 20L4 18.59l7.72-7.72 1.47 1.35L5.41 20z\"/>\n",
              "  </svg>\n",
              "      </button>\n",
              "      \n",
              "  <style>\n",
              "    .colab-df-container {\n",
              "      display:flex;\n",
              "      flex-wrap:wrap;\n",
              "      gap: 12px;\n",
              "    }\n",
              "\n",
              "    .colab-df-convert {\n",
              "      background-color: #E8F0FE;\n",
              "      border: none;\n",
              "      border-radius: 50%;\n",
              "      cursor: pointer;\n",
              "      display: none;\n",
              "      fill: #1967D2;\n",
              "      height: 32px;\n",
              "      padding: 0 0 0 0;\n",
              "      width: 32px;\n",
              "    }\n",
              "\n",
              "    .colab-df-convert:hover {\n",
              "      background-color: #E2EBFA;\n",
              "      box-shadow: 0px 1px 2px rgba(60, 64, 67, 0.3), 0px 1px 3px 1px rgba(60, 64, 67, 0.15);\n",
              "      fill: #174EA6;\n",
              "    }\n",
              "\n",
              "    [theme=dark] .colab-df-convert {\n",
              "      background-color: #3B4455;\n",
              "      fill: #D2E3FC;\n",
              "    }\n",
              "\n",
              "    [theme=dark] .colab-df-convert:hover {\n",
              "      background-color: #434B5C;\n",
              "      box-shadow: 0px 1px 3px 1px rgba(0, 0, 0, 0.15);\n",
              "      filter: drop-shadow(0px 1px 2px rgba(0, 0, 0, 0.3));\n",
              "      fill: #FFFFFF;\n",
              "    }\n",
              "  </style>\n",
              "\n",
              "      <script>\n",
              "        const buttonEl =\n",
              "          document.querySelector('#df-cdf59ef1-5cea-45d1-a263-72466fc5f7f3 button.colab-df-convert');\n",
              "        buttonEl.style.display =\n",
              "          google.colab.kernel.accessAllowed ? 'block' : 'none';\n",
              "\n",
              "        async function convertToInteractive(key) {\n",
              "          const element = document.querySelector('#df-cdf59ef1-5cea-45d1-a263-72466fc5f7f3');\n",
              "          const dataTable =\n",
              "            await google.colab.kernel.invokeFunction('convertToInteractive',\n",
              "                                                     [key], {});\n",
              "          if (!dataTable) return;\n",
              "\n",
              "          const docLinkHtml = 'Like what you see? Visit the ' +\n",
              "            '<a target=\"_blank\" href=https://colab.research.google.com/notebooks/data_table.ipynb>data table notebook</a>'\n",
              "            + ' to learn more about interactive tables.';\n",
              "          element.innerHTML = '';\n",
              "          dataTable['output_type'] = 'display_data';\n",
              "          await google.colab.output.renderOutput(dataTable, element);\n",
              "          const docLink = document.createElement('div');\n",
              "          docLink.innerHTML = docLinkHtml;\n",
              "          element.appendChild(docLink);\n",
              "        }\n",
              "      </script>\n",
              "    </div>\n",
              "  </div>\n",
              "  "
            ]
          },
          "metadata": {},
          "execution_count": 28
        }
      ]
    },
    {
      "cell_type": "markdown",
      "source": [
        "### Feature Scaling "
      ],
      "metadata": {
        "id": "S2dQuE9FiNws"
      }
    },
    {
      "cell_type": "code",
      "source": [
        "# Scaling for making close variables values from each other\n",
        "from sklearn.preprocessing import StandardScaler\n",
        "scaler = StandardScaler()\n",
        "# choose index for only scaling numerical data\n",
        "index = np.r_[1,4,9:15]\n",
        "df.iloc[:, index] = scaler.fit_transform(df.iloc[:, index]) # apply fit() on X_train and transform fit on X_train "
      ],
      "metadata": {
        "id": "99lFLzP9iQJS"
      },
      "execution_count": 29,
      "outputs": []
    },
    {
      "cell_type": "code",
      "source": [
        "print(df.iloc[0,:])"
      ],
      "metadata": {
        "colab": {
          "base_uri": "https://localhost:8080/"
        },
        "id": "Oateuvw2jBGW",
        "outputId": "6871f524-9d4b-4b37-cb82-12a3b12602bf"
      },
      "execution_count": 30,
      "outputs": [
        {
          "output_type": "stream",
          "name": "stdout",
          "text": [
            "gender              1.000000\n",
            "age                -1.234951\n",
            "education           4.000000\n",
            "current_smoker      0.000000\n",
            "cigs_per_day       -0.763194\n",
            "bp_meds             0.000000\n",
            "prevalent_stroke    0.000000\n",
            "prevalent_hyp       0.000000\n",
            "diabetes            0.000000\n",
            "tot_chol           -0.974747\n",
            "sys_bp             -1.255196\n",
            "dia_bp             -1.118089\n",
            "bmi                 0.330699\n",
            "heart_rate          0.365617\n",
            "glucose            -0.245553\n",
            "tenyearchd          0.000000\n",
            "Name: 0, dtype: float64\n"
          ]
        }
      ]
    },
    {
      "cell_type": "code",
      "source": [
        "plt.figure(figsize=(16,5))\n",
        "sns.boxplot(data=df.iloc[:,Index])\n",
        "plt.title(\"Distribution of the values ​​of all potential standardized predictors\")\n",
        "plt.grid()\n",
        "plt.show()"
      ],
      "metadata": {
        "id": "jygVvRg5SIxl",
        "colab": {
          "base_uri": "https://localhost:8080/",
          "height": 0
        },
        "outputId": "a19be123-e7f9-4dc0-acfb-5617235a38d0"
      },
      "execution_count": 31,
      "outputs": [
        {
          "output_type": "display_data",
          "data": {
            "text/plain": [
              "<Figure size 1152x360 with 1 Axes>"
            ],
            "image/png": "[encoded data removed]"
          },
          "metadata": {
            "needs_background": "light"
          }
        }
      ]
    },
    {
      "cell_type": "markdown",
      "source": [
        "### Splitting the dataset"
      ],
      "metadata": {
        "id": "O9n0kftThynV"
      }
    },
    {
      "cell_type": "code",
      "source": [
        "# independant and dependant variables\n",
        "X = df.iloc[:,:-1].values # independent variables\n",
        "y = df.iloc[:,-1].values # dependent variable"
      ],
      "metadata": {
        "id": "9PqBjTZphToT"
      },
      "execution_count": 32,
      "outputs": []
    },
    {
      "cell_type": "code",
      "source": [
        "# Check whether the dataset is equally splitted or no\n",
        "from collections import Counter\n",
        "Counter(y)"
      ],
      "metadata": {
        "colab": {
          "base_uri": "https://localhost:8080/"
        },
        "id": "M7NX7i0NiFuZ",
        "outputId": "e95a66f1-1b41-4096-8a51-55d92165f1ec"
      },
      "execution_count": 33,
      "outputs": [
        {
          "output_type": "execute_result",
          "data": {
            "text/plain": [
              "Counter({0: 3594, 1: 644})"
            ]
          },
          "metadata": {},
          "execution_count": 33
        }
      ]
    },
    {
      "cell_type": "markdown",
      "source": [
        "<a id='building'></a>\n",
        "## Model Building\n"
      ],
      "metadata": {
        "id": "sRfMCzJvvozz"
      }
    },
    {
      "cell_type": "code",
      "source": [
        "from sklearn.linear_model import LogisticRegression\n",
        "from sklearn.neighbors import KNeighborsClassifier\n",
        "from sklearn.svm import SVC\n",
        "from sklearn.naive_bayes import GaussianNB\n",
        "from sklearn.tree import DecisionTreeClassifier\n",
        "from sklearn.ensemble import RandomForestClassifier\n",
        "from sklearn.metrics import accuracy_score, recall_score\n",
        "from sklearn.model_selection import train_test_split"
      ],
      "metadata": {
        "id": "aHD5yz_ZN2wD"
      },
      "execution_count": 34,
      "outputs": []
    },
    {
      "cell_type": "code",
      "source": [
        "classifiers = []\n",
        "classifiers.append((\"LR\",LogisticRegression()))\n",
        "classifiers.append((\"NB\",GaussianNB()))\n",
        "classifiers.append((\"DT\",DecisionTreeClassifier(random_state = 0)))\n",
        "classifiers.append((\"RF\",RandomForestClassifier(random_state = 0)))\n",
        "classifiers.append((\"SVM\",SVC()))\n",
        "classifiers.append((\"KNN\", KNeighborsClassifier()))\n",
        "scores = []\n",
        "clf_names = []\n"
      ],
      "metadata": {
        "id": "Fp1Wm_9_XA6b"
      },
      "execution_count": 35,
      "outputs": []
    },
    {
      "cell_type": "code",
      "source": [
        "my_list = [ 0.2, 0.25, 0.33, 0.4]\n",
        "for clf in classifiers:\n",
        "  score = 0\n",
        "  recall = 0\n",
        "  for p in my_list:\n",
        "    for i in range(101):\n",
        "      X_train, X_test, y_train, y_test = train_test_split(X, y, test_size = p, random_state = i)\n",
        "      classifier = clf[1]\n",
        "      classifier.fit(X_train,y_train)\n",
        "      y_pred = classifier.predict(X_test)\n",
        "      acc_score = (accuracy_score(y_test,y_pred)*100).round(2)\n",
        "      rec_score = recall_score(y_test,y_pred)\n",
        "      if acc_score > score:\n",
        "          score = acc_score\n",
        "          recall = rec_score\n",
        "          paramters = (p, i, score, recall)\n",
        "  p, i, score, recall = paramters\n",
        "  print(\"classifier = {}, P = {}, i = {}, score = {}, recall = {}\".format(classifier, p,i,score, recall))"
      ],
      "metadata": {
        "colab": {
          "base_uri": "https://localhost:8080/"
        },
        "id": "Lcac3_CwXGz_",
        "outputId": "ba09ef53-3563-459b-dee4-f8e9d1dd3a78"
      },
      "execution_count": null,
      "outputs": [
        {
          "output_type": "stream",
          "name": "stdout",
          "text": [
            "classifier = LogisticRegression(), P = 0.2, i = 68, score = 87.62, recall = 0.037383177570093455\n",
            "classifier = GaussianNB(), P = 0.2, i = 64, score = 85.02, recall = 0.23333333333333334\n",
            "classifier = DecisionTreeClassifier(random_state=0), P = 0.2, i = 82, score = 79.25, recall = 0.2727272727272727\n",
            "classifier = RandomForestClassifier(random_state=0), P = 0.2, i = 68, score = 87.26, recall = 0.037383177570093455\n",
            "classifier = SVC(), P = 0.2, i = 68, score = 87.5, recall = 0.009345794392523364\n",
            "classifier = KNeighborsClassifier(), P = 0.2, i = 68, score = 86.2, recall = 0.056074766355140186\n"
          ]
        }
      ]
    },
    {
      "cell_type": "code",
      "source": [
        "# Applying GridSearch on the dataset to Check the best paramters for our Classification\n",
        "from sklearn.model_selection import RepeatedStratifiedKFold, GridSearchCV\n",
        "for classifier_name, classifier in classifiers:\n",
        "    cv = RepeatedStratifiedKFold(n_splits=5, n_repeats=3, random_state=0)\n",
        "    if classifier_name == \"LR\" : \n",
        "        parameters = [{'solver' : ['newton-cg', 'lbfgs'], 'penalty' : ['l2'], \n",
        "                       'C':[100, 10, 1, 0.1, 0.01],'multi_class':['auto', 'ovr', 'multinomial']},\n",
        "                      {'solver': ['liblinear'],'penalty' : ['l1', 'l2'],\n",
        "                       'C':[100, 10, 1, 0.1, 0.01],'multi_class':['auto', 'ovr'],'random_state':[0,1,42]}]\n",
        "    elif classifier_name == \"NB\" : \n",
        "        continue           \n",
        "    elif classifier_name == \"DT\" :\n",
        "        parameters = [{'criterion' : ['gini', 'entropy'],'random_state':[ 0, 1, 12, 42],\n",
        "                        'splitter':['best', 'random'], 'max_features': ['sqrt', 'log2']}]\n",
        "    elif classifier_name == \"RF\" :\n",
        "        parameters = [{'bootstrap':[True], 'criterion' : ['gini', 'entropy'], 'n_estimators':[10,15,20,25],\n",
        "                        'max_depth':[110,130,150,170], 'random_state':[ 0, 1 , 42],\n",
        "                       'min_samples_leaf':[7,9,11,13],'min_samples_split':[8,12,14],'max_features': ['sqrt', 'log2']}]\n",
        "    elif classifier_name == \"SVM\" :\n",
        "        parameters = [{'C':[100, 10, 1, 0.1, 0.01], 'gamma' : ['auto', 'scale'],\n",
        "                       'kernel': ['poly', 'rbf', 'sigmoid']}]    \n",
        "    elif classifier_name == \"KNN\" :\n",
        "        parameters = [{'n_neighbors': range(1, 21, 2),\n",
        "                       'weights' : ['uniform', 'distance'],'n_jobs': [-1],\n",
        "                       'algorithm' : ['auto', 'ball_tree', 'kd_tree','brute']}]\n",
        "    grid_search= GridSearchCV(estimator = classifier,\n",
        "                              param_grid = parameters,\n",
        "                              scoring = 'accuracy',\n",
        "                              cv = cv, n_jobs = -1)\n",
        "    grid_search = grid_search.fit(X, y)\n",
        "    best_accuracy = grid_search.best_score_\n",
        "    best_parameters = grid_search.best_params_\n",
        "    print(classifier_name,\" (best score) : \", best_accuracy)\n",
        "    print(\"best parameters : \", best_parameters)"
      ],
      "metadata": {
        "colab": {
          "base_uri": "https://localhost:8080/"
        },
        "id": "QHQ6wM5kusP_",
        "outputId": "4e86aef8-ac82-487e-ad63-d1dc8e469514"
      },
      "execution_count": null,
      "outputs": [
        {
          "output_type": "stream",
          "name": "stdout",
          "text": [
            "LR  (best score) :  0.8526823305339597\n",
            "best parameters :  {'C': 0.1, 'multi_class': 'auto', 'penalty': 'l2', 'solver': 'newton-cg'}\n",
            "DT  (best score) :  0.7672632970231598\n",
            "best parameters :  {'criterion': 'entropy', 'max_features': 'sqrt', 'random_state': 42, 'splitter': 'random'}\n",
            "RF  (best score) :  0.8498511208631278\n",
            "best parameters :  {'bootstrap': True, 'criterion': 'entropy', 'max_depth': 110, 'max_features': 'sqrt', 'min_samples_leaf': 9, 'min_samples_split': 8, 'n_estimators': 25, 'random_state': 1}\n",
            "SVM  (best score) :  0.8511081471415947\n",
            "best parameters :  {'C': 10, 'gamma': 'auto', 'kernel': 'poly'}\n",
            "KNN  (best score) :  0.8489858769018289\n",
            "best parameters :  {'algorithm': 'auto', 'n_jobs': -1, 'n_neighbors': 19, 'weights': 'uniform'}\n"
          ]
        }
      ]
    },
    {
      "cell_type": "code",
      "source": [
        "classifiers = []\n",
        "classifiers.append((\"LR\",LogisticRegression( C =  0.1, multi_class = 'auto', penalty = 'l2', solver = 'newton-cg')))\n",
        "classifiers.append((\"NB\",GaussianNB()))\n",
        "classifiers.append((\"DT\",DecisionTreeClassifier(criterion = 'entropy', max_features = 'sqrt', random_state = 42, splitter = 'random')))\n",
        "classifiers.append((\"RF\",RandomForestClassifier(bootstrap  = True, criterion = 'entropy', max_depth = 110, max_features = 'sqrt', \n",
        "                                                min_samples_leaf = 9, min_samples_split = 8, n_estimators = 25, random_state = 1)))\n",
        "classifiers.append((\"SVM\",SVC(C = 10, gamma = 'auto', kernel = 'poly')))\n",
        "classifiers.append((\"KNN\", KNeighborsClassifier(algorithm = 'auto', n_jobs = -1, n_neighbors = 19, weights = 'uniform')))\n",
        "scores = []\n",
        "clf_names = []\n"
      ],
      "metadata": {
        "id": "nCVwYWJJxAKj"
      },
      "execution_count": 36,
      "outputs": []
    },
    {
      "cell_type": "code",
      "source": [
        "my_list = [ 0.2, 0.25, 0.33, 0.4]\n",
        "for clf in classifiers:\n",
        "  score = 0\n",
        "  recall = 0\n",
        "  for p in my_list:\n",
        "    for i in range(101):\n",
        "      X_train, X_test, y_train, y_test = train_test_split(X, y, test_size = p, random_state = i)\n",
        "      classifier = clf[1]\n",
        "      classifier.fit(X_train,y_train)\n",
        "      y_pred = classifier.predict(X_test)\n",
        "      acc_score = (accuracy_score(y_test,y_pred)*100).round(2)\n",
        "      rec_score = recall_score(y_test,y_pred)\n",
        "      if acc_score > score:\n",
        "          score = acc_score\n",
        "          recall = rec_score\n",
        "          paramters = (p, i, score, recall)\n",
        "  p, i, score, recall = paramters\n",
        "  print(\"classifier = {}, P = {}, i = {}, score = {}, recall = {}\".format(classifier, p,i,score, recall))"
      ],
      "metadata": {
        "colab": {
          "base_uri": "https://localhost:8080/"
        },
        "id": "LvncXjgu6a1A",
        "outputId": "e0181dc7-5077-4a55-c14c-e1a62f823e96"
      },
      "execution_count": 37,
      "outputs": [
        {
          "output_type": "stream",
          "name": "stdout",
          "text": [
            "classifier = LogisticRegression(C=0.1, solver='newton-cg'), P = 0.2, i = 68, score = 87.74, recall = 0.028037383177570093\n",
            "classifier = GaussianNB(), P = 0.2, i = 64, score = 85.02, recall = 0.23333333333333334\n",
            "classifier = DecisionTreeClassifier(criterion='entropy', max_features='sqrt',\n",
            "                       random_state=42, splitter='random'), P = 0.25, i = 21, score = 79.62, recall = 0.2605633802816901\n",
            "classifier = RandomForestClassifier(criterion='entropy', max_depth=110, max_features='sqrt',\n",
            "                       min_samples_leaf=9, min_samples_split=8, n_estimators=25,\n",
            "                       random_state=1), P = 0.2, i = 68, score = 87.26, recall = 0.0\n",
            "classifier = SVC(C=10, gamma='auto', kernel='poly'), P = 0.25, i = 21, score = 87.45, recall = 0.11267605633802817\n",
            "classifier = KNeighborsClassifier(n_jobs=-1, n_neighbors=19), P = 0.2, i = 68, score = 87.62, recall = 0.028037383177570093\n"
          ]
        }
      ]
    },
    {
      "cell_type": "markdown",
      "source": [
        "## Final Model"
      ],
      "metadata": {
        "id": "qkAsOwtSES8I"
      }
    },
    {
      "cell_type": "code",
      "source": [
        "X_train, X_test, y_train, y_test = train_test_split(X, y, test_size = 0.2, random_state = 68)\n",
        "X_train[0,:]"
      ],
      "metadata": {
        "colab": {
          "base_uri": "https://localhost:8080/"
        },
        "id": "L9By1oz5EjNb",
        "outputId": "fe462d04-b69a-4b70-aebf-8b3fc446b36b"
      },
      "execution_count": null,
      "outputs": [
        {
          "output_type": "execute_result",
          "data": {
            "text/plain": [
              "array([ 0.        , -0.53492781,  2.        ,  0.        , -0.76319442,\n",
              "        0.        ,  0.        ,  0.        ,  0.        ,  0.60948799,\n",
              "        0.05263866,  0.02341927, -0.93112671,  0.02144234,  1.06277504])"
            ]
          },
          "metadata": {},
          "execution_count": 40
        }
      ]
    },
    {
      "cell_type": "markdown",
      "source": [
        "### Logistic Regression"
      ],
      "metadata": {
        "id": "KoV9UcakEZg5"
      }
    },
    {
      "cell_type": "code",
      "source": [
        "lr_acc_clf = LogisticRegression(C =  0.1, multi_class = 'auto', penalty = 'l2', solver = 'newton-cg')\n",
        "lr_acc_clf.fit(X_train,y_train)\n",
        "lr_train_score = lr_acc_clf.score(X_train,y_train)\n",
        "lr_test_score = lr_acc_clf.score(X_test,y_test)\n",
        "print('Model Train Score: {} '.format(lr_train_score))\n",
        "print('Model Test Score: {} '.format(lr_test_score))\n",
        "y_pred_lr = lr_acc_clf.predict(X_test)\n",
        "lr_acc_score = (accuracy_score(y_test,y_pred_lr)*100).round(2)\n",
        "print(\"Logistic Regression Highest Accuarcy: {}% \".format(lr_acc_score))"
      ],
      "metadata": {
        "colab": {
          "base_uri": "https://localhost:8080/"
        },
        "id": "aApOm-WREXwF",
        "outputId": "35e814bd-1824-430c-bfbc-0fd1d809681d"
      },
      "execution_count": null,
      "outputs": [
        {
          "output_type": "stream",
          "name": "stdout",
          "text": [
            "Model Train Score: 0.8486725663716814 \n",
            "Model Test Score: 0.8773584905660378 \n",
            "Logistic Regression Highest Accuarcy: 87.74% \n"
          ]
        }
      ]
    },
    {
      "cell_type": "markdown",
      "source": [
        "### Random Forest"
      ],
      "metadata": {
        "id": "rdKJel1uEkXr"
      }
    },
    {
      "cell_type": "code",
      "source": [
        "rf_acc_clf = RandomForestClassifier(criterion='entropy', max_depth=110, max_features='sqrt',\n",
        "                                    min_samples_leaf=9, min_samples_split=8, n_estimators=25,\n",
        "                                    random_state=1)\n",
        "rf_acc_clf.fit(X_train,y_train)\n",
        "rf_train_score = rf_acc_clf.score(X_train,y_train)\n",
        "rf_test_score = rf_acc_clf.score(X_test,y_test)\n",
        "print('Model Train Score: {} '.format(rf_train_score))\n",
        "print('Model Test Score: {} '.format(rf_test_score))\n",
        "y_pred_rf = rf_acc_clf.predict(X_test)\n",
        "rf_acc_score = (accuracy_score(y_test,y_pred_rf)*100).round(2)\n",
        "print(\"Random Forest Highest Accuarcy: {}% \".format(rf_acc_score))"
      ],
      "metadata": {
        "colab": {
          "base_uri": "https://localhost:8080/"
        },
        "id": "rHXLngAQEphz",
        "outputId": "2d8d18fd-634c-413a-ca1f-ccb85f8c2376"
      },
      "execution_count": null,
      "outputs": [
        {
          "output_type": "stream",
          "name": "stdout",
          "text": [
            "Model Train Score: 0.8548672566371681 \n",
            "Model Test Score: 0.8726415094339622 \n",
            "Random Forest Highest Accuarcy: 87.26% \n"
          ]
        }
      ]
    },
    {
      "cell_type": "markdown",
      "source": [
        "### KNN Classifier"
      ],
      "metadata": {
        "id": "dqjat1JaEqlw"
      }
    },
    {
      "cell_type": "code",
      "source": [
        "knn_acc_clf = KNeighborsClassifier(algorithm = 'auto', n_jobs = -1, n_neighbors = 19, weights = 'uniform')\n",
        "knn_acc_clf.fit(X_train,y_train)\n",
        "knn_train_score = knn_acc_clf.score(X_train,y_train)\n",
        "knn_test_score = knn_acc_clf.score(X_test,y_test)\n",
        "print('Model Train Score: {}'.format(knn_train_score))\n",
        "print('Model Test Score: {}'.format(knn_test_score))\n",
        "y_pred_knn = knn_acc_clf.predict(X_test)\n",
        "knn_acc_score = (accuracy_score(y_test,y_pred_knn)*100).round(2)\n",
        "print(\"KNN Highest Accuarcy: {}% \".format(knn_acc_score))"
      ],
      "metadata": {
        "colab": {
          "base_uri": "https://localhost:8080/"
        },
        "id": "MTl4XpgHEuQr",
        "outputId": "195c14a5-858f-4d9a-d2a5-3fc32eeb7d3b"
      },
      "execution_count": null,
      "outputs": [
        {
          "output_type": "stream",
          "name": "stdout",
          "text": [
            "Model Train Score: 0.8448377581120944\n",
            "Model Test Score: 0.8761792452830188\n",
            "KNN Highest Accuarcy: 87.62% \n"
          ]
        }
      ]
    },
    {
      "cell_type": "markdown",
      "source": [
        "### Support Vector Machine"
      ],
      "metadata": {
        "id": "FbJmIS6mEycg"
      }
    },
    {
      "cell_type": "code",
      "source": [
        "X_train, X_test, y_train, y_test = train_test_split(X, y, test_size = 0.25, random_state = 21)\n",
        "X_train[0,:]"
      ],
      "metadata": {
        "colab": {
          "base_uri": "https://localhost:8080/"
        },
        "id": "PgtEkv55E3Ob",
        "outputId": "fe1dcc30-adfa-429e-ecf9-2eb535ce87af"
      },
      "execution_count": null,
      "outputs": [
        {
          "output_type": "execute_result",
          "data": {
            "text/plain": [
              "array([ 0.        ,  0.28176554,  2.        ,  0.        , -0.76319442,\n",
              "        0.        ,  0.        ,  1.        ,  1.        ,  2.59569274,\n",
              "        1.33625385,  0.98931109,  0.6738734 ,  0.19352984,  2.15304822])"
            ]
          },
          "metadata": {},
          "execution_count": 44
        }
      ]
    },
    {
      "cell_type": "code",
      "source": [
        "svc_acc_clf = SVC(C = 10, gamma = 'auto', kernel = 'poly')\n",
        "svc_acc_clf.fit(X_train,y_train)\n",
        "svc_train_score = svc_acc_clf.score(X_train,y_train)\n",
        "svc_test_score = svc_acc_clf.score(X_test,y_test)\n",
        "print('Model Train Score: {}'.format(svc_train_score))\n",
        "print('Model Test Score: {}'.format(svc_test_score))\n",
        "y_pred_svc = svc_acc_clf.predict(X_test)\n",
        "svc_acc_score = (accuracy_score(y_test,y_pred_svc)*100).round(2)\n",
        "print(\"SVC Highest Accuarcy: {}% \".format(svc_acc_score))"
      ],
      "metadata": {
        "colab": {
          "base_uri": "https://localhost:8080/"
        },
        "id": "LuUtbzKqE4Y0",
        "outputId": "8ca1315c-1e09-4bcf-f148-016cfd35458a"
      },
      "execution_count": null,
      "outputs": [
        {
          "output_type": "stream",
          "name": "stdout",
          "text": [
            "Model Train Score: 0.8624921334172435\n",
            "Model Test Score: 0.8745283018867924\n",
            "SVC Highest Accuarcy: 87.45% \n"
          ]
        }
      ]
    },
    {
      "cell_type": "markdown",
      "source": [
        "## Save Optimal Model\n"
      ],
      "metadata": {
        "id": "7eRwbQPRE7Zj"
      }
    },
    {
      "cell_type": "code",
      "source": [
        "import pickle\n",
        "filename = 'chd_10_years_risk_best_accuarcy_model.sav'\n",
        "pickle.dump(svc_acc_clf, open(filename, 'wb'))"
      ],
      "metadata": {
        "id": "AbwxunTmFB78"
      },
      "execution_count": null,
      "outputs": []
    }
  ]
}