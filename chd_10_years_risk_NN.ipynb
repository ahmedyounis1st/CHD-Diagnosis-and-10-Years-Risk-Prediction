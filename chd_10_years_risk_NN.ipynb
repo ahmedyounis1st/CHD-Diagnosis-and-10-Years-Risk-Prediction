{
  "nbformat": 4,
  "nbformat_minor": 0,
  "metadata": {
    "colab": {
      "name": "MLP_improved.ipynb",
      "provenance": []
    },
    "kernelspec": {
      "name": "python3",
      "display_name": "Python 3"
    },
    "language_info": {
      "name": "python"
    },
    "accelerator": "GPU"
  },
  "cells": [
    {
      "cell_type": "code",
      "source": [
        "# import pakcages and libraries needed for the project\n",
        "import numpy as np\n",
        "import pandas as pd\n",
        "import matplotlib.pyplot as plt\n",
        "import seaborn as sns\n",
        "%matplotlib inline\n",
        "sns.set_style('darkgrid')"
      ],
      "metadata": {
        "id": "3pmbg8BDJmfv"
      },
      "execution_count": 1,
      "outputs": []
    },
    {
      "cell_type": "code",
      "execution_count": 2,
      "metadata": {
        "id": "GyMccTAg2QoM"
      },
      "outputs": [],
      "source": [
        "from keras.models import Sequential\n",
        "from keras.layers import Dense\n",
        "\n",
        "from keras.metrics import RootMeanSquaredError\n",
        "\n",
        "from sklearn.preprocessing import scale"
      ]
    },
    {
      "cell_type": "code",
      "source": [
        "df = pd.read_csv('/content/framingham_clean_1.csv')\n",
        "df.head()"
      ],
      "metadata": {
        "colab": {
          "base_uri": "https://localhost:8080/",
          "height": 206
        },
        "id": "86GxR0GB3SJy",
        "outputId": "13941b49-5eb0-4f66-deff-32e1667ebba5"
      },
      "execution_count": 3,
      "outputs": [
        {
          "output_type": "execute_result",
          "data": {
            "text/plain": [
              "   gender  age  education  current_smoker  cigs_per_day  bp_meds  \\\n",
              "0       1   39          4               0           0.0        0   \n",
              "1       0   46          2               0           0.0        0   \n",
              "2       1   48          1               1          20.0        0   \n",
              "3       0   61          3               1          30.0        0   \n",
              "4       0   46          3               1          23.0        0   \n",
              "\n",
              "   prevalent_stroke  prevalent_hyp  diabetes  tot_chol  sys_bp  dia_bp    bmi  \\\n",
              "0                 0              0         0     195.0   106.0    70.0  26.97   \n",
              "1                 0              0         0     250.0   121.0    81.0  28.73   \n",
              "2                 0              0         0     245.0   127.5    80.0  25.34   \n",
              "3                 0              1         0     225.0   150.0    95.0  28.58   \n",
              "4                 0              0         0     285.0   130.0    84.0  23.10   \n",
              "\n",
              "   heart_rate  glucose  tenyearchd  \n",
              "0        80.0     77.0           0  \n",
              "1        95.0     76.0           0  \n",
              "2        75.0     70.0           0  \n",
              "3        65.0    103.0           1  \n",
              "4        85.0     85.0           0  "
            ],
            "text/html": [
              "\n",
              "  <div id=\"df-b74c7ae0-a449-45c1-ba44-958a016255c7\">\n",
              "    <div class=\"colab-df-container\">\n",
              "      <div>\n",
              "<style scoped>\n",
              "    .dataframe tbody tr th:only-of-type {\n",
              "        vertical-align: middle;\n",
              "    }\n",
              "\n",
              "    .dataframe tbody tr th {\n",
              "        vertical-align: top;\n",
              "    }\n",
              "\n",
              "    .dataframe thead th {\n",
              "        text-align: right;\n",
              "    }\n",
              "</style>\n",
              "<table border=\"1\" class=\"dataframe\">\n",
              "  <thead>\n",
              "    <tr style=\"text-align: right;\">\n",
              "      <th></th>\n",
              "      <th>gender</th>\n",
              "      <th>age</th>\n",
              "      <th>education</th>\n",
              "      <th>current_smoker</th>\n",
              "      <th>cigs_per_day</th>\n",
              "      <th>bp_meds</th>\n",
              "      <th>prevalent_stroke</th>\n",
              "      <th>prevalent_hyp</th>\n",
              "      <th>diabetes</th>\n",
              "      <th>tot_chol</th>\n",
              "      <th>sys_bp</th>\n",
              "      <th>dia_bp</th>\n",
              "      <th>bmi</th>\n",
              "      <th>heart_rate</th>\n",
              "      <th>glucose</th>\n",
              "      <th>tenyearchd</th>\n",
              "    </tr>\n",
              "  </thead>\n",
              "  <tbody>\n",
              "    <tr>\n",
              "      <th>0</th>\n",
              "      <td>1</td>\n",
              "      <td>39</td>\n",
              "      <td>4</td>\n",
              "      <td>0</td>\n",
              "      <td>0.0</td>\n",
              "      <td>0</td>\n",
              "      <td>0</td>\n",
              "      <td>0</td>\n",
              "      <td>0</td>\n",
              "      <td>195.0</td>\n",
              "      <td>106.0</td>\n",
              "      <td>70.0</td>\n",
              "      <td>26.97</td>\n",
              "      <td>80.0</td>\n",
              "      <td>77.0</td>\n",
              "      <td>0</td>\n",
              "    </tr>\n",
              "    <tr>\n",
              "      <th>1</th>\n",
              "      <td>0</td>\n",
              "      <td>46</td>\n",
              "      <td>2</td>\n",
              "      <td>0</td>\n",
              "      <td>0.0</td>\n",
              "      <td>0</td>\n",
              "      <td>0</td>\n",
              "      <td>0</td>\n",
              "      <td>0</td>\n",
              "      <td>250.0</td>\n",
              "      <td>121.0</td>\n",
              "      <td>81.0</td>\n",
              "      <td>28.73</td>\n",
              "      <td>95.0</td>\n",
              "      <td>76.0</td>\n",
              "      <td>0</td>\n",
              "    </tr>\n",
              "    <tr>\n",
              "      <th>2</th>\n",
              "      <td>1</td>\n",
              "      <td>48</td>\n",
              "      <td>1</td>\n",
              "      <td>1</td>\n",
              "      <td>20.0</td>\n",
              "      <td>0</td>\n",
              "      <td>0</td>\n",
              "      <td>0</td>\n",
              "      <td>0</td>\n",
              "      <td>245.0</td>\n",
              "      <td>127.5</td>\n",
              "      <td>80.0</td>\n",
              "      <td>25.34</td>\n",
              "      <td>75.0</td>\n",
              "      <td>70.0</td>\n",
              "      <td>0</td>\n",
              "    </tr>\n",
              "    <tr>\n",
              "      <th>3</th>\n",
              "      <td>0</td>\n",
              "      <td>61</td>\n",
              "      <td>3</td>\n",
              "      <td>1</td>\n",
              "      <td>30.0</td>\n",
              "      <td>0</td>\n",
              "      <td>0</td>\n",
              "      <td>1</td>\n",
              "      <td>0</td>\n",
              "      <td>225.0</td>\n",
              "      <td>150.0</td>\n",
              "      <td>95.0</td>\n",
              "      <td>28.58</td>\n",
              "      <td>65.0</td>\n",
              "      <td>103.0</td>\n",
              "      <td>1</td>\n",
              "    </tr>\n",
              "    <tr>\n",
              "      <th>4</th>\n",
              "      <td>0</td>\n",
              "      <td>46</td>\n",
              "      <td>3</td>\n",
              "      <td>1</td>\n",
              "      <td>23.0</td>\n",
              "      <td>0</td>\n",
              "      <td>0</td>\n",
              "      <td>0</td>\n",
              "      <td>0</td>\n",
              "      <td>285.0</td>\n",
              "      <td>130.0</td>\n",
              "      <td>84.0</td>\n",
              "      <td>23.10</td>\n",
              "      <td>85.0</td>\n",
              "      <td>85.0</td>\n",
              "      <td>0</td>\n",
              "    </tr>\n",
              "  </tbody>\n",
              "</table>\n",
              "</div>\n",
              "      <button class=\"colab-df-convert\" onclick=\"convertToInteractive('df-b74c7ae0-a449-45c1-ba44-958a016255c7')\"\n",
              "              title=\"Convert this dataframe to an interactive table.\"\n",
              "              style=\"display:none;\">\n",
              "        \n",
              "  <svg xmlns=\"http://www.w3.org/2000/svg\" height=\"24px\"viewBox=\"0 0 24 24\"\n",
              "       width=\"24px\">\n",
              "    <path d=\"M0 0h24v24H0V0z\" fill=\"none\"/>\n",
              "    <path d=\"M18.56 5.44l.94 2.06.94-2.06 2.06-.94-2.06-.94-.94-2.06-.94 2.06-2.06.94zm-11 1L8.5 8.5l.94-2.06 2.06-.94-2.06-.94L8.5 2.5l-.94 2.06-2.06.94zm10 10l.94 2.06.94-2.06 2.06-.94-2.06-.94-.94-2.06-.94 2.06-2.06.94z\"/><path d=\"M17.41 7.96l-1.37-1.37c-.4-.4-.92-.59-1.43-.59-.52 0-1.04.2-1.43.59L10.3 9.45l-7.72 7.72c-.78.78-.78 2.05 0 2.83L4 21.41c.39.39.9.59 1.41.59.51 0 1.02-.2 1.41-.59l7.78-7.78 2.81-2.81c.8-.78.8-2.07 0-2.86zM5.41 20L4 18.59l7.72-7.72 1.47 1.35L5.41 20z\"/>\n",
              "  </svg>\n",
              "      </button>\n",
              "      \n",
              "  <style>\n",
              "    .colab-df-container {\n",
              "      display:flex;\n",
              "      flex-wrap:wrap;\n",
              "      gap: 12px;\n",
              "    }\n",
              "\n",
              "    .colab-df-convert {\n",
              "      background-color: #E8F0FE;\n",
              "      border: none;\n",
              "      border-radius: 50%;\n",
              "      cursor: pointer;\n",
              "      display: none;\n",
              "      fill: #1967D2;\n",
              "      height: 32px;\n",
              "      padding: 0 0 0 0;\n",
              "      width: 32px;\n",
              "    }\n",
              "\n",
              "    .colab-df-convert:hover {\n",
              "      background-color: #E2EBFA;\n",
              "      box-shadow: 0px 1px 2px rgba(60, 64, 67, 0.3), 0px 1px 3px 1px rgba(60, 64, 67, 0.15);\n",
              "      fill: #174EA6;\n",
              "    }\n",
              "\n",
              "    [theme=dark] .colab-df-convert {\n",
              "      background-color: #3B4455;\n",
              "      fill: #D2E3FC;\n",
              "    }\n",
              "\n",
              "    [theme=dark] .colab-df-convert:hover {\n",
              "      background-color: #434B5C;\n",
              "      box-shadow: 0px 1px 3px 1px rgba(0, 0, 0, 0.15);\n",
              "      filter: drop-shadow(0px 1px 2px rgba(0, 0, 0, 0.3));\n",
              "      fill: #FFFFFF;\n",
              "    }\n",
              "  </style>\n",
              "\n",
              "      <script>\n",
              "        const buttonEl =\n",
              "          document.querySelector('#df-b74c7ae0-a449-45c1-ba44-958a016255c7 button.colab-df-convert');\n",
              "        buttonEl.style.display =\n",
              "          google.colab.kernel.accessAllowed ? 'block' : 'none';\n",
              "\n",
              "        async function convertToInteractive(key) {\n",
              "          const element = document.querySelector('#df-b74c7ae0-a449-45c1-ba44-958a016255c7');\n",
              "          const dataTable =\n",
              "            await google.colab.kernel.invokeFunction('convertToInteractive',\n",
              "                                                     [key], {});\n",
              "          if (!dataTable) return;\n",
              "\n",
              "          const docLinkHtml = 'Like what you see? Visit the ' +\n",
              "            '<a target=\"_blank\" href=https://colab.research.google.com/notebooks/data_table.ipynb>data table notebook</a>'\n",
              "            + ' to learn more about interactive tables.';\n",
              "          element.innerHTML = '';\n",
              "          dataTable['output_type'] = 'display_data';\n",
              "          await google.colab.output.renderOutput(dataTable, element);\n",
              "          const docLink = document.createElement('div');\n",
              "          docLink.innerHTML = docLinkHtml;\n",
              "          element.appendChild(docLink);\n",
              "        }\n",
              "      </script>\n",
              "    </div>\n",
              "  </div>\n",
              "  "
            ]
          },
          "metadata": {},
          "execution_count": 3
        }
      ]
    },
    {
      "cell_type": "code",
      "source": [
        "# Scaling for making close variables values from each other\n",
        "from sklearn.preprocessing import StandardScaler\n",
        "scaler = StandardScaler()\n",
        "# choose index for only scaling numerical data\n",
        "index = np.r_[1,4,9:15]\n",
        "df.iloc[:, index] = scaler.fit_transform(df.iloc[:, index]) # apply fit() on X_train and transform fit on X_train "
      ],
      "metadata": {
        "id": "zX0n0GsP3gtL"
      },
      "execution_count": 4,
      "outputs": []
    },
    {
      "cell_type": "code",
      "source": [
        "print(df.iloc[0,:])"
      ],
      "metadata": {
        "colab": {
          "base_uri": "https://localhost:8080/"
        },
        "id": "XK2pUQUB3n7O",
        "outputId": "6b62ddcb-3c62-4cc7-8b41-db02ed21202f"
      },
      "execution_count": 5,
      "outputs": [
        {
          "output_type": "stream",
          "name": "stdout",
          "text": [
            "gender              1.000000\n",
            "age                -1.234951\n",
            "education           4.000000\n",
            "current_smoker      0.000000\n",
            "cigs_per_day       -0.763194\n",
            "bp_meds             0.000000\n",
            "prevalent_stroke    0.000000\n",
            "prevalent_hyp       0.000000\n",
            "diabetes            0.000000\n",
            "tot_chol           -0.974747\n",
            "sys_bp             -1.255196\n",
            "dia_bp             -1.118089\n",
            "bmi                 0.330699\n",
            "heart_rate          0.365617\n",
            "glucose            -0.245553\n",
            "tenyearchd          0.000000\n",
            "Name: 0, dtype: float64\n"
          ]
        }
      ]
    },
    {
      "cell_type": "code",
      "source": [
        "plt.figure(figsize=(16,5))\n",
        "sns.boxplot(data=df.iloc[:,index])\n",
        "plt.title(\"Distribution of the values ​​of all potential standardized predictors\")\n",
        "plt.grid()\n",
        "plt.show()"
      ],
      "metadata": {
        "colab": {
          "base_uri": "https://localhost:8080/",
          "height": 337
        },
        "id": "jcJyV9hCJ1nz",
        "outputId": "fce1bb1e-5e14-4b08-ba9e-f0cfade8c474"
      },
      "execution_count": 6,
      "outputs": [
        {
          "output_type": "display_data",
          "data": {
            "text/plain": [
              "<Figure size 1152x360 with 1 Axes>"
            ],
            "image/png": "[encoded data removed]"
          },
          "metadata": {
            "needs_background": "light"
          }
        }
      ]
    },
    {
      "cell_type": "code",
      "source": [
        "# independant and dependant variables\n",
        "X = df.iloc[:,:-1].values # independent variables\n",
        "y = df.iloc[:,-1].values # dependent variable"
      ],
      "metadata": {
        "id": "k5_X-fXJM6JR"
      },
      "execution_count": 7,
      "outputs": []
    },
    {
      "cell_type": "code",
      "source": [
        "# Splitting the dataset into the Training set and Test set\n",
        "from sklearn.model_selection import train_test_split\n",
        "\n",
        "X_train, X_test, y_train, y_test = train_test_split(X, y, test_size = 0.2, random_state = 68)"
      ],
      "metadata": {
        "id": "9fOzY8MgNCnD"
      },
      "execution_count": 8,
      "outputs": []
    },
    {
      "cell_type": "code",
      "source": [
        "# Check whether the dataset is equally splitted or no\n",
        "from collections import Counter\n",
        "Counter(y_train)"
      ],
      "metadata": {
        "colab": {
          "base_uri": "https://localhost:8080/"
        },
        "id": "4UHBaIHqNFIQ",
        "outputId": "cda2afe5-175e-46ed-a214-602526d854e1"
      },
      "execution_count": 9,
      "outputs": [
        {
          "output_type": "execute_result",
          "data": {
            "text/plain": [
              "Counter({0: 2853, 1: 537})"
            ]
          },
          "metadata": {},
          "execution_count": 9
        }
      ]
    },
    {
      "cell_type": "code",
      "source": [
        "model = Sequential()\n",
        "\n",
        "# model.add(Dense(2046, activation='relu', input_shape=(15,)))\n",
        "# model.add(Dense(1024, activation='relu'))\n",
        "# model.add(Dense(512, activation='relu'))\n",
        "# model.add(Dense(256, activation='relu'))\n",
        "# model.add(Dense(128, activation='relu'))\n",
        "# model.add(Dense(64, activation='relu'))\n",
        "# model.add(Dense(64, activation='relu'))\n",
        "# Output Layer\n",
        "model.add(Dense(1, activation='sigmoid',  input_shape=(15,)))"
      ],
      "metadata": {
        "id": "LUQyP70j4Lcx"
      },
      "execution_count": 10,
      "outputs": []
    },
    {
      "cell_type": "code",
      "source": [
        "from tensorflow.keras import optimizers\n",
        "\n",
        "RMS = optimizers.RMSprop(\n",
        "    learning_rate=0.001,\n",
        "    rho=0.9,\n",
        "    momentum=0.0,\n",
        "    epsilon=1e-07,\n",
        "    centered=False,\n",
        "    name=\"RMSprop\"\n",
        "    )\n",
        "\n",
        "adam = optimizers.Adam(\n",
        "    learning_rate=0.002, \n",
        "    beta_1=0.9, \n",
        "    beta_2=0.999, \n",
        "    epsilon=1e-07, \n",
        "    decay=0.0,\n",
        "    name=\"adam\"\n",
        "    )\n",
        "\n",
        "lr_schedule = optimizers.schedules.ExponentialDecay(\n",
        "    initial_learning_rate=1e-2,\n",
        "    decay_steps=10000,\n",
        "    decay_rate=0.9)\n",
        "sgd = optimizers.SGD(learning_rate=lr_schedule, name ='sgd')"
      ],
      "metadata": {
        "id": "c_1DcVXRAcQ8"
      },
      "execution_count": 11,
      "outputs": []
    },
    {
      "cell_type": "code",
      "source": [
        "model.compile(optimizer='adam', loss='binary_crossentropy', metrics=['binary_accuracy'])"
      ],
      "metadata": {
        "id": "kzGJSyvY4jRZ"
      },
      "execution_count": 12,
      "outputs": []
    },
    {
      "cell_type": "code",
      "source": [
        "results = model.fit(\n",
        "    x = X_train,\n",
        "    y = y_train,\n",
        "    shuffle = True,\n",
        "    epochs = 100,\n",
        "    batch_size =32,\n",
        "    validation_data = (X_test, y_test)\n",
        ")"
      ],
      "metadata": {
        "colab": {
          "base_uri": "https://localhost:8080/"
        },
        "id": "FhxKknje5BP8",
        "outputId": "292f308e-0dda-4e36-e4ed-66797b210c83"
      },
      "execution_count": 13,
      "outputs": [
        {
          "output_type": "stream",
          "name": "stdout",
          "text": [
            "Epoch 1/100\n",
            "106/106 [==============================] - 3s 10ms/step - loss: 0.9402 - binary_accuracy: 0.4363 - val_loss: 0.8596 - val_binary_accuracy: 0.4788\n",
            "Epoch 2/100\n",
            "106/106 [==============================] - 1s 7ms/step - loss: 0.7672 - binary_accuracy: 0.5416 - val_loss: 0.7022 - val_binary_accuracy: 0.5837\n",
            "Epoch 3/100\n",
            "106/106 [==============================] - 1s 8ms/step - loss: 0.6452 - binary_accuracy: 0.6522 - val_loss: 0.5936 - val_binary_accuracy: 0.7052\n",
            "Epoch 4/100\n",
            "106/106 [==============================] - 1s 6ms/step - loss: 0.5651 - binary_accuracy: 0.7298 - val_loss: 0.5215 - val_binary_accuracy: 0.7866\n",
            "Epoch 5/100\n",
            "106/106 [==============================] - 1s 6ms/step - loss: 0.5148 - binary_accuracy: 0.7829 - val_loss: 0.4746 - val_binary_accuracy: 0.8325\n",
            "Epoch 6/100\n",
            "106/106 [==============================] - 1s 6ms/step - loss: 0.4837 - binary_accuracy: 0.8133 - val_loss: 0.4438 - val_binary_accuracy: 0.8514\n",
            "Epoch 7/100\n",
            "106/106 [==============================] - 1s 6ms/step - loss: 0.4639 - binary_accuracy: 0.8268 - val_loss: 0.4234 - val_binary_accuracy: 0.8691\n",
            "Epoch 8/100\n",
            "106/106 [==============================] - 1s 6ms/step - loss: 0.4506 - binary_accuracy: 0.8322 - val_loss: 0.4088 - val_binary_accuracy: 0.8703\n",
            "Epoch 9/100\n",
            "106/106 [==============================] - 1s 7ms/step - loss: 0.4415 - binary_accuracy: 0.8360 - val_loss: 0.3977 - val_binary_accuracy: 0.8715\n",
            "Epoch 10/100\n",
            "106/106 [==============================] - 1s 6ms/step - loss: 0.4349 - binary_accuracy: 0.8381 - val_loss: 0.3894 - val_binary_accuracy: 0.8738\n",
            "Epoch 11/100\n",
            "106/106 [==============================] - 1s 7ms/step - loss: 0.4300 - binary_accuracy: 0.8392 - val_loss: 0.3830 - val_binary_accuracy: 0.8726\n",
            "Epoch 12/100\n",
            "106/106 [==============================] - 1s 6ms/step - loss: 0.4263 - binary_accuracy: 0.8395 - val_loss: 0.3782 - val_binary_accuracy: 0.8726\n",
            "Epoch 13/100\n",
            "106/106 [==============================] - 1s 7ms/step - loss: 0.4233 - binary_accuracy: 0.8404 - val_loss: 0.3739 - val_binary_accuracy: 0.8738\n",
            "Epoch 14/100\n",
            "106/106 [==============================] - 1s 7ms/step - loss: 0.4210 - binary_accuracy: 0.8401 - val_loss: 0.3704 - val_binary_accuracy: 0.8738\n",
            "Epoch 15/100\n",
            "106/106 [==============================] - 1s 7ms/step - loss: 0.4190 - binary_accuracy: 0.8398 - val_loss: 0.3675 - val_binary_accuracy: 0.8738\n",
            "Epoch 16/100\n",
            "106/106 [==============================] - 1s 7ms/step - loss: 0.4175 - binary_accuracy: 0.8416 - val_loss: 0.3653 - val_binary_accuracy: 0.8750\n",
            "Epoch 17/100\n",
            "106/106 [==============================] - 1s 7ms/step - loss: 0.4160 - binary_accuracy: 0.8425 - val_loss: 0.3632 - val_binary_accuracy: 0.8750\n",
            "Epoch 18/100\n",
            "106/106 [==============================] - 1s 8ms/step - loss: 0.4148 - binary_accuracy: 0.8422 - val_loss: 0.3610 - val_binary_accuracy: 0.8762\n",
            "Epoch 19/100\n",
            "106/106 [==============================] - 1s 7ms/step - loss: 0.4137 - binary_accuracy: 0.8413 - val_loss: 0.3595 - val_binary_accuracy: 0.8762\n",
            "Epoch 20/100\n",
            "106/106 [==============================] - 1s 7ms/step - loss: 0.4128 - binary_accuracy: 0.8428 - val_loss: 0.3581 - val_binary_accuracy: 0.8762\n",
            "Epoch 21/100\n",
            "106/106 [==============================] - 1s 6ms/step - loss: 0.4119 - binary_accuracy: 0.8428 - val_loss: 0.3566 - val_binary_accuracy: 0.8750\n",
            "Epoch 22/100\n",
            "106/106 [==============================] - 1s 6ms/step - loss: 0.4111 - binary_accuracy: 0.8431 - val_loss: 0.3557 - val_binary_accuracy: 0.8750\n",
            "Epoch 23/100\n",
            "106/106 [==============================] - 1s 7ms/step - loss: 0.4104 - binary_accuracy: 0.8440 - val_loss: 0.3543 - val_binary_accuracy: 0.8750\n",
            "Epoch 24/100\n",
            "106/106 [==============================] - 1s 7ms/step - loss: 0.4097 - binary_accuracy: 0.8434 - val_loss: 0.3535 - val_binary_accuracy: 0.8750\n",
            "Epoch 25/100\n",
            "106/106 [==============================] - 1s 7ms/step - loss: 0.4091 - binary_accuracy: 0.8445 - val_loss: 0.3524 - val_binary_accuracy: 0.8750\n",
            "Epoch 26/100\n",
            "106/106 [==============================] - 1s 6ms/step - loss: 0.4085 - binary_accuracy: 0.8448 - val_loss: 0.3514 - val_binary_accuracy: 0.8738\n",
            "Epoch 27/100\n",
            "106/106 [==============================] - 1s 5ms/step - loss: 0.4078 - binary_accuracy: 0.8448 - val_loss: 0.3508 - val_binary_accuracy: 0.8750\n",
            "Epoch 28/100\n",
            "106/106 [==============================] - 1s 7ms/step - loss: 0.4072 - binary_accuracy: 0.8454 - val_loss: 0.3501 - val_binary_accuracy: 0.8750\n",
            "Epoch 29/100\n",
            "106/106 [==============================] - 1s 5ms/step - loss: 0.4067 - binary_accuracy: 0.8460 - val_loss: 0.3493 - val_binary_accuracy: 0.8750\n",
            "Epoch 30/100\n",
            "106/106 [==============================] - 1s 6ms/step - loss: 0.4062 - binary_accuracy: 0.8457 - val_loss: 0.3489 - val_binary_accuracy: 0.8750\n",
            "Epoch 31/100\n",
            "106/106 [==============================] - 1s 6ms/step - loss: 0.4058 - binary_accuracy: 0.8454 - val_loss: 0.3482 - val_binary_accuracy: 0.8750\n",
            "Epoch 32/100\n",
            "106/106 [==============================] - 1s 6ms/step - loss: 0.4052 - binary_accuracy: 0.8475 - val_loss: 0.3477 - val_binary_accuracy: 0.8738\n",
            "Epoch 33/100\n",
            "106/106 [==============================] - 1s 5ms/step - loss: 0.4048 - binary_accuracy: 0.8469 - val_loss: 0.3470 - val_binary_accuracy: 0.8750\n",
            "Epoch 34/100\n",
            "106/106 [==============================] - 0s 4ms/step - loss: 0.4041 - binary_accuracy: 0.8466 - val_loss: 0.3462 - val_binary_accuracy: 0.8750\n",
            "Epoch 35/100\n",
            "106/106 [==============================] - 0s 3ms/step - loss: 0.4037 - binary_accuracy: 0.8466 - val_loss: 0.3459 - val_binary_accuracy: 0.8750\n",
            "Epoch 36/100\n",
            "106/106 [==============================] - 0s 3ms/step - loss: 0.4033 - binary_accuracy: 0.8472 - val_loss: 0.3456 - val_binary_accuracy: 0.8750\n",
            "Epoch 37/100\n",
            "106/106 [==============================] - 0s 3ms/step - loss: 0.4029 - binary_accuracy: 0.8475 - val_loss: 0.3449 - val_binary_accuracy: 0.8750\n",
            "Epoch 38/100\n",
            "106/106 [==============================] - 0s 3ms/step - loss: 0.4026 - binary_accuracy: 0.8472 - val_loss: 0.3446 - val_binary_accuracy: 0.8750\n",
            "Epoch 39/100\n",
            "106/106 [==============================] - 0s 3ms/step - loss: 0.4022 - binary_accuracy: 0.8466 - val_loss: 0.3438 - val_binary_accuracy: 0.8750\n",
            "Epoch 40/100\n",
            "106/106 [==============================] - 0s 4ms/step - loss: 0.4019 - binary_accuracy: 0.8475 - val_loss: 0.3436 - val_binary_accuracy: 0.8750\n",
            "Epoch 41/100\n",
            "106/106 [==============================] - 0s 3ms/step - loss: 0.4015 - binary_accuracy: 0.8463 - val_loss: 0.3433 - val_binary_accuracy: 0.8750\n",
            "Epoch 42/100\n",
            "106/106 [==============================] - 0s 3ms/step - loss: 0.4012 - binary_accuracy: 0.8469 - val_loss: 0.3431 - val_binary_accuracy: 0.8750\n",
            "Epoch 43/100\n",
            "106/106 [==============================] - 0s 3ms/step - loss: 0.4008 - binary_accuracy: 0.8472 - val_loss: 0.3428 - val_binary_accuracy: 0.8750\n",
            "Epoch 44/100\n",
            "106/106 [==============================] - 0s 3ms/step - loss: 0.4005 - binary_accuracy: 0.8460 - val_loss: 0.3425 - val_binary_accuracy: 0.8762\n",
            "Epoch 45/100\n",
            "106/106 [==============================] - 0s 3ms/step - loss: 0.4002 - binary_accuracy: 0.8469 - val_loss: 0.3421 - val_binary_accuracy: 0.8750\n",
            "Epoch 46/100\n",
            "106/106 [==============================] - 0s 3ms/step - loss: 0.3999 - binary_accuracy: 0.8475 - val_loss: 0.3416 - val_binary_accuracy: 0.8774\n",
            "Epoch 47/100\n",
            "106/106 [==============================] - 0s 3ms/step - loss: 0.3997 - binary_accuracy: 0.8475 - val_loss: 0.3415 - val_binary_accuracy: 0.8762\n",
            "Epoch 48/100\n",
            "106/106 [==============================] - 0s 3ms/step - loss: 0.3994 - binary_accuracy: 0.8466 - val_loss: 0.3414 - val_binary_accuracy: 0.8774\n",
            "Epoch 49/100\n",
            "106/106 [==============================] - 0s 3ms/step - loss: 0.3991 - binary_accuracy: 0.8475 - val_loss: 0.3403 - val_binary_accuracy: 0.8774\n",
            "Epoch 50/100\n",
            "106/106 [==============================] - 0s 3ms/step - loss: 0.3989 - binary_accuracy: 0.8472 - val_loss: 0.3405 - val_binary_accuracy: 0.8762\n",
            "Epoch 51/100\n",
            "106/106 [==============================] - 0s 3ms/step - loss: 0.3987 - binary_accuracy: 0.8469 - val_loss: 0.3405 - val_binary_accuracy: 0.8774\n",
            "Epoch 52/100\n",
            "106/106 [==============================] - 0s 3ms/step - loss: 0.3984 - binary_accuracy: 0.8463 - val_loss: 0.3401 - val_binary_accuracy: 0.8762\n",
            "Epoch 53/100\n",
            "106/106 [==============================] - 0s 3ms/step - loss: 0.3983 - binary_accuracy: 0.8463 - val_loss: 0.3399 - val_binary_accuracy: 0.8762\n",
            "Epoch 54/100\n",
            "106/106 [==============================] - 0s 3ms/step - loss: 0.3981 - binary_accuracy: 0.8469 - val_loss: 0.3399 - val_binary_accuracy: 0.8762\n",
            "Epoch 55/100\n",
            "106/106 [==============================] - 0s 3ms/step - loss: 0.3979 - binary_accuracy: 0.8466 - val_loss: 0.3390 - val_binary_accuracy: 0.8785\n",
            "Epoch 56/100\n",
            "106/106 [==============================] - 0s 3ms/step - loss: 0.3977 - binary_accuracy: 0.8466 - val_loss: 0.3389 - val_binary_accuracy: 0.8785\n",
            "Epoch 57/100\n",
            "106/106 [==============================] - 0s 4ms/step - loss: 0.3975 - binary_accuracy: 0.8460 - val_loss: 0.3390 - val_binary_accuracy: 0.8774\n",
            "Epoch 58/100\n",
            "106/106 [==============================] - 0s 3ms/step - loss: 0.3975 - binary_accuracy: 0.8463 - val_loss: 0.3386 - val_binary_accuracy: 0.8774\n",
            "Epoch 59/100\n",
            "106/106 [==============================] - 0s 3ms/step - loss: 0.3973 - binary_accuracy: 0.8463 - val_loss: 0.3383 - val_binary_accuracy: 0.8785\n",
            "Epoch 60/100\n",
            "106/106 [==============================] - 0s 3ms/step - loss: 0.3971 - binary_accuracy: 0.8463 - val_loss: 0.3383 - val_binary_accuracy: 0.8774\n",
            "Epoch 61/100\n",
            "106/106 [==============================] - 0s 3ms/step - loss: 0.3970 - binary_accuracy: 0.8466 - val_loss: 0.3383 - val_binary_accuracy: 0.8762\n",
            "Epoch 62/100\n",
            "106/106 [==============================] - 0s 3ms/step - loss: 0.3968 - binary_accuracy: 0.8463 - val_loss: 0.3381 - val_binary_accuracy: 0.8774\n",
            "Epoch 63/100\n",
            "106/106 [==============================] - 0s 3ms/step - loss: 0.3966 - binary_accuracy: 0.8463 - val_loss: 0.3381 - val_binary_accuracy: 0.8774\n",
            "Epoch 64/100\n",
            "106/106 [==============================] - 0s 3ms/step - loss: 0.3966 - binary_accuracy: 0.8463 - val_loss: 0.3376 - val_binary_accuracy: 0.8774\n",
            "Epoch 65/100\n",
            "106/106 [==============================] - 0s 4ms/step - loss: 0.3964 - binary_accuracy: 0.8463 - val_loss: 0.3374 - val_binary_accuracy: 0.8774\n",
            "Epoch 66/100\n",
            "106/106 [==============================] - 0s 3ms/step - loss: 0.3964 - binary_accuracy: 0.8472 - val_loss: 0.3375 - val_binary_accuracy: 0.8774\n",
            "Epoch 67/100\n",
            "106/106 [==============================] - 0s 3ms/step - loss: 0.3962 - binary_accuracy: 0.8463 - val_loss: 0.3372 - val_binary_accuracy: 0.8774\n",
            "Epoch 68/100\n",
            "106/106 [==============================] - 0s 3ms/step - loss: 0.3962 - binary_accuracy: 0.8463 - val_loss: 0.3372 - val_binary_accuracy: 0.8774\n",
            "Epoch 69/100\n",
            "106/106 [==============================] - 0s 3ms/step - loss: 0.3961 - binary_accuracy: 0.8472 - val_loss: 0.3374 - val_binary_accuracy: 0.8774\n",
            "Epoch 70/100\n",
            "106/106 [==============================] - 0s 3ms/step - loss: 0.3960 - binary_accuracy: 0.8466 - val_loss: 0.3368 - val_binary_accuracy: 0.8774\n",
            "Epoch 71/100\n",
            "106/106 [==============================] - 0s 3ms/step - loss: 0.3958 - binary_accuracy: 0.8469 - val_loss: 0.3366 - val_binary_accuracy: 0.8774\n",
            "Epoch 72/100\n",
            "106/106 [==============================] - 0s 3ms/step - loss: 0.3958 - binary_accuracy: 0.8466 - val_loss: 0.3366 - val_binary_accuracy: 0.8774\n",
            "Epoch 73/100\n",
            "106/106 [==============================] - 0s 3ms/step - loss: 0.3956 - binary_accuracy: 0.8466 - val_loss: 0.3366 - val_binary_accuracy: 0.8774\n",
            "Epoch 74/100\n",
            "106/106 [==============================] - 0s 3ms/step - loss: 0.3955 - binary_accuracy: 0.8463 - val_loss: 0.3363 - val_binary_accuracy: 0.8774\n",
            "Epoch 75/100\n",
            "106/106 [==============================] - 0s 3ms/step - loss: 0.3955 - binary_accuracy: 0.8466 - val_loss: 0.3362 - val_binary_accuracy: 0.8774\n",
            "Epoch 76/100\n",
            "106/106 [==============================] - 0s 3ms/step - loss: 0.3954 - binary_accuracy: 0.8463 - val_loss: 0.3366 - val_binary_accuracy: 0.8774\n",
            "Epoch 77/100\n",
            "106/106 [==============================] - 0s 3ms/step - loss: 0.3953 - binary_accuracy: 0.8466 - val_loss: 0.3358 - val_binary_accuracy: 0.8774\n",
            "Epoch 78/100\n",
            "106/106 [==============================] - 0s 3ms/step - loss: 0.3953 - binary_accuracy: 0.8475 - val_loss: 0.3364 - val_binary_accuracy: 0.8774\n",
            "Epoch 79/100\n",
            "106/106 [==============================] - 0s 3ms/step - loss: 0.3953 - binary_accuracy: 0.8475 - val_loss: 0.3363 - val_binary_accuracy: 0.8774\n",
            "Epoch 80/100\n",
            "106/106 [==============================] - 0s 3ms/step - loss: 0.3952 - binary_accuracy: 0.8472 - val_loss: 0.3357 - val_binary_accuracy: 0.8774\n",
            "Epoch 81/100\n",
            "106/106 [==============================] - 0s 3ms/step - loss: 0.3951 - binary_accuracy: 0.8472 - val_loss: 0.3362 - val_binary_accuracy: 0.8774\n",
            "Epoch 82/100\n",
            "106/106 [==============================] - 0s 3ms/step - loss: 0.3951 - binary_accuracy: 0.8469 - val_loss: 0.3359 - val_binary_accuracy: 0.8774\n",
            "Epoch 83/100\n",
            "106/106 [==============================] - 0s 3ms/step - loss: 0.3950 - binary_accuracy: 0.8472 - val_loss: 0.3356 - val_binary_accuracy: 0.8774\n",
            "Epoch 84/100\n",
            "106/106 [==============================] - 0s 3ms/step - loss: 0.3951 - binary_accuracy: 0.8472 - val_loss: 0.3354 - val_binary_accuracy: 0.8774\n",
            "Epoch 85/100\n",
            "106/106 [==============================] - 0s 3ms/step - loss: 0.3949 - binary_accuracy: 0.8475 - val_loss: 0.3355 - val_binary_accuracy: 0.8774\n",
            "Epoch 86/100\n",
            "106/106 [==============================] - 0s 3ms/step - loss: 0.3949 - binary_accuracy: 0.8466 - val_loss: 0.3357 - val_binary_accuracy: 0.8774\n",
            "Epoch 87/100\n",
            "106/106 [==============================] - 0s 3ms/step - loss: 0.3948 - binary_accuracy: 0.8472 - val_loss: 0.3353 - val_binary_accuracy: 0.8774\n",
            "Epoch 88/100\n",
            "106/106 [==============================] - 0s 3ms/step - loss: 0.3947 - binary_accuracy: 0.8469 - val_loss: 0.3356 - val_binary_accuracy: 0.8774\n",
            "Epoch 89/100\n",
            "106/106 [==============================] - 0s 3ms/step - loss: 0.3947 - binary_accuracy: 0.8481 - val_loss: 0.3351 - val_binary_accuracy: 0.8774\n",
            "Epoch 90/100\n",
            "106/106 [==============================] - 0s 3ms/step - loss: 0.3946 - binary_accuracy: 0.8475 - val_loss: 0.3353 - val_binary_accuracy: 0.8774\n",
            "Epoch 91/100\n",
            "106/106 [==============================] - 0s 4ms/step - loss: 0.3946 - binary_accuracy: 0.8475 - val_loss: 0.3350 - val_binary_accuracy: 0.8774\n",
            "Epoch 92/100\n",
            "106/106 [==============================] - 0s 3ms/step - loss: 0.3945 - binary_accuracy: 0.8478 - val_loss: 0.3348 - val_binary_accuracy: 0.8774\n",
            "Epoch 93/100\n",
            "106/106 [==============================] - 0s 3ms/step - loss: 0.3945 - binary_accuracy: 0.8475 - val_loss: 0.3347 - val_binary_accuracy: 0.8774\n",
            "Epoch 94/100\n",
            "106/106 [==============================] - 0s 3ms/step - loss: 0.3945 - binary_accuracy: 0.8472 - val_loss: 0.3349 - val_binary_accuracy: 0.8774\n",
            "Epoch 95/100\n",
            "106/106 [==============================] - 0s 3ms/step - loss: 0.3945 - binary_accuracy: 0.8481 - val_loss: 0.3346 - val_binary_accuracy: 0.8774\n",
            "Epoch 96/100\n",
            "106/106 [==============================] - 0s 3ms/step - loss: 0.3944 - binary_accuracy: 0.8472 - val_loss: 0.3346 - val_binary_accuracy: 0.8774\n",
            "Epoch 97/100\n",
            "106/106 [==============================] - 0s 3ms/step - loss: 0.3944 - binary_accuracy: 0.8478 - val_loss: 0.3346 - val_binary_accuracy: 0.8762\n",
            "Epoch 98/100\n",
            "106/106 [==============================] - 0s 3ms/step - loss: 0.3942 - binary_accuracy: 0.8478 - val_loss: 0.3344 - val_binary_accuracy: 0.8774\n",
            "Epoch 99/100\n",
            "106/106 [==============================] - 0s 4ms/step - loss: 0.3944 - binary_accuracy: 0.8475 - val_loss: 0.3345 - val_binary_accuracy: 0.8762\n",
            "Epoch 100/100\n",
            "106/106 [==============================] - 0s 3ms/step - loss: 0.3942 - binary_accuracy: 0.8475 - val_loss: 0.3343 - val_binary_accuracy: 0.8762\n"
          ]
        }
      ]
    },
    {
      "cell_type": "code",
      "source": [
        "score = model.evaluate(x= X_test, y=y_test, verbose = 0)\n",
        "print('Test mse: ', score[0])\n",
        "print('Test rmse: ', score[1])"
      ],
      "metadata": {
        "id": "MtzTlGJR6D1X",
        "colab": {
          "base_uri": "https://localhost:8080/"
        },
        "outputId": "d268ce97-8cf5-4ab1-df0c-4cc14b7157fd"
      },
      "execution_count": 14,
      "outputs": [
        {
          "output_type": "stream",
          "name": "stdout",
          "text": [
            "Test mse:  0.3342866003513336\n",
            "Test rmse:  0.8761792182922363\n"
          ]
        }
      ]
    },
    {
      "cell_type": "code",
      "source": [
        "import matplotlib.pyplot as plt\n",
        "\n",
        "plt.plot(results.history['loss'])\n",
        "plt.plot(results.history['val_loss'])\n",
        "plt.legend(['Training', 'Validation'])\n",
        "plt.title('Training and Validation Losses')\n",
        "plt.xlabel('epoch')\n",
        "plt.ylabel('Losses')"
      ],
      "metadata": {
        "id": "vUpwAZ0m7HCf",
        "colab": {
          "base_uri": "https://localhost:8080/",
          "height": 313
        },
        "outputId": "e3035b42-7b47-40fc-9869-5b284c1bf762"
      },
      "execution_count": 15,
      "outputs": [
        {
          "output_type": "execute_result",
          "data": {
            "text/plain": [
              "Text(0, 0.5, 'Losses')"
            ]
          },
          "metadata": {},
          "execution_count": 15
        },
        {
          "output_type": "display_data",
          "data": {
            "text/plain": [
              "<Figure size 432x288 with 1 Axes>"
            ],
            "image/png": "[encoded data removed]"
          },
          "metadata": {
            "needs_background": "light"
          }
        }
      ]
    },
    {
      "cell_type": "code",
      "source": [
        "plt.plot(results.history['binary_accuracy'])\n",
        "plt.plot(results.history['val_binary_accuracy'])\n",
        "plt.legend(['Training', 'Validation'])\n",
        "plt.title('Training and Validation accuracy')\n",
        "plt.xlabel('epoch')\n",
        "plt.ylabel('accuracy')"
      ],
      "metadata": {
        "id": "Y9X00cWw7iqZ",
        "colab": {
          "base_uri": "https://localhost:8080/",
          "height": 313
        },
        "outputId": "9d29bd84-d6ea-4cd8-8dbc-29403dfaefea"
      },
      "execution_count": 16,
      "outputs": [
        {
          "output_type": "execute_result",
          "data": {
            "text/plain": [
              "Text(0, 0.5, 'accuracy')"
            ]
          },
          "metadata": {},
          "execution_count": 16
        },
        {
          "output_type": "display_data",
          "data": {
            "text/plain": [
              "<Figure size 432x288 with 1 Axes>"
            ],
            "image/png": "[encoded data removed]"
          },
          "metadata": {
            "needs_background": "light"
          }
        }
      ]
    },
    {
      "cell_type": "code",
      "source": [
        "prediction = model.predict(X_test)\n",
        "print(prediction.flatten())\n",
        "print(y_test)"
      ],
      "metadata": {
        "id": "FeJ_zC548Pvn",
        "colab": {
          "base_uri": "https://localhost:8080/"
        },
        "outputId": "4f6fcd7d-3b7b-4fa6-d630-cdab50b5c417"
      },
      "execution_count": 17,
      "outputs": [
        {
          "output_type": "stream",
          "name": "stdout",
          "text": [
            "[0.29559332 0.09330831 0.35735372 0.06040332 0.33204255 0.05510103\n",
            " 0.21746498 0.06106108 0.16396429 0.05694715 0.11050439 0.14571384\n",
            " 0.10247176 0.15599458 0.11370032 0.04610379 0.03603145 0.1207485\n",
            " 0.03416664 0.39028418 0.23089059 0.37298566 0.28948167 0.07884178\n",
            " 0.22089301 0.19638595 0.1517219  0.17842288 0.23864809 0.12152859\n",
            " 0.17998858 0.15524574 0.04870597 0.03335159 0.30190322 0.15165393\n",
            " 0.09181947 0.223796   0.05342387 0.07438327 0.22529222 0.15875043\n",
            " 0.13713823 0.10644328 0.18881062 0.04759799 0.19492283 0.02908619\n",
            " 0.06760059 0.09839512 0.10775831 0.1624714  0.04878636 0.05678841\n",
            " 0.29855737 0.1034652  0.3246644  0.30098274 0.17593734 0.32146108\n",
            " 0.19836737 0.05749548 0.31440908 0.04965593 0.17068341 0.10943075\n",
            " 0.06938468 0.3064151  0.05910818 0.34359246 0.12799399 0.07343645\n",
            " 0.1995463  0.08700875 0.09317036 0.11894529 0.20430365 0.17483932\n",
            " 0.05096247 0.11181287 0.34331515 0.2023357  0.6394508  0.26822472\n",
            " 0.21207307 0.15503047 0.20209137 0.1725866  0.11187255 0.14015585\n",
            " 0.17649333 0.07893601 0.11046155 0.17883205 0.23679467 0.08243886\n",
            " 0.28802752 0.36280414 0.10464264 0.15850937 0.07428191 0.42312804\n",
            " 0.16572183 0.05423073 0.07580134 0.06872515 0.05274544 0.26115534\n",
            " 0.30498892 0.17153707 0.1719234  0.12621522 0.44770187 0.05699003\n",
            " 0.24323788 0.06008087 0.46244052 0.05236943 0.06022413 0.0400704\n",
            " 0.06377924 0.18332875 0.15440431 0.06869381 0.40665138 0.19241706\n",
            " 0.1138933  0.23333837 0.0983275  0.06832668 0.05233501 0.50160736\n",
            " 0.09132373 0.20257683 0.17713521 0.03427057 0.2455467  0.09699518\n",
            " 0.34341368 0.06841385 0.17977901 0.21547289 0.08132512 0.04791142\n",
            " 0.16214833 0.04267864 0.11371399 0.21566711 0.04766904 0.03742854\n",
            " 0.03139669 0.19341828 0.305406   0.05012381 0.06053443 0.07048043\n",
            " 0.2888461  0.04876777 0.17182995 0.1320196  0.12076523 0.09808287\n",
            " 0.17693809 0.1233897  0.09950168 0.05207799 0.16154501 0.23234864\n",
            " 0.04060045 0.06938617 0.07500181 0.12928803 0.04569643 0.16632648\n",
            " 0.28792644 0.04215603 0.0891933  0.3017551  0.14667208 0.08712547\n",
            " 0.08162145 0.05922683 0.2757373  0.02740854 0.06781936 0.18916634\n",
            " 0.07188556 0.33279222 0.19302672 0.07865769 0.12497681 0.12221806\n",
            " 0.13395582 0.21048063 0.26962528 0.23415399 0.14465103 0.04681354\n",
            " 0.1735579  0.12447608 0.6940951  0.292589   0.1403638  0.1778884\n",
            " 0.13934517 0.12106274 0.18874002 0.26936427 0.12799668 0.29634556\n",
            " 0.3534062  0.08181541 0.31357497 0.1459126  0.1292076  0.38220257\n",
            " 0.26313493 0.15511824 0.07041666 0.22505312 0.31710133 0.08971696\n",
            " 0.07639483 0.24325526 0.12299484 0.09723762 0.25597236 0.23600407\n",
            " 0.2745639  0.11669229 0.18671596 0.12640214 0.13251464 0.07712379\n",
            " 0.06075952 0.08022086 0.03631718 0.1684526  0.15814242 0.13598901\n",
            " 0.18756227 0.35211718 0.38781717 0.4712106  0.2530798  0.1824026\n",
            " 0.19797628 0.14500833 0.24189709 0.07507809 0.46957952 0.04425345\n",
            " 0.21969889 0.3103807  0.11376134 0.06500291 0.04500156 0.04277041\n",
            " 0.09156003 0.0387866  0.3677102  0.08460683 0.09724471 0.04054578\n",
            " 0.05802592 0.1457011  0.23009574 0.36723134 0.10337363 0.21739544\n",
            " 0.07922135 0.11031369 0.28384674 0.05487659 0.12293354 0.14701678\n",
            " 0.12413291 0.1330948  0.07983974 0.20078476 0.23893456 0.15707138\n",
            " 0.33886546 0.17304766 0.18266624 0.09690485 0.04277778 0.13473155\n",
            " 0.04846088 0.04397581 0.2013116  0.07133228 0.06728865 0.05280651\n",
            " 0.08656453 0.17415701 0.13393523 0.1694122  0.18705593 0.29970145\n",
            " 0.16679573 0.2678407  0.33399218 0.08705407 0.22783954 0.2389536\n",
            " 0.1459684  0.3971259  0.10921749 0.45482484 0.20589219 0.16544008\n",
            " 0.04573294 0.3309404  0.13095428 0.24186456 0.22912624 0.24390236\n",
            " 0.04486594 0.11253484 0.41833583 0.3112227  0.09712967 0.0773128\n",
            " 0.11159661 0.04216984 0.11326078 0.11730172 0.20854358 0.11998117\n",
            " 0.36798784 0.08264779 0.37082765 0.12001683 0.12366727 0.41606036\n",
            " 0.15546374 0.27079028 0.11657005 0.15686178 0.17533532 0.09659693\n",
            " 0.14580175 0.10845248 0.42178717 0.06421125 0.09287558 0.23476127\n",
            " 0.19601591 0.27044806 0.08776778 0.17131194 0.2844661  0.12703007\n",
            " 0.19937211 0.02742415 0.14495571 0.24883677 0.07504278 0.32244202\n",
            " 0.14898384 0.35158432 0.14528286 0.05933425 0.11807651 0.03148216\n",
            " 0.19126536 0.11189189 0.08108219 0.15222837 0.4051225  0.0681231\n",
            " 0.21903546 0.04943208 0.05115843 0.24897438 0.06818602 0.24527377\n",
            " 0.21130909 0.20184891 0.0432762  0.40873104 0.17051066 0.22642086\n",
            " 0.15057057 0.17085099 0.364629   0.0807994  0.26439855 0.1295808\n",
            " 0.03300291 0.06681876 0.06782402 0.08537108 0.03577674 0.21279812\n",
            " 0.09315434 0.06745212 0.0577353  0.20426026 0.08718562 0.37302193\n",
            " 0.09774706 0.0434964  0.1557419  0.5570645  0.1266381  0.31365895\n",
            " 0.05405009 0.02981385 0.07749079 0.17022933 0.04238802 0.05705218\n",
            " 0.18171604 0.11051212 0.12226751 0.09712434 0.09787203 0.13754609\n",
            " 0.3390372  0.08654081 0.38883498 0.06980059 0.08418421 0.3727244\n",
            " 0.06416494 0.06174219 0.19892563 0.2716635  0.20913666 0.21979593\n",
            " 0.12491711 0.11988445 0.30114967 0.13548227 0.0339371  0.1027867\n",
            " 0.05159357 0.14489701 0.03782866 0.15514387 0.19560204 0.09094357\n",
            " 0.14237013 0.18952437 0.16494621 0.11021471 0.12293756 0.15030272\n",
            " 0.04659925 0.0940382  0.15538415 0.07283159 0.18759213 0.14088678\n",
            " 0.10129534 0.05162863 0.09864528 0.07424967 0.12882023 0.2640321\n",
            " 0.0821121  0.06346731 0.09450454 0.04046228 0.10704101 0.07447925\n",
            " 0.14211124 0.17972992 0.24366613 0.06003961 0.0296733  0.37777972\n",
            " 0.04435481 0.25143588 0.13403198 0.18580686 0.5387533  0.38977998\n",
            " 0.38475797 0.09616753 0.14351289 0.1855495  0.1513047  0.25134447\n",
            " 0.1868849  0.20270333 0.39878088 0.10685863 0.4226321  0.10302959\n",
            " 0.13468501 0.02545921 0.14058632 0.06102617 0.25331602 0.0386149\n",
            " 0.03336136 0.17833218 0.06321688 0.2547668  0.12930597 0.1743027\n",
            " 0.25716192 0.3472957  0.17510237 0.16360445 0.08164293 0.1405114\n",
            " 0.16051595 0.15910837 0.26102364 0.04641618 0.12350201 0.07014273\n",
            " 0.32045373 0.03385621 0.28781798 0.2986062  0.3956402  0.43315098\n",
            " 0.04530211 0.15674756 0.07091234 0.06741893 0.17975006 0.18229252\n",
            " 0.06572871 0.26975557 0.12702163 0.14682415 0.14353685 0.13961628\n",
            " 0.20653    0.12602317 0.21338904 0.07034069 0.0367031  0.048551\n",
            " 0.06688014 0.1918716  0.13137615 0.19676693 0.08012046 0.12629628\n",
            " 0.04679254 0.07471903 0.14201593 0.11457434 0.22840992 0.15586455\n",
            " 0.39210206 0.08377066 0.0838538  0.39534086 0.1955736  0.13957122\n",
            " 0.3198151  0.08750376 0.19589488 0.15628085 0.02659445 0.14989388\n",
            " 0.08786176 0.04078886 0.38149527 0.04164274 0.17765422 0.02395279\n",
            " 0.23056357 0.14907959 0.10201972 0.13253005 0.37340263 0.04251012\n",
            " 0.11649072 0.1797631  0.30985346 0.08119543 0.12255991 0.42194054\n",
            " 0.21688335 0.11788073 0.05561543 0.06834417 0.33737913 0.22773293\n",
            " 0.06599612 0.07501654 0.04980353 0.05234127 0.12108402 0.27657032\n",
            " 0.11092311 0.14248788 0.44105047 0.06830878 0.07717363 0.23574822\n",
            " 0.05861234 0.3374325  0.16805154 0.05852723 0.05406365 0.16169152\n",
            " 0.1301553  0.07274053 0.03423227 0.27347696 0.1039342  0.13078533\n",
            " 0.07119074 0.10048982 0.22252843 0.31223467 0.05996257 0.29750654\n",
            " 0.09407441 0.11763737 0.12290547 0.3049557  0.08471289 0.1511357\n",
            " 0.3363332  0.24760553 0.14457771 0.02836122 0.13203873 0.17384185\n",
            " 0.15840366 0.11368712 0.24278988 0.1491357  0.48318052 0.10160302\n",
            " 0.34874108 0.08667967 0.0808004  0.12636216 0.06742234 0.3511333\n",
            " 0.12309159 0.11293272 0.35972813 0.1287934  0.29718187 0.38008183\n",
            " 0.11403521 0.15028927 0.04246765 0.20037387 0.10126746 0.14762732\n",
            " 0.13402371 0.45938423 0.22498696 0.19594131 0.35898715 0.07439111\n",
            " 0.5206168  0.08532809 0.04996181 0.08004849 0.05842078 0.18566474\n",
            " 0.12803036 0.16351786 0.05456278 0.11559568 0.1765441  0.09814978\n",
            " 0.06937051 0.20811063 0.06255019 0.0799344  0.18714105 0.25463516\n",
            " 0.0889902  0.04360724 0.13866062 0.12540922 0.16376403 0.1657416\n",
            " 0.11539201 0.05477899 0.08771894 0.15445484 0.32190016 0.05310289\n",
            " 0.06777548 0.0381048  0.15711328 0.05253357 0.15930693 0.0672958\n",
            " 0.06772392 0.29300237 0.07520069 0.21516998 0.0507515  0.14627978\n",
            " 0.08656462 0.11023653 0.06676418 0.11387923 0.06996309 0.03765122\n",
            " 0.17412488 0.0932206  0.09737741 0.05622443 0.13997841 0.07343146\n",
            " 0.04687483 0.14388148 0.03963828 0.13147165 0.11783446 0.06482248\n",
            " 0.16495301 0.12475459 0.21886635 0.0951941  0.1415495  0.12493829\n",
            " 0.32130367 0.26831752 0.24455106 0.1630662  0.27382812 0.07991693\n",
            " 0.02672568 0.10854276 0.08167768 0.11687347 0.17863314 0.10189912\n",
            " 0.09780372 0.15392476 0.07581209 0.13066451 0.46789423 0.29536927\n",
            " 0.10025899 0.14232342 0.37036216 0.09480274 0.20036359 0.42559725\n",
            " 0.24855147 0.44168496 0.12423076 0.05539675 0.15594964 0.07274505\n",
            " 0.11382192 0.16791736 0.04913199 0.18155476 0.14241335 0.1783609\n",
            " 0.03887036 0.12244768 0.07127122 0.39243641 0.06516115 0.07035673\n",
            " 0.1092082  0.3136432  0.12620348 0.11716787 0.22289206 0.13352594\n",
            " 0.20376568 0.14476866 0.14234112 0.20585962 0.05155658 0.04374478\n",
            " 0.04088427 0.11180044 0.16155335 0.10559285 0.04062231 0.05559447\n",
            " 0.07749756 0.07861903 0.21585187 0.09424134 0.2610657  0.12562862\n",
            " 0.10415418 0.14948624 0.22105189 0.0701689  0.09933665 0.17473015\n",
            " 0.11767745 0.1425512  0.1466601  0.10428841 0.11524478 0.10856742\n",
            " 0.03987041 0.05528681 0.08160205 0.17275241 0.16947204 0.11780393\n",
            " 0.09509752 0.10827687 0.16402046 0.16422844 0.06292309 0.05925968\n",
            " 0.06883185 0.12118604 0.11775857 0.03433724 0.23223379 0.10789873\n",
            " 0.2306597  0.04472304 0.18298975 0.02507334 0.4711404  0.09480716\n",
            " 0.23996785 0.13299431 0.14347552 0.38931978 0.15343222 0.03653003\n",
            " 0.25655344 0.07386702 0.0502724  0.05690156 0.17670773 0.08273453\n",
            " 0.05165181 0.12018573 0.13670503 0.19602695 0.07829691 0.28166765\n",
            " 0.26671925 0.03425994]\n",
            "[0 0 1 0 1 0 0 0 0 0 0 0 0 0 0 0 0 0 0 0 0 0 0 0 0 0 1 0 0 1 0 0 0 0 0 0 0\n",
            " 1 0 1 0 0 0 0 1 0 0 0 0 0 0 1 0 0 0 0 1 1 0 1 0 0 0 0 1 0 0 1 0 0 0 0 1 0\n",
            " 0 0 0 0 0 0 1 0 1 0 0 0 1 0 1 0 1 0 0 0 0 0 1 0 0 0 0 0 0 0 0 0 0 0 0 0 1\n",
            " 0 0 0 1 0 0 0 0 0 1 0 0 0 0 0 0 0 0 0 0 0 0 0 0 0 1 0 1 0 0 1 0 0 0 0 1 0\n",
            " 0 0 0 0 0 0 0 0 0 0 0 0 0 0 0 0 0 0 1 0 0 0 0 0 0 0 1 0 0 0 0 0 1 0 0 0 1\n",
            " 0 0 1 0 0 0 0 0 1 0 0 0 0 0 0 1 0 0 0 0 0 0 0 0 0 0 0 0 0 0 1 0 0 0 0 0 0\n",
            " 0 1 0 0 0 1 0 0 0 0 0 0 0 0 0 0 0 0 0 1 0 0 0 0 1 0 0 0 0 0 1 0 0 0 0 0 0\n",
            " 0 0 0 0 0 0 0 0 0 0 0 0 0 0 0 0 0 0 0 0 0 0 0 0 1 0 0 0 0 0 0 0 0 0 0 0 0\n",
            " 0 0 0 0 0 1 0 0 0 0 0 0 0 1 0 1 0 1 0 0 0 0 0 0 0 0 1 0 0 0 0 0 1 0 0 0 0\n",
            " 0 0 0 0 0 0 0 0 0 0 0 0 0 0 0 0 0 0 0 0 0 0 0 0 0 0 0 1 0 0 0 0 0 0 0 0 0\n",
            " 0 0 0 0 0 0 0 0 0 1 0 1 0 1 0 0 0 0 0 0 0 0 0 0 0 0 0 0 0 0 1 1 0 0 0 1 0\n",
            " 0 0 0 0 0 0 0 0 0 0 0 0 0 0 0 0 0 0 1 0 0 0 1 0 0 0 0 0 0 0 0 0 0 0 1 0 0\n",
            " 0 0 0 0 0 0 0 0 1 0 0 1 0 0 0 0 0 0 0 0 0 0 0 0 0 0 1 0 0 0 0 1 0 0 1 1 1\n",
            " 0 0 0 0 0 0 0 0 0 0 0 0 0 0 0 1 0 0 1 0 0 0 0 0 0 0 0 0 0 1 1 0 0 0 0 1 0\n",
            " 0 0 0 0 0 0 0 0 0 0 0 0 0 0 0 0 0 0 1 0 0 0 0 0 0 1 0 0 0 0 0 0 1 1 0 0 0\n",
            " 0 0 0 0 0 0 0 0 0 0 0 1 0 0 0 0 0 0 0 1 0 0 0 1 0 0 0 0 0 0 0 0 1 0 0 0 0\n",
            " 0 1 0 0 0 0 0 0 0 1 0 0 0 0 0 0 0 0 0 0 0 0 0 0 0 0 0 0 0 0 0 0 1 1 0 0 1\n",
            " 0 1 0 0 0 0 0 0 1 0 0 0 0 0 0 0 0 0 1 0 0 0 1 0 0 0 0 0 0 1 0 0 0 0 0 0 1\n",
            " 0 0 0 0 0 0 0 1 0 0 0 0 0 0 0 0 0 0 0 0 0 0 0 0 0 0 0 0 0 0 0 1 0 0 1 0 0\n",
            " 0 0 0 0 0 0 0 0 0 0 0 0 0 0 0 0 0 0 1 0 0 0 1 1 0 0 0 1 0 0 0 0 0 0 0 0 1\n",
            " 0 0 1 0 0 0 0 0 0 1 1 0 0 0 0 0 0 0 0 0 0 0 0 0 0 0 0 0 0 0 0 0 0 0 0 0 0\n",
            " 0 0 0 0 1 1 0 0 0 0 0 0 0 0 0 0 0 1 0 0 0 1 0 0 0 0 0 0 0 0 1 0 0 0 0 0 0\n",
            " 0 0 0 0 0 0 1 0 0 0 0 0 0 0 1 0 0 1 0 0 0 0 0 0 0 0 0 0 0 0 0 0 0 0]\n"
          ]
        }
      ]
    },
    {
      "cell_type": "code",
      "source": [
        "model.save('chd_10_years_risk_NN.h5')"
      ],
      "metadata": {
        "id": "XPE6GElwJT5Z"
      },
      "execution_count": 18,
      "outputs": []
    }
  ]
}