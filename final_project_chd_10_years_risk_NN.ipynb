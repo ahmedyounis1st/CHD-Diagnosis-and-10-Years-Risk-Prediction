{
  "nbformat": 4,
  "nbformat_minor": 0,
  "metadata": {
    "colab": {
      "name": "final_project_chd_10_years_risk_NN.ipynb",
      "provenance": []
    },
    "kernelspec": {
      "name": "python3",
      "display_name": "Python 3"
    },
    "language_info": {
      "name": "python"
    }
  },
  "cells": [
    {
      "cell_type": "markdown",
      "source": [
        "# Project: \n",
        "\n",
        "## Table of Contents\n",
        "<ul>\n",
        "<li><a href=\"#intro\">Introduction</a></li>\n",
        "<li><a href=\"#wrangling\">Data Wrangling</a></li>\n",
        "<li><a href=\"#preprocessing\">Data Preprocessing</a></li>\n",
        "<li><a href=\"#building\">Model Building</a></li>\n",
        "<li><a href=\"#evaluation\">Model Evaluation</a></li>\n",
        "</ul>"
      ],
      "metadata": {
        "id": "ivUd2rrUGw4o"
      }
    },
    {
      "cell_type": "markdown",
      "source": [
        "<a id='intro'></a>\n",
        "## Introduction \n",
        "\n",
        "World Health Organization has estimated 12 million deaths occur worldwide, every year due to Heart diseases. Half the deaths in the United States and other developed countries are due to cardio vascular diseases. The early prognosis of cardiovascular diseases can aid in making decisions on lifestyle changes in high risk patients and in turn reduce the complications."
      ],
      "metadata": {
        "id": "MCt6SZRSG5cJ"
      }
    },
    {
      "cell_type": "markdown",
      "source": [
        "### Source\n",
        "The dataset is publically available on the Kaggle website, and it is from an ongoing cardiovascular study on residents of the town of Framingham, Massachusetts. The classification goal is to predict whether the patient has 10-year risk of future coronary heart disease (CHD).The dataset provides the patients’ information. It includes over 4,000 records and 15 attributes."
      ],
      "metadata": {
        "id": "zqNTvP8JG48a"
      }
    },
    {
      "cell_type": "markdown",
      "source": [
        "## Setup"
      ],
      "metadata": {
        "id": "-Z1ZpKqQKRnb"
      }
    },
    {
      "cell_type": "code",
      "source": [
        "# import pakcages and libraries needed for the project\n",
        "import numpy as np\n",
        "import pandas as pd\n",
        "import matplotlib.pyplot as plt\n",
        "import seaborn as sns\n",
        "%matplotlib inline\n",
        "sns.set_style('darkgrid')"
      ],
      "metadata": {
        "id": "GlUf9--aKRCK"
      },
      "execution_count": 1,
      "outputs": []
    },
    {
      "cell_type": "markdown",
      "source": [
        "<a id='wrangling'></a>\n",
        "## Data Wrangling\n",
        "\n",
        "### General Properties"
      ],
      "metadata": {
        "id": "hDZrFeFDKZsd"
      }
    },
    {
      "cell_type": "markdown",
      "source": [
        "### Assessing & Building Intuition"
      ],
      "metadata": {
        "id": "m6-iv54bLD3i"
      }
    },
    {
      "cell_type": "code",
      "source": [
        "# Loading data and printing out a few lines. \n",
        "df = pd.read_csv(\"framingham.csv\")\n",
        "df.head()"
      ],
      "metadata": {
        "colab": {
          "base_uri": "https://localhost:8080/",
          "height": 0
        },
        "id": "MwpVlOewK-GE",
        "outputId": "ca2772af-1e99-49d6-d1ff-c4c23e664573"
      },
      "execution_count": 2,
      "outputs": [
        {
          "output_type": "execute_result",
          "data": {
            "text/plain": [
              "   male  age  education  currentSmoker  cigsPerDay  BPMeds  prevalentStroke  \\\n",
              "0     1   39        4.0              0         0.0     0.0                0   \n",
              "1     0   46        2.0              0         0.0     0.0                0   \n",
              "2     1   48        1.0              1        20.0     0.0                0   \n",
              "3     0   61        3.0              1        30.0     0.0                0   \n",
              "4     0   46        3.0              1        23.0     0.0                0   \n",
              "\n",
              "   prevalentHyp  diabetes  totChol  sysBP  diaBP    BMI  heartRate  glucose  \\\n",
              "0             0         0    195.0  106.0   70.0  26.97       80.0     77.0   \n",
              "1             0         0    250.0  121.0   81.0  28.73       95.0     76.0   \n",
              "2             0         0    245.0  127.5   80.0  25.34       75.0     70.0   \n",
              "3             1         0    225.0  150.0   95.0  28.58       65.0    103.0   \n",
              "4             0         0    285.0  130.0   84.0  23.10       85.0     85.0   \n",
              "\n",
              "   TenYearCHD  \n",
              "0           0  \n",
              "1           0  \n",
              "2           0  \n",
              "3           1  \n",
              "4           0  "
            ],
            "text/html": [
              "\n",
              "  <div id=\"df-2bf6295a-0a6f-47d1-af45-26f42d2e86ee\">\n",
              "    <div class=\"colab-df-container\">\n",
              "      <div>\n",
              "<style scoped>\n",
              "    .dataframe tbody tr th:only-of-type {\n",
              "        vertical-align: middle;\n",
              "    }\n",
              "\n",
              "    .dataframe tbody tr th {\n",
              "        vertical-align: top;\n",
              "    }\n",
              "\n",
              "    .dataframe thead th {\n",
              "        text-align: right;\n",
              "    }\n",
              "</style>\n",
              "<table border=\"1\" class=\"dataframe\">\n",
              "  <thead>\n",
              "    <tr style=\"text-align: right;\">\n",
              "      <th></th>\n",
              "      <th>male</th>\n",
              "      <th>age</th>\n",
              "      <th>education</th>\n",
              "      <th>currentSmoker</th>\n",
              "      <th>cigsPerDay</th>\n",
              "      <th>BPMeds</th>\n",
              "      <th>prevalentStroke</th>\n",
              "      <th>prevalentHyp</th>\n",
              "      <th>diabetes</th>\n",
              "      <th>totChol</th>\n",
              "      <th>sysBP</th>\n",
              "      <th>diaBP</th>\n",
              "      <th>BMI</th>\n",
              "      <th>heartRate</th>\n",
              "      <th>glucose</th>\n",
              "      <th>TenYearCHD</th>\n",
              "    </tr>\n",
              "  </thead>\n",
              "  <tbody>\n",
              "    <tr>\n",
              "      <th>0</th>\n",
              "      <td>1</td>\n",
              "      <td>39</td>\n",
              "      <td>4.0</td>\n",
              "      <td>0</td>\n",
              "      <td>0.0</td>\n",
              "      <td>0.0</td>\n",
              "      <td>0</td>\n",
              "      <td>0</td>\n",
              "      <td>0</td>\n",
              "      <td>195.0</td>\n",
              "      <td>106.0</td>\n",
              "      <td>70.0</td>\n",
              "      <td>26.97</td>\n",
              "      <td>80.0</td>\n",
              "      <td>77.0</td>\n",
              "      <td>0</td>\n",
              "    </tr>\n",
              "    <tr>\n",
              "      <th>1</th>\n",
              "      <td>0</td>\n",
              "      <td>46</td>\n",
              "      <td>2.0</td>\n",
              "      <td>0</td>\n",
              "      <td>0.0</td>\n",
              "      <td>0.0</td>\n",
              "      <td>0</td>\n",
              "      <td>0</td>\n",
              "      <td>0</td>\n",
              "      <td>250.0</td>\n",
              "      <td>121.0</td>\n",
              "      <td>81.0</td>\n",
              "      <td>28.73</td>\n",
              "      <td>95.0</td>\n",
              "      <td>76.0</td>\n",
              "      <td>0</td>\n",
              "    </tr>\n",
              "    <tr>\n",
              "      <th>2</th>\n",
              "      <td>1</td>\n",
              "      <td>48</td>\n",
              "      <td>1.0</td>\n",
              "      <td>1</td>\n",
              "      <td>20.0</td>\n",
              "      <td>0.0</td>\n",
              "      <td>0</td>\n",
              "      <td>0</td>\n",
              "      <td>0</td>\n",
              "      <td>245.0</td>\n",
              "      <td>127.5</td>\n",
              "      <td>80.0</td>\n",
              "      <td>25.34</td>\n",
              "      <td>75.0</td>\n",
              "      <td>70.0</td>\n",
              "      <td>0</td>\n",
              "    </tr>\n",
              "    <tr>\n",
              "      <th>3</th>\n",
              "      <td>0</td>\n",
              "      <td>61</td>\n",
              "      <td>3.0</td>\n",
              "      <td>1</td>\n",
              "      <td>30.0</td>\n",
              "      <td>0.0</td>\n",
              "      <td>0</td>\n",
              "      <td>1</td>\n",
              "      <td>0</td>\n",
              "      <td>225.0</td>\n",
              "      <td>150.0</td>\n",
              "      <td>95.0</td>\n",
              "      <td>28.58</td>\n",
              "      <td>65.0</td>\n",
              "      <td>103.0</td>\n",
              "      <td>1</td>\n",
              "    </tr>\n",
              "    <tr>\n",
              "      <th>4</th>\n",
              "      <td>0</td>\n",
              "      <td>46</td>\n",
              "      <td>3.0</td>\n",
              "      <td>1</td>\n",
              "      <td>23.0</td>\n",
              "      <td>0.0</td>\n",
              "      <td>0</td>\n",
              "      <td>0</td>\n",
              "      <td>0</td>\n",
              "      <td>285.0</td>\n",
              "      <td>130.0</td>\n",
              "      <td>84.0</td>\n",
              "      <td>23.10</td>\n",
              "      <td>85.0</td>\n",
              "      <td>85.0</td>\n",
              "      <td>0</td>\n",
              "    </tr>\n",
              "  </tbody>\n",
              "</table>\n",
              "</div>\n",
              "      <button class=\"colab-df-convert\" onclick=\"convertToInteractive('df-2bf6295a-0a6f-47d1-af45-26f42d2e86ee')\"\n",
              "              title=\"Convert this dataframe to an interactive table.\"\n",
              "              style=\"display:none;\">\n",
              "        \n",
              "  <svg xmlns=\"http://www.w3.org/2000/svg\" height=\"24px\"viewBox=\"0 0 24 24\"\n",
              "       width=\"24px\">\n",
              "    <path d=\"M0 0h24v24H0V0z\" fill=\"none\"/>\n",
              "    <path d=\"M18.56 5.44l.94 2.06.94-2.06 2.06-.94-2.06-.94-.94-2.06-.94 2.06-2.06.94zm-11 1L8.5 8.5l.94-2.06 2.06-.94-2.06-.94L8.5 2.5l-.94 2.06-2.06.94zm10 10l.94 2.06.94-2.06 2.06-.94-2.06-.94-.94-2.06-.94 2.06-2.06.94z\"/><path d=\"M17.41 7.96l-1.37-1.37c-.4-.4-.92-.59-1.43-.59-.52 0-1.04.2-1.43.59L10.3 9.45l-7.72 7.72c-.78.78-.78 2.05 0 2.83L4 21.41c.39.39.9.59 1.41.59.51 0 1.02-.2 1.41-.59l7.78-7.78 2.81-2.81c.8-.78.8-2.07 0-2.86zM5.41 20L4 18.59l7.72-7.72 1.47 1.35L5.41 20z\"/>\n",
              "  </svg>\n",
              "      </button>\n",
              "      \n",
              "  <style>\n",
              "    .colab-df-container {\n",
              "      display:flex;\n",
              "      flex-wrap:wrap;\n",
              "      gap: 12px;\n",
              "    }\n",
              "\n",
              "    .colab-df-convert {\n",
              "      background-color: #E8F0FE;\n",
              "      border: none;\n",
              "      border-radius: 50%;\n",
              "      cursor: pointer;\n",
              "      display: none;\n",
              "      fill: #1967D2;\n",
              "      height: 32px;\n",
              "      padding: 0 0 0 0;\n",
              "      width: 32px;\n",
              "    }\n",
              "\n",
              "    .colab-df-convert:hover {\n",
              "      background-color: #E2EBFA;\n",
              "      box-shadow: 0px 1px 2px rgba(60, 64, 67, 0.3), 0px 1px 3px 1px rgba(60, 64, 67, 0.15);\n",
              "      fill: #174EA6;\n",
              "    }\n",
              "\n",
              "    [theme=dark] .colab-df-convert {\n",
              "      background-color: #3B4455;\n",
              "      fill: #D2E3FC;\n",
              "    }\n",
              "\n",
              "    [theme=dark] .colab-df-convert:hover {\n",
              "      background-color: #434B5C;\n",
              "      box-shadow: 0px 1px 3px 1px rgba(0, 0, 0, 0.15);\n",
              "      filter: drop-shadow(0px 1px 2px rgba(0, 0, 0, 0.3));\n",
              "      fill: #FFFFFF;\n",
              "    }\n",
              "  </style>\n",
              "\n",
              "      <script>\n",
              "        const buttonEl =\n",
              "          document.querySelector('#df-2bf6295a-0a6f-47d1-af45-26f42d2e86ee button.colab-df-convert');\n",
              "        buttonEl.style.display =\n",
              "          google.colab.kernel.accessAllowed ? 'block' : 'none';\n",
              "\n",
              "        async function convertToInteractive(key) {\n",
              "          const element = document.querySelector('#df-2bf6295a-0a6f-47d1-af45-26f42d2e86ee');\n",
              "          const dataTable =\n",
              "            await google.colab.kernel.invokeFunction('convertToInteractive',\n",
              "                                                     [key], {});\n",
              "          if (!dataTable) return;\n",
              "\n",
              "          const docLinkHtml = 'Like what you see? Visit the ' +\n",
              "            '<a target=\"_blank\" href=https://colab.research.google.com/notebooks/data_table.ipynb>data table notebook</a>'\n",
              "            + ' to learn more about interactive tables.';\n",
              "          element.innerHTML = '';\n",
              "          dataTable['output_type'] = 'display_data';\n",
              "          await google.colab.output.renderOutput(dataTable, element);\n",
              "          const docLink = document.createElement('div');\n",
              "          docLink.innerHTML = docLinkHtml;\n",
              "          element.appendChild(docLink);\n",
              "        }\n",
              "      </script>\n",
              "    </div>\n",
              "  </div>\n",
              "  "
            ]
          },
          "metadata": {},
          "execution_count": 2
        }
      ]
    },
    {
      "cell_type": "code",
      "source": [
        "df.columns"
      ],
      "metadata": {
        "colab": {
          "base_uri": "https://localhost:8080/"
        },
        "id": "0ih3SsRMKPbN",
        "outputId": "1176799a-8a64-44f9-9397-5f9c9614125d"
      },
      "execution_count": 3,
      "outputs": [
        {
          "output_type": "execute_result",
          "data": {
            "text/plain": [
              "Index(['male', 'age', 'education', 'currentSmoker', 'cigsPerDay', 'BPMeds',\n",
              "       'prevalentStroke', 'prevalentHyp', 'diabetes', 'totChol', 'sysBP',\n",
              "       'diaBP', 'BMI', 'heartRate', 'glucose', 'TenYearCHD'],\n",
              "      dtype='object')"
            ]
          },
          "metadata": {},
          "execution_count": 3
        }
      ]
    },
    {
      "cell_type": "markdown",
      "source": [
        "* Column [\"male\"] needs to be more general.\n",
        "* Some Columns needs to be renamed"
      ],
      "metadata": {
        "id": "q5fJ4vT8VRl1"
      }
    },
    {
      "cell_type": "markdown",
      "source": [
        "__Attributes__\n",
        "\n",
        "Each attribute is a potential risk factor. There are both demographic, behavioral and medical risk factors."
      ],
      "metadata": {
        "id": "CceEQetdKEvu"
      }
    },
    {
      "cell_type": "markdown",
      "source": [
        "__Demographic__\n",
        "\n",
        "|__Column__|__Description__|\n",
        "|:---------|:--------------|\n",
        "|• Male: |male or female (Nominal)|\n",
        "|• Age: |Age of the patient (Continuous)|\n",
        "\n",
        "__Behavioral__\n",
        "\n",
        "|__Column__|__Description__|\n",
        "|:---------|:--------------|\n",
        "|• Current Smoker: |whether or not the patient is a current smoker (Nominal)|\n",
        "|• Cigs Per Day: |the number of cigarettes that the person smoked on average in one day.|\n",
        "\n",
        "__Medical (history)__\n",
        "\n",
        "|__Column__|__Description__|\n",
        "|:---------|:--------------|\n",
        "|• BP Meds: |whether or not the patient was on blood pressure medication (Nominal)|\n",
        "|• Prevalent Stroke: |whether or not the patient had previously had a stroke (Nominal)|\n",
        "|• Prevalent Hyp: |whether or not the patient was hypertensive (Nominal)|\n",
        "|• Diabetes: |whether or not the patient had diabetes (Nominal)|\n",
        "\n",
        "__Medical (current)__\n",
        "\n",
        "|__Column__|__Description__|\n",
        "|:---------|:--------------|\n",
        "|• Tot Chol: |total cholesterol level (Continuous)|\n",
        "|• Sys BP: |systolic blood pressure (Continuous)|\n",
        "|• Dia BP: |diastolic blood pressure (Continuous)|\n",
        "|• BMI: |Body Mass Index (Continuous)|\n",
        "|• Heart Rate: |heart rate (Continuous)|\n",
        "|• Glucose: |glucose level (Continuous)|\n",
        "\n",
        "__Predict variable (desired target)__\n",
        "\n",
        "• 10 year risk of coronary heart disease CHD (binary: “1”, means “Yes”, “0” means “No”)"
      ],
      "metadata": {
        "id": "3-zVoWTTVDFq"
      }
    },
    {
      "cell_type": "code",
      "source": [
        "# inspecting numbers of the dataset rows and columns\n",
        "df.shape"
      ],
      "metadata": {
        "colab": {
          "base_uri": "https://localhost:8080/"
        },
        "id": "Fq5XztWuKDvI",
        "outputId": "13f44354-4248-4fbc-98b8-7aee56165a4b"
      },
      "execution_count": 4,
      "outputs": [
        {
          "output_type": "execute_result",
          "data": {
            "text/plain": [
              "(4238, 16)"
            ]
          },
          "metadata": {},
          "execution_count": 4
        }
      ]
    },
    {
      "cell_type": "markdown",
      "source": [
        "* The dataset has 4238 rows and 16 columns including the target column"
      ],
      "metadata": {
        "id": "KYjnY3JlRm_w"
      }
    },
    {
      "cell_type": "code",
      "source": [
        "# inspect data types for each Column\n",
        "df.dtypes"
      ],
      "metadata": {
        "colab": {
          "base_uri": "https://localhost:8080/"
        },
        "id": "kmiNFOO2E3qG",
        "outputId": "3eacba21-a207-4e8e-bb0a-7c89537a7c72"
      },
      "execution_count": 5,
      "outputs": [
        {
          "output_type": "execute_result",
          "data": {
            "text/plain": [
              "male                 int64\n",
              "age                  int64\n",
              "education          float64\n",
              "currentSmoker        int64\n",
              "cigsPerDay         float64\n",
              "BPMeds             float64\n",
              "prevalentStroke      int64\n",
              "prevalentHyp         int64\n",
              "diabetes             int64\n",
              "totChol            float64\n",
              "sysBP              float64\n",
              "diaBP              float64\n",
              "BMI                float64\n",
              "heartRate          float64\n",
              "glucose            float64\n",
              "TenYearCHD           int64\n",
              "dtype: object"
            ]
          },
          "metadata": {},
          "execution_count": 5
        }
      ]
    },
    {
      "cell_type": "markdown",
      "source": [
        "* There are 2 columns [\"education\", \"BPMeds\"] have incorrect data types, since they are nominal data with float64 data type."
      ],
      "metadata": {
        "id": "B8KfMMu8R_oU"
      }
    },
    {
      "cell_type": "code",
      "source": [
        "# look for instances of missing data and possibly errant values\n",
        "df.info()"
      ],
      "metadata": {
        "colab": {
          "base_uri": "https://localhost:8080/"
        },
        "id": "VIAe3Uu9SLGv",
        "outputId": "d354514e-0fff-4d47-f732-09b10a07bbf8"
      },
      "execution_count": 6,
      "outputs": [
        {
          "output_type": "stream",
          "name": "stdout",
          "text": [
            "<class 'pandas.core.frame.DataFrame'>\n",
            "RangeIndex: 4238 entries, 0 to 4237\n",
            "Data columns (total 16 columns):\n",
            " #   Column           Non-Null Count  Dtype  \n",
            "---  ------           --------------  -----  \n",
            " 0   male             4238 non-null   int64  \n",
            " 1   age              4238 non-null   int64  \n",
            " 2   education        4133 non-null   float64\n",
            " 3   currentSmoker    4238 non-null   int64  \n",
            " 4   cigsPerDay       4209 non-null   float64\n",
            " 5   BPMeds           4185 non-null   float64\n",
            " 6   prevalentStroke  4238 non-null   int64  \n",
            " 7   prevalentHyp     4238 non-null   int64  \n",
            " 8   diabetes         4238 non-null   int64  \n",
            " 9   totChol          4188 non-null   float64\n",
            " 10  sysBP            4238 non-null   float64\n",
            " 11  diaBP            4238 non-null   float64\n",
            " 12  BMI              4219 non-null   float64\n",
            " 13  heartRate        4237 non-null   float64\n",
            " 14  glucose          3850 non-null   float64\n",
            " 15  TenYearCHD       4238 non-null   int64  \n",
            "dtypes: float64(9), int64(7)\n",
            "memory usage: 529.9 KB\n"
          ]
        }
      ]
    },
    {
      "cell_type": "markdown",
      "source": [
        "* We have 4238 rows in the datasets, therefore the columns [\"education\", \"cigsPerDay\", \"BPMeds\", \"totChol\", \"BMI\", \"heartRate\", \"glucose\"] have missing values."
      ],
      "metadata": {
        "id": "TeM_WTD0Sdam"
      }
    },
    {
      "cell_type": "code",
      "source": [
        "# Check number of unique values in each column\n",
        "df.nunique() "
      ],
      "metadata": {
        "colab": {
          "base_uri": "https://localhost:8080/"
        },
        "id": "kiPyeCMRTToD",
        "outputId": "fba650b7-b0ae-4546-eba7-6712b810ae89"
      },
      "execution_count": 7,
      "outputs": [
        {
          "output_type": "execute_result",
          "data": {
            "text/plain": [
              "male                  2\n",
              "age                  39\n",
              "education             4\n",
              "currentSmoker         2\n",
              "cigsPerDay           33\n",
              "BPMeds                2\n",
              "prevalentStroke       2\n",
              "prevalentHyp          2\n",
              "diabetes              2\n",
              "totChol             248\n",
              "sysBP               234\n",
              "diaBP               146\n",
              "BMI                1363\n",
              "heartRate            73\n",
              "glucose             143\n",
              "TenYearCHD            2\n",
              "dtype: int64"
            ]
          },
          "metadata": {},
          "execution_count": 7
        }
      ]
    },
    {
      "cell_type": "markdown",
      "source": [
        "* Columns [\"male\", \"currentSmoker\", \"BMeds\", \"prevalentStrike\", \"prevalentHyp\", \"diabetes\"] are nominal attributes each of them has only 2 values, while column [\"education\"] has 4 values and also is a nominal value."
      ],
      "metadata": {
        "id": "9VjYUcZ4TvNB"
      }
    },
    {
      "cell_type": "code",
      "source": [
        "df.TenYearCHD.value_counts()"
      ],
      "metadata": {
        "colab": {
          "base_uri": "https://localhost:8080/"
        },
        "id": "9rXJhXIvmBOw",
        "outputId": "963b370e-cf20-4eda-adfc-fdcc17ceaf2c"
      },
      "execution_count": 8,
      "outputs": [
        {
          "output_type": "execute_result",
          "data": {
            "text/plain": [
              "0    3594\n",
              "1     644\n",
              "Name: TenYearCHD, dtype: int64"
            ]
          },
          "metadata": {},
          "execution_count": 8
        }
      ]
    },
    {
      "cell_type": "markdown",
      "source": [
        "* We have a problem here, the dataset isn't balanced!"
      ],
      "metadata": {
        "id": "u4f8MGrlmXHO"
      }
    },
    {
      "cell_type": "code",
      "source": [
        "# Check the characteristics of the dataset\n",
        "df.iloc[:,np.r_[1,4,9:15]].describe()"
      ],
      "metadata": {
        "colab": {
          "base_uri": "https://localhost:8080/",
          "height": 0
        },
        "id": "62sKDMpBlh8V",
        "outputId": "a994f5b1-f1af-435f-b8a6-dce2ecb0e9b2"
      },
      "execution_count": 9,
      "outputs": [
        {
          "output_type": "execute_result",
          "data": {
            "text/plain": [
              "               age   cigsPerDay      totChol        sysBP        diaBP  \\\n",
              "count  4238.000000  4209.000000  4188.000000  4238.000000  4238.000000   \n",
              "mean     49.584946     9.003089   236.721585   132.352407    82.893464   \n",
              "std       8.572160    11.920094    44.590334    22.038097    11.910850   \n",
              "min      32.000000     0.000000   107.000000    83.500000    48.000000   \n",
              "25%      42.000000     0.000000   206.000000   117.000000    75.000000   \n",
              "50%      49.000000     0.000000   234.000000   128.000000    82.000000   \n",
              "75%      56.000000    20.000000   263.000000   144.000000    89.875000   \n",
              "max      70.000000    70.000000   696.000000   295.000000   142.500000   \n",
              "\n",
              "               BMI    heartRate      glucose  \n",
              "count  4219.000000  4237.000000  3850.000000  \n",
              "mean     25.802008    75.878924    81.966753  \n",
              "std       4.080111    12.026596    23.959998  \n",
              "min      15.540000    44.000000    40.000000  \n",
              "25%      23.070000    68.000000    71.000000  \n",
              "50%      25.400000    75.000000    78.000000  \n",
              "75%      28.040000    83.000000    87.000000  \n",
              "max      56.800000   143.000000   394.000000  "
            ],
            "text/html": [
              "\n",
              "  <div id=\"df-286d158b-d9e8-40d2-84fb-8b3f035e2224\">\n",
              "    <div class=\"colab-df-container\">\n",
              "      <div>\n",
              "<style scoped>\n",
              "    .dataframe tbody tr th:only-of-type {\n",
              "        vertical-align: middle;\n",
              "    }\n",
              "\n",
              "    .dataframe tbody tr th {\n",
              "        vertical-align: top;\n",
              "    }\n",
              "\n",
              "    .dataframe thead th {\n",
              "        text-align: right;\n",
              "    }\n",
              "</style>\n",
              "<table border=\"1\" class=\"dataframe\">\n",
              "  <thead>\n",
              "    <tr style=\"text-align: right;\">\n",
              "      <th></th>\n",
              "      <th>age</th>\n",
              "      <th>cigsPerDay</th>\n",
              "      <th>totChol</th>\n",
              "      <th>sysBP</th>\n",
              "      <th>diaBP</th>\n",
              "      <th>BMI</th>\n",
              "      <th>heartRate</th>\n",
              "      <th>glucose</th>\n",
              "    </tr>\n",
              "  </thead>\n",
              "  <tbody>\n",
              "    <tr>\n",
              "      <th>count</th>\n",
              "      <td>4238.000000</td>\n",
              "      <td>4209.000000</td>\n",
              "      <td>4188.000000</td>\n",
              "      <td>4238.000000</td>\n",
              "      <td>4238.000000</td>\n",
              "      <td>4219.000000</td>\n",
              "      <td>4237.000000</td>\n",
              "      <td>3850.000000</td>\n",
              "    </tr>\n",
              "    <tr>\n",
              "      <th>mean</th>\n",
              "      <td>49.584946</td>\n",
              "      <td>9.003089</td>\n",
              "      <td>236.721585</td>\n",
              "      <td>132.352407</td>\n",
              "      <td>82.893464</td>\n",
              "      <td>25.802008</td>\n",
              "      <td>75.878924</td>\n",
              "      <td>81.966753</td>\n",
              "    </tr>\n",
              "    <tr>\n",
              "      <th>std</th>\n",
              "      <td>8.572160</td>\n",
              "      <td>11.920094</td>\n",
              "      <td>44.590334</td>\n",
              "      <td>22.038097</td>\n",
              "      <td>11.910850</td>\n",
              "      <td>4.080111</td>\n",
              "      <td>12.026596</td>\n",
              "      <td>23.959998</td>\n",
              "    </tr>\n",
              "    <tr>\n",
              "      <th>min</th>\n",
              "      <td>32.000000</td>\n",
              "      <td>0.000000</td>\n",
              "      <td>107.000000</td>\n",
              "      <td>83.500000</td>\n",
              "      <td>48.000000</td>\n",
              "      <td>15.540000</td>\n",
              "      <td>44.000000</td>\n",
              "      <td>40.000000</td>\n",
              "    </tr>\n",
              "    <tr>\n",
              "      <th>25%</th>\n",
              "      <td>42.000000</td>\n",
              "      <td>0.000000</td>\n",
              "      <td>206.000000</td>\n",
              "      <td>117.000000</td>\n",
              "      <td>75.000000</td>\n",
              "      <td>23.070000</td>\n",
              "      <td>68.000000</td>\n",
              "      <td>71.000000</td>\n",
              "    </tr>\n",
              "    <tr>\n",
              "      <th>50%</th>\n",
              "      <td>49.000000</td>\n",
              "      <td>0.000000</td>\n",
              "      <td>234.000000</td>\n",
              "      <td>128.000000</td>\n",
              "      <td>82.000000</td>\n",
              "      <td>25.400000</td>\n",
              "      <td>75.000000</td>\n",
              "      <td>78.000000</td>\n",
              "    </tr>\n",
              "    <tr>\n",
              "      <th>75%</th>\n",
              "      <td>56.000000</td>\n",
              "      <td>20.000000</td>\n",
              "      <td>263.000000</td>\n",
              "      <td>144.000000</td>\n",
              "      <td>89.875000</td>\n",
              "      <td>28.040000</td>\n",
              "      <td>83.000000</td>\n",
              "      <td>87.000000</td>\n",
              "    </tr>\n",
              "    <tr>\n",
              "      <th>max</th>\n",
              "      <td>70.000000</td>\n",
              "      <td>70.000000</td>\n",
              "      <td>696.000000</td>\n",
              "      <td>295.000000</td>\n",
              "      <td>142.500000</td>\n",
              "      <td>56.800000</td>\n",
              "      <td>143.000000</td>\n",
              "      <td>394.000000</td>\n",
              "    </tr>\n",
              "  </tbody>\n",
              "</table>\n",
              "</div>\n",
              "      <button class=\"colab-df-convert\" onclick=\"convertToInteractive('df-286d158b-d9e8-40d2-84fb-8b3f035e2224')\"\n",
              "              title=\"Convert this dataframe to an interactive table.\"\n",
              "              style=\"display:none;\">\n",
              "        \n",
              "  <svg xmlns=\"http://www.w3.org/2000/svg\" height=\"24px\"viewBox=\"0 0 24 24\"\n",
              "       width=\"24px\">\n",
              "    <path d=\"M0 0h24v24H0V0z\" fill=\"none\"/>\n",
              "    <path d=\"M18.56 5.44l.94 2.06.94-2.06 2.06-.94-2.06-.94-.94-2.06-.94 2.06-2.06.94zm-11 1L8.5 8.5l.94-2.06 2.06-.94-2.06-.94L8.5 2.5l-.94 2.06-2.06.94zm10 10l.94 2.06.94-2.06 2.06-.94-2.06-.94-.94-2.06-.94 2.06-2.06.94z\"/><path d=\"M17.41 7.96l-1.37-1.37c-.4-.4-.92-.59-1.43-.59-.52 0-1.04.2-1.43.59L10.3 9.45l-7.72 7.72c-.78.78-.78 2.05 0 2.83L4 21.41c.39.39.9.59 1.41.59.51 0 1.02-.2 1.41-.59l7.78-7.78 2.81-2.81c.8-.78.8-2.07 0-2.86zM5.41 20L4 18.59l7.72-7.72 1.47 1.35L5.41 20z\"/>\n",
              "  </svg>\n",
              "      </button>\n",
              "      \n",
              "  <style>\n",
              "    .colab-df-container {\n",
              "      display:flex;\n",
              "      flex-wrap:wrap;\n",
              "      gap: 12px;\n",
              "    }\n",
              "\n",
              "    .colab-df-convert {\n",
              "      background-color: #E8F0FE;\n",
              "      border: none;\n",
              "      border-radius: 50%;\n",
              "      cursor: pointer;\n",
              "      display: none;\n",
              "      fill: #1967D2;\n",
              "      height: 32px;\n",
              "      padding: 0 0 0 0;\n",
              "      width: 32px;\n",
              "    }\n",
              "\n",
              "    .colab-df-convert:hover {\n",
              "      background-color: #E2EBFA;\n",
              "      box-shadow: 0px 1px 2px rgba(60, 64, 67, 0.3), 0px 1px 3px 1px rgba(60, 64, 67, 0.15);\n",
              "      fill: #174EA6;\n",
              "    }\n",
              "\n",
              "    [theme=dark] .colab-df-convert {\n",
              "      background-color: #3B4455;\n",
              "      fill: #D2E3FC;\n",
              "    }\n",
              "\n",
              "    [theme=dark] .colab-df-convert:hover {\n",
              "      background-color: #434B5C;\n",
              "      box-shadow: 0px 1px 3px 1px rgba(0, 0, 0, 0.15);\n",
              "      filter: drop-shadow(0px 1px 2px rgba(0, 0, 0, 0.3));\n",
              "      fill: #FFFFFF;\n",
              "    }\n",
              "  </style>\n",
              "\n",
              "      <script>\n",
              "        const buttonEl =\n",
              "          document.querySelector('#df-286d158b-d9e8-40d2-84fb-8b3f035e2224 button.colab-df-convert');\n",
              "        buttonEl.style.display =\n",
              "          google.colab.kernel.accessAllowed ? 'block' : 'none';\n",
              "\n",
              "        async function convertToInteractive(key) {\n",
              "          const element = document.querySelector('#df-286d158b-d9e8-40d2-84fb-8b3f035e2224');\n",
              "          const dataTable =\n",
              "            await google.colab.kernel.invokeFunction('convertToInteractive',\n",
              "                                                     [key], {});\n",
              "          if (!dataTable) return;\n",
              "\n",
              "          const docLinkHtml = 'Like what you see? Visit the ' +\n",
              "            '<a target=\"_blank\" href=https://colab.research.google.com/notebooks/data_table.ipynb>data table notebook</a>'\n",
              "            + ' to learn more about interactive tables.';\n",
              "          element.innerHTML = '';\n",
              "          dataTable['output_type'] = 'display_data';\n",
              "          await google.colab.output.renderOutput(dataTable, element);\n",
              "          const docLink = document.createElement('div');\n",
              "          docLink.innerHTML = docLinkHtml;\n",
              "          element.appendChild(docLink);\n",
              "        }\n",
              "      </script>\n",
              "    </div>\n",
              "  </div>\n",
              "  "
            ]
          },
          "metadata": {},
          "execution_count": 9
        }
      ]
    },
    {
      "cell_type": "code",
      "source": [
        "# Printing the last few lines to see how the data\n",
        "df.tail()"
      ],
      "metadata": {
        "colab": {
          "base_uri": "https://localhost:8080/",
          "height": 0
        },
        "id": "V7zrf4f1UhDl",
        "outputId": "3674bc50-1be8-4823-9052-d5643e0c20f9"
      },
      "execution_count": 10,
      "outputs": [
        {
          "output_type": "execute_result",
          "data": {
            "text/plain": [
              "      male  age  education  currentSmoker  cigsPerDay  BPMeds  \\\n",
              "4233     1   50        1.0              1         1.0     0.0   \n",
              "4234     1   51        3.0              1        43.0     0.0   \n",
              "4235     0   48        2.0              1        20.0     NaN   \n",
              "4236     0   44        1.0              1        15.0     0.0   \n",
              "4237     0   52        2.0              0         0.0     0.0   \n",
              "\n",
              "      prevalentStroke  prevalentHyp  diabetes  totChol  sysBP  diaBP    BMI  \\\n",
              "4233                0             1         0    313.0  179.0   92.0  25.97   \n",
              "4234                0             0         0    207.0  126.5   80.0  19.71   \n",
              "4235                0             0         0    248.0  131.0   72.0  22.00   \n",
              "4236                0             0         0    210.0  126.5   87.0  19.16   \n",
              "4237                0             0         0    269.0  133.5   83.0  21.47   \n",
              "\n",
              "      heartRate  glucose  TenYearCHD  \n",
              "4233       66.0     86.0           1  \n",
              "4234       65.0     68.0           0  \n",
              "4235       84.0     86.0           0  \n",
              "4236       86.0      NaN           0  \n",
              "4237       80.0    107.0           0  "
            ],
            "text/html": [
              "\n",
              "  <div id=\"df-f5321db0-3978-4ead-83ea-e4badb006ccd\">\n",
              "    <div class=\"colab-df-container\">\n",
              "      <div>\n",
              "<style scoped>\n",
              "    .dataframe tbody tr th:only-of-type {\n",
              "        vertical-align: middle;\n",
              "    }\n",
              "\n",
              "    .dataframe tbody tr th {\n",
              "        vertical-align: top;\n",
              "    }\n",
              "\n",
              "    .dataframe thead th {\n",
              "        text-align: right;\n",
              "    }\n",
              "</style>\n",
              "<table border=\"1\" class=\"dataframe\">\n",
              "  <thead>\n",
              "    <tr style=\"text-align: right;\">\n",
              "      <th></th>\n",
              "      <th>male</th>\n",
              "      <th>age</th>\n",
              "      <th>education</th>\n",
              "      <th>currentSmoker</th>\n",
              "      <th>cigsPerDay</th>\n",
              "      <th>BPMeds</th>\n",
              "      <th>prevalentStroke</th>\n",
              "      <th>prevalentHyp</th>\n",
              "      <th>diabetes</th>\n",
              "      <th>totChol</th>\n",
              "      <th>sysBP</th>\n",
              "      <th>diaBP</th>\n",
              "      <th>BMI</th>\n",
              "      <th>heartRate</th>\n",
              "      <th>glucose</th>\n",
              "      <th>TenYearCHD</th>\n",
              "    </tr>\n",
              "  </thead>\n",
              "  <tbody>\n",
              "    <tr>\n",
              "      <th>4233</th>\n",
              "      <td>1</td>\n",
              "      <td>50</td>\n",
              "      <td>1.0</td>\n",
              "      <td>1</td>\n",
              "      <td>1.0</td>\n",
              "      <td>0.0</td>\n",
              "      <td>0</td>\n",
              "      <td>1</td>\n",
              "      <td>0</td>\n",
              "      <td>313.0</td>\n",
              "      <td>179.0</td>\n",
              "      <td>92.0</td>\n",
              "      <td>25.97</td>\n",
              "      <td>66.0</td>\n",
              "      <td>86.0</td>\n",
              "      <td>1</td>\n",
              "    </tr>\n",
              "    <tr>\n",
              "      <th>4234</th>\n",
              "      <td>1</td>\n",
              "      <td>51</td>\n",
              "      <td>3.0</td>\n",
              "      <td>1</td>\n",
              "      <td>43.0</td>\n",
              "      <td>0.0</td>\n",
              "      <td>0</td>\n",
              "      <td>0</td>\n",
              "      <td>0</td>\n",
              "      <td>207.0</td>\n",
              "      <td>126.5</td>\n",
              "      <td>80.0</td>\n",
              "      <td>19.71</td>\n",
              "      <td>65.0</td>\n",
              "      <td>68.0</td>\n",
              "      <td>0</td>\n",
              "    </tr>\n",
              "    <tr>\n",
              "      <th>4235</th>\n",
              "      <td>0</td>\n",
              "      <td>48</td>\n",
              "      <td>2.0</td>\n",
              "      <td>1</td>\n",
              "      <td>20.0</td>\n",
              "      <td>NaN</td>\n",
              "      <td>0</td>\n",
              "      <td>0</td>\n",
              "      <td>0</td>\n",
              "      <td>248.0</td>\n",
              "      <td>131.0</td>\n",
              "      <td>72.0</td>\n",
              "      <td>22.00</td>\n",
              "      <td>84.0</td>\n",
              "      <td>86.0</td>\n",
              "      <td>0</td>\n",
              "    </tr>\n",
              "    <tr>\n",
              "      <th>4236</th>\n",
              "      <td>0</td>\n",
              "      <td>44</td>\n",
              "      <td>1.0</td>\n",
              "      <td>1</td>\n",
              "      <td>15.0</td>\n",
              "      <td>0.0</td>\n",
              "      <td>0</td>\n",
              "      <td>0</td>\n",
              "      <td>0</td>\n",
              "      <td>210.0</td>\n",
              "      <td>126.5</td>\n",
              "      <td>87.0</td>\n",
              "      <td>19.16</td>\n",
              "      <td>86.0</td>\n",
              "      <td>NaN</td>\n",
              "      <td>0</td>\n",
              "    </tr>\n",
              "    <tr>\n",
              "      <th>4237</th>\n",
              "      <td>0</td>\n",
              "      <td>52</td>\n",
              "      <td>2.0</td>\n",
              "      <td>0</td>\n",
              "      <td>0.0</td>\n",
              "      <td>0.0</td>\n",
              "      <td>0</td>\n",
              "      <td>0</td>\n",
              "      <td>0</td>\n",
              "      <td>269.0</td>\n",
              "      <td>133.5</td>\n",
              "      <td>83.0</td>\n",
              "      <td>21.47</td>\n",
              "      <td>80.0</td>\n",
              "      <td>107.0</td>\n",
              "      <td>0</td>\n",
              "    </tr>\n",
              "  </tbody>\n",
              "</table>\n",
              "</div>\n",
              "      <button class=\"colab-df-convert\" onclick=\"convertToInteractive('df-f5321db0-3978-4ead-83ea-e4badb006ccd')\"\n",
              "              title=\"Convert this dataframe to an interactive table.\"\n",
              "              style=\"display:none;\">\n",
              "        \n",
              "  <svg xmlns=\"http://www.w3.org/2000/svg\" height=\"24px\"viewBox=\"0 0 24 24\"\n",
              "       width=\"24px\">\n",
              "    <path d=\"M0 0h24v24H0V0z\" fill=\"none\"/>\n",
              "    <path d=\"M18.56 5.44l.94 2.06.94-2.06 2.06-.94-2.06-.94-.94-2.06-.94 2.06-2.06.94zm-11 1L8.5 8.5l.94-2.06 2.06-.94-2.06-.94L8.5 2.5l-.94 2.06-2.06.94zm10 10l.94 2.06.94-2.06 2.06-.94-2.06-.94-.94-2.06-.94 2.06-2.06.94z\"/><path d=\"M17.41 7.96l-1.37-1.37c-.4-.4-.92-.59-1.43-.59-.52 0-1.04.2-1.43.59L10.3 9.45l-7.72 7.72c-.78.78-.78 2.05 0 2.83L4 21.41c.39.39.9.59 1.41.59.51 0 1.02-.2 1.41-.59l7.78-7.78 2.81-2.81c.8-.78.8-2.07 0-2.86zM5.41 20L4 18.59l7.72-7.72 1.47 1.35L5.41 20z\"/>\n",
              "  </svg>\n",
              "      </button>\n",
              "      \n",
              "  <style>\n",
              "    .colab-df-container {\n",
              "      display:flex;\n",
              "      flex-wrap:wrap;\n",
              "      gap: 12px;\n",
              "    }\n",
              "\n",
              "    .colab-df-convert {\n",
              "      background-color: #E8F0FE;\n",
              "      border: none;\n",
              "      border-radius: 50%;\n",
              "      cursor: pointer;\n",
              "      display: none;\n",
              "      fill: #1967D2;\n",
              "      height: 32px;\n",
              "      padding: 0 0 0 0;\n",
              "      width: 32px;\n",
              "    }\n",
              "\n",
              "    .colab-df-convert:hover {\n",
              "      background-color: #E2EBFA;\n",
              "      box-shadow: 0px 1px 2px rgba(60, 64, 67, 0.3), 0px 1px 3px 1px rgba(60, 64, 67, 0.15);\n",
              "      fill: #174EA6;\n",
              "    }\n",
              "\n",
              "    [theme=dark] .colab-df-convert {\n",
              "      background-color: #3B4455;\n",
              "      fill: #D2E3FC;\n",
              "    }\n",
              "\n",
              "    [theme=dark] .colab-df-convert:hover {\n",
              "      background-color: #434B5C;\n",
              "      box-shadow: 0px 1px 3px 1px rgba(0, 0, 0, 0.15);\n",
              "      filter: drop-shadow(0px 1px 2px rgba(0, 0, 0, 0.3));\n",
              "      fill: #FFFFFF;\n",
              "    }\n",
              "  </style>\n",
              "\n",
              "      <script>\n",
              "        const buttonEl =\n",
              "          document.querySelector('#df-f5321db0-3978-4ead-83ea-e4badb006ccd button.colab-df-convert');\n",
              "        buttonEl.style.display =\n",
              "          google.colab.kernel.accessAllowed ? 'block' : 'none';\n",
              "\n",
              "        async function convertToInteractive(key) {\n",
              "          const element = document.querySelector('#df-f5321db0-3978-4ead-83ea-e4badb006ccd');\n",
              "          const dataTable =\n",
              "            await google.colab.kernel.invokeFunction('convertToInteractive',\n",
              "                                                     [key], {});\n",
              "          if (!dataTable) return;\n",
              "\n",
              "          const docLinkHtml = 'Like what you see? Visit the ' +\n",
              "            '<a target=\"_blank\" href=https://colab.research.google.com/notebooks/data_table.ipynb>data table notebook</a>'\n",
              "            + ' to learn more about interactive tables.';\n",
              "          element.innerHTML = '';\n",
              "          dataTable['output_type'] = 'display_data';\n",
              "          await google.colab.output.renderOutput(dataTable, element);\n",
              "          const docLink = document.createElement('div');\n",
              "          docLink.innerHTML = docLinkHtml;\n",
              "          element.appendChild(docLink);\n",
              "        }\n",
              "      </script>\n",
              "    </div>\n",
              "  </div>\n",
              "  "
            ]
          },
          "metadata": {},
          "execution_count": 10
        }
      ]
    },
    {
      "cell_type": "markdown",
      "source": [
        "<a id='preprocessin'></a>\n",
        "## Data Preprocessing"
      ],
      "metadata": {
        "id": "HNv1ZYlkWOop"
      }
    },
    {
      "cell_type": "markdown",
      "source": [
        "### Data Cleaning (Fix problems in the dataset!)\n",
        "\n",
        "__Duplicated Data__"
      ],
      "metadata": {
        "id": "4dzmLHuEUn6c"
      }
    },
    {
      "cell_type": "code",
      "source": [
        "# Check duplicated data\n",
        "df.duplicated().sum()"
      ],
      "metadata": {
        "colab": {
          "base_uri": "https://localhost:8080/"
        },
        "id": "eSuEANfgUvZ_",
        "outputId": "0e98cb24-ccca-4f81-ecbc-115dd2be101c"
      },
      "execution_count": 11,
      "outputs": [
        {
          "output_type": "execute_result",
          "data": {
            "text/plain": [
              "0"
            ]
          },
          "metadata": {},
          "execution_count": 11
        }
      ]
    },
    {
      "cell_type": "markdown",
      "source": [
        "* That's great! The dataset has no duplicated rows!"
      ],
      "metadata": {
        "id": "auQpwkzcVgyA"
      }
    },
    {
      "cell_type": "markdown",
      "source": [
        "__Renaming Data Columns__"
      ],
      "metadata": {
        "id": "Wurfrg9JW3S1"
      }
    },
    {
      "cell_type": "code",
      "source": [
        "# rename the column male to gender to be more general\n",
        "df.rename(columns={\"male\": \"gender\"}, inplace= True)"
      ],
      "metadata": {
        "id": "0IfODRIDVpFd"
      },
      "execution_count": 12,
      "outputs": []
    },
    {
      "cell_type": "code",
      "source": [
        "# lowercase the columns names\n",
        "df.rename(columns = lambda X: X.lower(), inplace= True)\n",
        "df.columns"
      ],
      "metadata": {
        "colab": {
          "base_uri": "https://localhost:8080/"
        },
        "id": "KeQdXGU9XM4a",
        "outputId": "510a1717-a99a-4e08-ccab-db9fbba82476"
      },
      "execution_count": 13,
      "outputs": [
        {
          "output_type": "execute_result",
          "data": {
            "text/plain": [
              "Index(['gender', 'age', 'education', 'currentsmoker', 'cigsperday', 'bpmeds',\n",
              "       'prevalentstroke', 'prevalenthyp', 'diabetes', 'totchol', 'sysbp',\n",
              "       'diabp', 'bmi', 'heartrate', 'glucose', 'tenyearchd'],\n",
              "      dtype='object')"
            ]
          },
          "metadata": {},
          "execution_count": 13
        }
      ]
    },
    {
      "cell_type": "code",
      "source": [
        "# separate the columns names\n",
        "df.rename(columns={\"currentsmoker\": \"current_smoker\", \"cigsperday\": \"cigs_per_day\", \n",
        "                   \"bpmeds\": \"bp_meds\",\"prevalentstroke\": \"prevalent_stroke\", \n",
        "                   \"prevalenthyp\": \"prevalent_hyp\",\"totchol\": \"tot_chol\", \n",
        "                   \"sysbp\": \"sys_bp\", \"diabp\": \"dia_bp\", \"heartrate\": \"heart_rate\"}, inplace= True)"
      ],
      "metadata": {
        "id": "RyidAps8Xlih"
      },
      "execution_count": 14,
      "outputs": []
    },
    {
      "cell_type": "code",
      "source": [
        "df.columns"
      ],
      "metadata": {
        "colab": {
          "base_uri": "https://localhost:8080/"
        },
        "id": "6CAf2cI3Zfnm",
        "outputId": "d1adc43d-5d29-47fa-8662-2034631c15fa"
      },
      "execution_count": 15,
      "outputs": [
        {
          "output_type": "execute_result",
          "data": {
            "text/plain": [
              "Index(['gender', 'age', 'education', 'current_smoker', 'cigs_per_day',\n",
              "       'bp_meds', 'prevalent_stroke', 'prevalent_hyp', 'diabetes', 'tot_chol',\n",
              "       'sys_bp', 'dia_bp', 'bmi', 'heart_rate', 'glucose', 'tenyearchd'],\n",
              "      dtype='object')"
            ]
          },
          "metadata": {},
          "execution_count": 15
        }
      ]
    },
    {
      "cell_type": "markdown",
      "source": [
        "* Now datasets columns are clean!"
      ],
      "metadata": {
        "id": "JQO-pfHOZkHe"
      }
    },
    {
      "cell_type": "markdown",
      "source": [
        "__Missing Data__"
      ],
      "metadata": {
        "id": "y4bnpF1KZsPZ"
      }
    },
    {
      "cell_type": "code",
      "source": [
        "# print number of NaN Values\n",
        "df.isnull().sum()"
      ],
      "metadata": {
        "colab": {
          "base_uri": "https://localhost:8080/"
        },
        "id": "M7Yv_kzZfdzI",
        "outputId": "98c5bd06-ec75-4b7e-b1c2-2729f533506c"
      },
      "execution_count": 16,
      "outputs": [
        {
          "output_type": "execute_result",
          "data": {
            "text/plain": [
              "gender                0\n",
              "age                   0\n",
              "education           105\n",
              "current_smoker        0\n",
              "cigs_per_day         29\n",
              "bp_meds              53\n",
              "prevalent_stroke      0\n",
              "prevalent_hyp         0\n",
              "diabetes              0\n",
              "tot_chol             50\n",
              "sys_bp                0\n",
              "dia_bp                0\n",
              "bmi                  19\n",
              "heart_rate            1\n",
              "glucose             388\n",
              "tenyearchd            0\n",
              "dtype: int64"
            ]
          },
          "metadata": {},
          "execution_count": 16
        }
      ]
    },
    {
      "cell_type": "code",
      "source": [
        "# Taking care of missing data\n",
        "# import required library\n",
        "from sklearn.impute import SimpleImputer\n",
        "\n",
        "# Setting strategy for numrical data\n",
        "imputer = SimpleImputer(missing_values=np.nan, strategy='mean')"
      ],
      "metadata": {
        "id": "8Hb6CjN7ZoIL"
      },
      "execution_count": 17,
      "outputs": []
    },
    {
      "cell_type": "code",
      "source": [
        "# Choose only missing data columns of numerical data\n",
        "index = np.r_[4,9,12:15]\n",
        "\n",
        "# Apply my strategy on selected columns\n",
        "imputer = imputer.fit(df.iloc[:,index])\n",
        "\n",
        "# Transform my strategy on the data\n",
        "df.iloc[:,index] = imputer.transform(df.iloc[:,index])"
      ],
      "metadata": {
        "id": "8O57Z_yZaE6Y"
      },
      "execution_count": 18,
      "outputs": []
    },
    {
      "cell_type": "code",
      "source": [
        "# Setting strategy for nominal data\n",
        "imputer = SimpleImputer(missing_values=np.nan, strategy='most_frequent')"
      ],
      "metadata": {
        "id": "XINKOFl3d8Rs"
      },
      "execution_count": 19,
      "outputs": []
    },
    {
      "cell_type": "code",
      "source": [
        "# Choose only missing data columns of nominal data\n",
        "index = np.r_[2, 5]"
      ],
      "metadata": {
        "id": "H2wfSuXoeNaG"
      },
      "execution_count": 20,
      "outputs": []
    },
    {
      "cell_type": "code",
      "source": [
        "# Apply my strategy on selected columns\n",
        "imputer = imputer.fit(df.iloc[:,index])\n",
        "\n",
        "# Transform my strategy on the data\n",
        "df.iloc[:,index] = imputer.transform(df.iloc[:,index])"
      ],
      "metadata": {
        "id": "9Y_HEu9reNig"
      },
      "execution_count": 21,
      "outputs": []
    },
    {
      "cell_type": "code",
      "source": [
        "# Check for any NaN Values\n",
        "df.isnull().sum().any()"
      ],
      "metadata": {
        "colab": {
          "base_uri": "https://localhost:8080/"
        },
        "id": "yDYhNUBqfMnR",
        "outputId": "ff28523d-82fd-4937-8e24-259789108932"
      },
      "execution_count": 22,
      "outputs": [
        {
          "output_type": "execute_result",
          "data": {
            "text/plain": [
              "False"
            ]
          },
          "metadata": {},
          "execution_count": 22
        }
      ]
    },
    {
      "cell_type": "markdown",
      "source": [
        "* The dataset now has no missing data!"
      ],
      "metadata": {
        "id": "vIrMYKrEg_Lu"
      }
    },
    {
      "cell_type": "markdown",
      "source": [
        "__Incorrect Data Types__"
      ],
      "metadata": {
        "id": "nioxKMY2b6BG"
      }
    },
    {
      "cell_type": "code",
      "source": [
        "# Convert columns \"education\", \"bp_meds\" to np.int64\n",
        "df = df.astype({\"education\": np.int64, \"bp_meds\": np.int64})\n",
        "df.dtypes"
      ],
      "metadata": {
        "colab": {
          "base_uri": "https://localhost:8080/"
        },
        "id": "KOxax2kqcBAg",
        "outputId": "10a93bc6-b38b-49fd-834e-e00df3143084"
      },
      "execution_count": 23,
      "outputs": [
        {
          "output_type": "execute_result",
          "data": {
            "text/plain": [
              "gender                int64\n",
              "age                   int64\n",
              "education             int64\n",
              "current_smoker        int64\n",
              "cigs_per_day        float64\n",
              "bp_meds               int64\n",
              "prevalent_stroke      int64\n",
              "prevalent_hyp         int64\n",
              "diabetes              int64\n",
              "tot_chol            float64\n",
              "sys_bp              float64\n",
              "dia_bp              float64\n",
              "bmi                 float64\n",
              "heart_rate          float64\n",
              "glucose             float64\n",
              "tenyearchd            int64\n",
              "dtype: object"
            ]
          },
          "metadata": {},
          "execution_count": 23
        }
      ]
    },
    {
      "cell_type": "markdown",
      "source": [
        "* Columns \"education\", \"bp_meds\" have correct data types now!"
      ],
      "metadata": {
        "id": "138-mSGOhM1A"
      }
    },
    {
      "cell_type": "markdown",
      "source": [
        "__Removing Outliers__"
      ],
      "metadata": {
        "id": "sMMrokwv4BdR"
      }
    },
    {
      "cell_type": "code",
      "source": [
        "Index = np.r_[1,4,9:15]\n",
        "plt.figure(figsize=(16,5))\n",
        "df.iloc[:,Index].boxplot()\n",
        "plt.title(\"Distribution of the values ​​of all potential predictors\")\n",
        "plt.show()"
      ],
      "metadata": {
        "colab": {
          "base_uri": "https://localhost:8080/",
          "height": 337
        },
        "id": "HaN04V25R0a_",
        "outputId": "ef4292f3-ad54-4644-8fe4-7aa7b8dfa317"
      },
      "execution_count": 24,
      "outputs": [
        {
          "output_type": "display_data",
          "data": {
            "text/plain": [
              "<Figure size 1152x360 with 1 Axes>"
            ],
            "image/png": "[encoded data removed]"
          },
          "metadata": {
            "needs_background": "light"
          }
        }
      ]
    },
    {
      "cell_type": "code",
      "source": [
        "outliers = ['age','cigs_per_day', 'tot_chol', 'sys_bp','dia_bp', 'bmi', 'heart_rate', 'glucose']\n",
        "for column in outliers:\n",
        "  Q1,Q3 = np.percentile(df[column],[25,75])\n",
        "  IQR = Q3 - Q1\n",
        "  lower_fence = Q1 - (1.5*IQR)\n",
        "  upper_fence = Q3 + (1.5*IQR)  \n",
        "  df[column] = df[column].apply(lambda x: upper_fence if x>upper_fence\n",
        "                                              else lower_fence if x<lower_fence else x)"
      ],
      "metadata": {
        "id": "Ou-VHJ-3R382"
      },
      "execution_count": 25,
      "outputs": []
    },
    {
      "cell_type": "code",
      "source": [
        "plt.figure(figsize=(16,5))\n",
        "sns.boxplot(data=df.iloc[:,Index])\n",
        "plt.title(\"Distribution of the values ​​of all potential predictors\")\n",
        "plt.grid()\n",
        "plt.show()"
      ],
      "metadata": {
        "colab": {
          "base_uri": "https://localhost:8080/",
          "height": 337
        },
        "id": "AFHReX6AR6CI",
        "outputId": "158f7c2e-beb0-4875-e824-4e3f264b9512"
      },
      "execution_count": 26,
      "outputs": [
        {
          "output_type": "display_data",
          "data": {
            "text/plain": [
              "<Figure size 1152x360 with 1 Axes>"
            ],
            "image/png": "[encoded data removed]"
          },
          "metadata": {
            "needs_background": "light"
          }
        }
      ]
    },
    {
      "cell_type": "markdown",
      "source": [
        "### Saving Data for Future work\n"
      ],
      "metadata": {
        "id": "ed26QMBf3Nio"
      }
    },
    {
      "cell_type": "code",
      "source": [
        "df.to_csv('framingham_clean.csv', index=False)"
      ],
      "metadata": {
        "id": "AR1V3jjQjr0x"
      },
      "execution_count": 27,
      "outputs": []
    },
    {
      "cell_type": "code",
      "source": [
        "df_clean = pd.read_csv('framingham_clean.csv')\n",
        "df_clean.head()"
      ],
      "metadata": {
        "colab": {
          "base_uri": "https://localhost:8080/",
          "height": 270
        },
        "id": "cczBrhOSkHSs",
        "outputId": "fa9fc1b2-e4f5-43d4-d08d-5c5edf097b83"
      },
      "execution_count": 28,
      "outputs": [
        {
          "output_type": "execute_result",
          "data": {
            "text/plain": [
              "   gender  age  education  current_smoker  cigs_per_day  bp_meds  \\\n",
              "0       1   39          4               0           0.0        0   \n",
              "1       0   46          2               0           0.0        0   \n",
              "2       1   48          1               1          20.0        0   \n",
              "3       0   61          3               1          30.0        0   \n",
              "4       0   46          3               1          23.0        0   \n",
              "\n",
              "   prevalent_stroke  prevalent_hyp  diabetes  tot_chol  sys_bp  dia_bp    bmi  \\\n",
              "0                 0              0         0     195.0   106.0    70.0  26.97   \n",
              "1                 0              0         0     250.0   121.0    81.0  28.73   \n",
              "2                 0              0         0     245.0   127.5    80.0  25.34   \n",
              "3                 0              1         0     225.0   150.0    95.0  28.58   \n",
              "4                 0              0         0     285.0   130.0    84.0  23.10   \n",
              "\n",
              "   heart_rate  glucose  tenyearchd  \n",
              "0        80.0     77.0           0  \n",
              "1        95.0     76.0           0  \n",
              "2        75.0     70.0           0  \n",
              "3        65.0    103.0           1  \n",
              "4        85.0     85.0           0  "
            ],
            "text/html": [
              "\n",
              "  <div id=\"df-0dc4ce47-487e-48db-8af6-7c0fd51cf48b\">\n",
              "    <div class=\"colab-df-container\">\n",
              "      <div>\n",
              "<style scoped>\n",
              "    .dataframe tbody tr th:only-of-type {\n",
              "        vertical-align: middle;\n",
              "    }\n",
              "\n",
              "    .dataframe tbody tr th {\n",
              "        vertical-align: top;\n",
              "    }\n",
              "\n",
              "    .dataframe thead th {\n",
              "        text-align: right;\n",
              "    }\n",
              "</style>\n",
              "<table border=\"1\" class=\"dataframe\">\n",
              "  <thead>\n",
              "    <tr style=\"text-align: right;\">\n",
              "      <th></th>\n",
              "      <th>gender</th>\n",
              "      <th>age</th>\n",
              "      <th>education</th>\n",
              "      <th>current_smoker</th>\n",
              "      <th>cigs_per_day</th>\n",
              "      <th>bp_meds</th>\n",
              "      <th>prevalent_stroke</th>\n",
              "      <th>prevalent_hyp</th>\n",
              "      <th>diabetes</th>\n",
              "      <th>tot_chol</th>\n",
              "      <th>sys_bp</th>\n",
              "      <th>dia_bp</th>\n",
              "      <th>bmi</th>\n",
              "      <th>heart_rate</th>\n",
              "      <th>glucose</th>\n",
              "      <th>tenyearchd</th>\n",
              "    </tr>\n",
              "  </thead>\n",
              "  <tbody>\n",
              "    <tr>\n",
              "      <th>0</th>\n",
              "      <td>1</td>\n",
              "      <td>39</td>\n",
              "      <td>4</td>\n",
              "      <td>0</td>\n",
              "      <td>0.0</td>\n",
              "      <td>0</td>\n",
              "      <td>0</td>\n",
              "      <td>0</td>\n",
              "      <td>0</td>\n",
              "      <td>195.0</td>\n",
              "      <td>106.0</td>\n",
              "      <td>70.0</td>\n",
              "      <td>26.97</td>\n",
              "      <td>80.0</td>\n",
              "      <td>77.0</td>\n",
              "      <td>0</td>\n",
              "    </tr>\n",
              "    <tr>\n",
              "      <th>1</th>\n",
              "      <td>0</td>\n",
              "      <td>46</td>\n",
              "      <td>2</td>\n",
              "      <td>0</td>\n",
              "      <td>0.0</td>\n",
              "      <td>0</td>\n",
              "      <td>0</td>\n",
              "      <td>0</td>\n",
              "      <td>0</td>\n",
              "      <td>250.0</td>\n",
              "      <td>121.0</td>\n",
              "      <td>81.0</td>\n",
              "      <td>28.73</td>\n",
              "      <td>95.0</td>\n",
              "      <td>76.0</td>\n",
              "      <td>0</td>\n",
              "    </tr>\n",
              "    <tr>\n",
              "      <th>2</th>\n",
              "      <td>1</td>\n",
              "      <td>48</td>\n",
              "      <td>1</td>\n",
              "      <td>1</td>\n",
              "      <td>20.0</td>\n",
              "      <td>0</td>\n",
              "      <td>0</td>\n",
              "      <td>0</td>\n",
              "      <td>0</td>\n",
              "      <td>245.0</td>\n",
              "      <td>127.5</td>\n",
              "      <td>80.0</td>\n",
              "      <td>25.34</td>\n",
              "      <td>75.0</td>\n",
              "      <td>70.0</td>\n",
              "      <td>0</td>\n",
              "    </tr>\n",
              "    <tr>\n",
              "      <th>3</th>\n",
              "      <td>0</td>\n",
              "      <td>61</td>\n",
              "      <td>3</td>\n",
              "      <td>1</td>\n",
              "      <td>30.0</td>\n",
              "      <td>0</td>\n",
              "      <td>0</td>\n",
              "      <td>1</td>\n",
              "      <td>0</td>\n",
              "      <td>225.0</td>\n",
              "      <td>150.0</td>\n",
              "      <td>95.0</td>\n",
              "      <td>28.58</td>\n",
              "      <td>65.0</td>\n",
              "      <td>103.0</td>\n",
              "      <td>1</td>\n",
              "    </tr>\n",
              "    <tr>\n",
              "      <th>4</th>\n",
              "      <td>0</td>\n",
              "      <td>46</td>\n",
              "      <td>3</td>\n",
              "      <td>1</td>\n",
              "      <td>23.0</td>\n",
              "      <td>0</td>\n",
              "      <td>0</td>\n",
              "      <td>0</td>\n",
              "      <td>0</td>\n",
              "      <td>285.0</td>\n",
              "      <td>130.0</td>\n",
              "      <td>84.0</td>\n",
              "      <td>23.10</td>\n",
              "      <td>85.0</td>\n",
              "      <td>85.0</td>\n",
              "      <td>0</td>\n",
              "    </tr>\n",
              "  </tbody>\n",
              "</table>\n",
              "</div>\n",
              "      <button class=\"colab-df-convert\" onclick=\"convertToInteractive('df-0dc4ce47-487e-48db-8af6-7c0fd51cf48b')\"\n",
              "              title=\"Convert this dataframe to an interactive table.\"\n",
              "              style=\"display:none;\">\n",
              "        \n",
              "  <svg xmlns=\"http://www.w3.org/2000/svg\" height=\"24px\"viewBox=\"0 0 24 24\"\n",
              "       width=\"24px\">\n",
              "    <path d=\"M0 0h24v24H0V0z\" fill=\"none\"/>\n",
              "    <path d=\"M18.56 5.44l.94 2.06.94-2.06 2.06-.94-2.06-.94-.94-2.06-.94 2.06-2.06.94zm-11 1L8.5 8.5l.94-2.06 2.06-.94-2.06-.94L8.5 2.5l-.94 2.06-2.06.94zm10 10l.94 2.06.94-2.06 2.06-.94-2.06-.94-.94-2.06-.94 2.06-2.06.94z\"/><path d=\"M17.41 7.96l-1.37-1.37c-.4-.4-.92-.59-1.43-.59-.52 0-1.04.2-1.43.59L10.3 9.45l-7.72 7.72c-.78.78-.78 2.05 0 2.83L4 21.41c.39.39.9.59 1.41.59.51 0 1.02-.2 1.41-.59l7.78-7.78 2.81-2.81c.8-.78.8-2.07 0-2.86zM5.41 20L4 18.59l7.72-7.72 1.47 1.35L5.41 20z\"/>\n",
              "  </svg>\n",
              "      </button>\n",
              "      \n",
              "  <style>\n",
              "    .colab-df-container {\n",
              "      display:flex;\n",
              "      flex-wrap:wrap;\n",
              "      gap: 12px;\n",
              "    }\n",
              "\n",
              "    .colab-df-convert {\n",
              "      background-color: #E8F0FE;\n",
              "      border: none;\n",
              "      border-radius: 50%;\n",
              "      cursor: pointer;\n",
              "      display: none;\n",
              "      fill: #1967D2;\n",
              "      height: 32px;\n",
              "      padding: 0 0 0 0;\n",
              "      width: 32px;\n",
              "    }\n",
              "\n",
              "    .colab-df-convert:hover {\n",
              "      background-color: #E2EBFA;\n",
              "      box-shadow: 0px 1px 2px rgba(60, 64, 67, 0.3), 0px 1px 3px 1px rgba(60, 64, 67, 0.15);\n",
              "      fill: #174EA6;\n",
              "    }\n",
              "\n",
              "    [theme=dark] .colab-df-convert {\n",
              "      background-color: #3B4455;\n",
              "      fill: #D2E3FC;\n",
              "    }\n",
              "\n",
              "    [theme=dark] .colab-df-convert:hover {\n",
              "      background-color: #434B5C;\n",
              "      box-shadow: 0px 1px 3px 1px rgba(0, 0, 0, 0.15);\n",
              "      filter: drop-shadow(0px 1px 2px rgba(0, 0, 0, 0.3));\n",
              "      fill: #FFFFFF;\n",
              "    }\n",
              "  </style>\n",
              "\n",
              "      <script>\n",
              "        const buttonEl =\n",
              "          document.querySelector('#df-0dc4ce47-487e-48db-8af6-7c0fd51cf48b button.colab-df-convert');\n",
              "        buttonEl.style.display =\n",
              "          google.colab.kernel.accessAllowed ? 'block' : 'none';\n",
              "\n",
              "        async function convertToInteractive(key) {\n",
              "          const element = document.querySelector('#df-0dc4ce47-487e-48db-8af6-7c0fd51cf48b');\n",
              "          const dataTable =\n",
              "            await google.colab.kernel.invokeFunction('convertToInteractive',\n",
              "                                                     [key], {});\n",
              "          if (!dataTable) return;\n",
              "\n",
              "          const docLinkHtml = 'Like what you see? Visit the ' +\n",
              "            '<a target=\"_blank\" href=https://colab.research.google.com/notebooks/data_table.ipynb>data table notebook</a>'\n",
              "            + ' to learn more about interactive tables.';\n",
              "          element.innerHTML = '';\n",
              "          dataTable['output_type'] = 'display_data';\n",
              "          await google.colab.output.renderOutput(dataTable, element);\n",
              "          const docLink = document.createElement('div');\n",
              "          docLink.innerHTML = docLinkHtml;\n",
              "          element.appendChild(docLink);\n",
              "        }\n",
              "      </script>\n",
              "    </div>\n",
              "  </div>\n",
              "  "
            ]
          },
          "metadata": {},
          "execution_count": 28
        }
      ]
    },
    {
      "cell_type": "markdown",
      "source": [
        "### Feature Scaling "
      ],
      "metadata": {
        "id": "S2dQuE9FiNws"
      }
    },
    {
      "cell_type": "code",
      "source": [
        "# Scaling for making close variables values from each other\n",
        "from sklearn.preprocessing import StandardScaler\n",
        "scaler = StandardScaler()\n",
        "# choose index for only scaling numerical data\n",
        "index = np.r_[1,4,9:15]\n",
        "df.iloc[:, index] = scaler.fit_transform(df.iloc[:, index]) # apply fit() on X_train and transform fit on X_train "
      ],
      "metadata": {
        "id": "99lFLzP9iQJS"
      },
      "execution_count": 29,
      "outputs": []
    },
    {
      "cell_type": "code",
      "source": [
        "print(df.iloc[0,:])"
      ],
      "metadata": {
        "colab": {
          "base_uri": "https://localhost:8080/"
        },
        "id": "Oateuvw2jBGW",
        "outputId": "b5a60ea2-786f-4093-9571-bace234543ea"
      },
      "execution_count": 30,
      "outputs": [
        {
          "output_type": "stream",
          "name": "stdout",
          "text": [
            "gender              1.000000\n",
            "age                -1.234951\n",
            "education           4.000000\n",
            "current_smoker      0.000000\n",
            "cigs_per_day       -0.763194\n",
            "bp_meds             0.000000\n",
            "prevalent_stroke    0.000000\n",
            "prevalent_hyp       0.000000\n",
            "diabetes            0.000000\n",
            "tot_chol           -0.974747\n",
            "sys_bp             -1.255196\n",
            "dia_bp             -1.118089\n",
            "bmi                 0.330699\n",
            "heart_rate          0.365617\n",
            "glucose            -0.245553\n",
            "tenyearchd          0.000000\n",
            "Name: 0, dtype: float64\n"
          ]
        }
      ]
    },
    {
      "cell_type": "code",
      "source": [
        "plt.figure(figsize=(16,5))\n",
        "sns.boxplot(data=df.iloc[:,Index])\n",
        "plt.title(\"Distribution of the values ​​of all potential standardized predictors\")\n",
        "plt.grid()\n",
        "plt.show()"
      ],
      "metadata": {
        "colab": {
          "base_uri": "https://localhost:8080/",
          "height": 337
        },
        "id": "gNUgAZbWSB42",
        "outputId": "5f3c8db5-673c-4c02-986c-fdfd8a4038fc"
      },
      "execution_count": 31,
      "outputs": [
        {
          "output_type": "display_data",
          "data": {
            "text/plain": [
              "<Figure size 1152x360 with 1 Axes>"
            ],
            "image/png": "[encoded data removed]"
          },
          "metadata": {
            "needs_background": "light"
          }
        }
      ]
    },
    {
      "cell_type": "markdown",
      "source": [
        "* Now the dataset is ready and can be saved for future work."
      ],
      "metadata": {
        "id": "K_vsH4_5jTgi"
      }
    },
    {
      "cell_type": "markdown",
      "source": [
        "### Splitting the dataset"
      ],
      "metadata": {
        "id": "O9n0kftThynV"
      }
    },
    {
      "cell_type": "code",
      "source": [
        "# independant and dependant variables\n",
        "X = df.iloc[:,:-1].values # independent variables\n",
        "y = df.iloc[:,-1].values # dependent variable"
      ],
      "metadata": {
        "id": "9PqBjTZphToT"
      },
      "execution_count": 32,
      "outputs": []
    },
    {
      "cell_type": "code",
      "source": [
        "# Splitting the dataset into the Training set and Test set\n",
        "from sklearn.model_selection import train_test_split\n",
        "\n",
        "X_train, X_test, y_train, y_test = train_test_split(X, y, test_size = 0.2, random_state = 10)"
      ],
      "metadata": {
        "id": "TflhbVIkh97_"
      },
      "execution_count": 33,
      "outputs": []
    },
    {
      "cell_type": "code",
      "source": [
        "# Check whether the dataset is equally splitted or no\n",
        "from collections import Counter\n",
        "Counter(y_train)"
      ],
      "metadata": {
        "colab": {
          "base_uri": "https://localhost:8080/",
          "height": 0
        },
        "id": "M7NX7i0NiFuZ",
        "outputId": "a261a63b-c0b3-4987-9d8b-83841bd19b5d"
      },
      "execution_count": 34,
      "outputs": [
        {
          "output_type": "execute_result",
          "data": {
            "text/plain": [
              "Counter({0: 2855, 1: 535})"
            ]
          },
          "metadata": {},
          "execution_count": 34
        }
      ]
    },
    {
      "cell_type": "markdown",
      "source": [
        "<a id='building'></a>\n",
        "## Model Building\n"
      ],
      "metadata": {
        "id": "sRfMCzJvvozz"
      }
    },
    {
      "cell_type": "code",
      "source": [
        "from tensorflow import keras\n",
        "model = keras.Sequential()\n",
        "\n",
        "# # First Hidden Layer\n",
        "# model.add(keras.layers.Dense(32, input_shape= (15,), activation = 'relu'))\n",
        "\n",
        "model.add(keras.layers.Dense(1, input_shape= (15,), activation = 'sigmoid'))"
      ],
      "metadata": {
        "id": "EeHg-FAqvngO"
      },
      "execution_count": 35,
      "outputs": []
    },
    {
      "cell_type": "code",
      "source": [
        "from tensorflow.keras import optimizers\n",
        "\n",
        "RMS = optimizers.RMSprop(\n",
        "    learning_rate=0.001,\n",
        "    rho=0.9,\n",
        "    momentum=0.0,\n",
        "    epsilon=1e-07,\n",
        "    centered=False,\n",
        "    name=\"RMSprop\"\n",
        "    )\n",
        "\n",
        "adam = optimizers.Adam(\n",
        "    learning_rate=0.002, \n",
        "    beta_1=0.9, \n",
        "    beta_2=0.999, \n",
        "    epsilon=1e-07, \n",
        "    decay=0.0,\n",
        "    name=\"adam\"\n",
        "    )\n",
        "\n",
        "lr_schedule = optimizers.schedules.ExponentialDecay(\n",
        "    initial_learning_rate=1e-2,\n",
        "    decay_steps=10000,\n",
        "    decay_rate=0.9)\n",
        "sgd = optimizers.SGD(learning_rate=lr_schedule, name ='sgd')"
      ],
      "metadata": {
        "id": "_OaJoTDb08YY"
      },
      "execution_count": 36,
      "outputs": []
    },
    {
      "cell_type": "code",
      "source": [
        "model.compile(optimizer=sgd, loss='binary_crossentropy', metrics=['binary_accuracy'])"
      ],
      "metadata": {
        "id": "XxsOzfcmv5Ma"
      },
      "execution_count": 37,
      "outputs": []
    },
    {
      "cell_type": "code",
      "source": [
        "results = model.fit(\n",
        "    x = X_train,\n",
        "    y = y_train,\n",
        "    epochs = 100,\n",
        "    batch_size =128,\n",
        "    validation_data = (X_test, y_test)\n",
        ")"
      ],
      "metadata": {
        "colab": {
          "base_uri": "https://localhost:8080/",
          "height": 0
        },
        "id": "f9Zn0ud1v8Ko",
        "outputId": "27829f10-6c8e-4fe5-c7ba-95125ba1fee1"
      },
      "execution_count": 38,
      "outputs": [
        {
          "output_type": "stream",
          "name": "stdout",
          "text": [
            "Epoch 1/100\n",
            "27/27 [==============================] - 2s 18ms/step - loss: 0.9235 - binary_accuracy: 0.4053 - val_loss: 0.7794 - val_binary_accuracy: 0.4906\n",
            "Epoch 2/100\n",
            "27/27 [==============================] - 0s 7ms/step - loss: 0.7227 - binary_accuracy: 0.5687 - val_loss: 0.6346 - val_binary_accuracy: 0.6462\n",
            "Epoch 3/100\n",
            "27/27 [==============================] - 0s 5ms/step - loss: 0.6189 - binary_accuracy: 0.6705 - val_loss: 0.5576 - val_binary_accuracy: 0.7134\n",
            "Epoch 4/100\n",
            "27/27 [==============================] - 0s 5ms/step - loss: 0.5626 - binary_accuracy: 0.7239 - val_loss: 0.5132 - val_binary_accuracy: 0.7724\n",
            "Epoch 5/100\n",
            "27/27 [==============================] - 0s 6ms/step - loss: 0.5297 - binary_accuracy: 0.7537 - val_loss: 0.4850 - val_binary_accuracy: 0.7913\n",
            "Epoch 6/100\n",
            "27/27 [==============================] - 0s 8ms/step - loss: 0.5085 - binary_accuracy: 0.7758 - val_loss: 0.4664 - val_binary_accuracy: 0.8078\n",
            "Epoch 7/100\n",
            "27/27 [==============================] - 0s 10ms/step - loss: 0.4944 - binary_accuracy: 0.7932 - val_loss: 0.4537 - val_binary_accuracy: 0.8160\n",
            "Epoch 8/100\n",
            "27/27 [==============================] - 0s 9ms/step - loss: 0.4846 - binary_accuracy: 0.8018 - val_loss: 0.4445 - val_binary_accuracy: 0.8184\n",
            "Epoch 9/100\n",
            "27/27 [==============================] - 0s 5ms/step - loss: 0.4774 - binary_accuracy: 0.8065 - val_loss: 0.4375 - val_binary_accuracy: 0.8196\n",
            "Epoch 10/100\n",
            "27/27 [==============================] - 0s 8ms/step - loss: 0.4718 - binary_accuracy: 0.8142 - val_loss: 0.4322 - val_binary_accuracy: 0.8267\n",
            "Epoch 11/100\n",
            "27/27 [==============================] - 0s 9ms/step - loss: 0.4674 - binary_accuracy: 0.8156 - val_loss: 0.4276 - val_binary_accuracy: 0.8325\n",
            "Epoch 12/100\n",
            "27/27 [==============================] - 0s 8ms/step - loss: 0.4636 - binary_accuracy: 0.8189 - val_loss: 0.4239 - val_binary_accuracy: 0.8325\n",
            "Epoch 13/100\n",
            "27/27 [==============================] - 0s 7ms/step - loss: 0.4604 - binary_accuracy: 0.8242 - val_loss: 0.4208 - val_binary_accuracy: 0.8349\n",
            "Epoch 14/100\n",
            "27/27 [==============================] - 0s 8ms/step - loss: 0.4577 - binary_accuracy: 0.8257 - val_loss: 0.4180 - val_binary_accuracy: 0.8384\n",
            "Epoch 15/100\n",
            "27/27 [==============================] - 0s 6ms/step - loss: 0.4552 - binary_accuracy: 0.8277 - val_loss: 0.4156 - val_binary_accuracy: 0.8396\n",
            "Epoch 16/100\n",
            "27/27 [==============================] - 0s 5ms/step - loss: 0.4531 - binary_accuracy: 0.8298 - val_loss: 0.4135 - val_binary_accuracy: 0.8396\n",
            "Epoch 17/100\n",
            "27/27 [==============================] - 0s 7ms/step - loss: 0.4510 - binary_accuracy: 0.8292 - val_loss: 0.4116 - val_binary_accuracy: 0.8420\n",
            "Epoch 18/100\n",
            "27/27 [==============================] - 0s 6ms/step - loss: 0.4492 - binary_accuracy: 0.8289 - val_loss: 0.4098 - val_binary_accuracy: 0.8432\n",
            "Epoch 19/100\n",
            "27/27 [==============================] - 0s 6ms/step - loss: 0.4475 - binary_accuracy: 0.8301 - val_loss: 0.4082 - val_binary_accuracy: 0.8432\n",
            "Epoch 20/100\n",
            "27/27 [==============================] - 0s 7ms/step - loss: 0.4458 - binary_accuracy: 0.8304 - val_loss: 0.4068 - val_binary_accuracy: 0.8432\n",
            "Epoch 21/100\n",
            "27/27 [==============================] - 0s 7ms/step - loss: 0.4444 - binary_accuracy: 0.8313 - val_loss: 0.4054 - val_binary_accuracy: 0.8432\n",
            "Epoch 22/100\n",
            "27/27 [==============================] - 0s 6ms/step - loss: 0.4430 - binary_accuracy: 0.8324 - val_loss: 0.4041 - val_binary_accuracy: 0.8455\n",
            "Epoch 23/100\n",
            "27/27 [==============================] - 0s 5ms/step - loss: 0.4417 - binary_accuracy: 0.8342 - val_loss: 0.4029 - val_binary_accuracy: 0.8455\n",
            "Epoch 24/100\n",
            "27/27 [==============================] - 0s 8ms/step - loss: 0.4405 - binary_accuracy: 0.8348 - val_loss: 0.4018 - val_binary_accuracy: 0.8455\n",
            "Epoch 25/100\n",
            "27/27 [==============================] - 0s 7ms/step - loss: 0.4393 - binary_accuracy: 0.8351 - val_loss: 0.4007 - val_binary_accuracy: 0.8467\n",
            "Epoch 26/100\n",
            "27/27 [==============================] - 0s 8ms/step - loss: 0.4382 - binary_accuracy: 0.8354 - val_loss: 0.3997 - val_binary_accuracy: 0.8479\n",
            "Epoch 27/100\n",
            "27/27 [==============================] - 0s 7ms/step - loss: 0.4371 - binary_accuracy: 0.8360 - val_loss: 0.3987 - val_binary_accuracy: 0.8491\n",
            "Epoch 28/100\n",
            "27/27 [==============================] - 0s 6ms/step - loss: 0.4361 - binary_accuracy: 0.8366 - val_loss: 0.3978 - val_binary_accuracy: 0.8502\n",
            "Epoch 29/100\n",
            "27/27 [==============================] - 0s 10ms/step - loss: 0.4351 - binary_accuracy: 0.8383 - val_loss: 0.3969 - val_binary_accuracy: 0.8502\n",
            "Epoch 30/100\n",
            "27/27 [==============================] - 0s 8ms/step - loss: 0.4341 - binary_accuracy: 0.8383 - val_loss: 0.3960 - val_binary_accuracy: 0.8491\n",
            "Epoch 31/100\n",
            "27/27 [==============================] - 0s 8ms/step - loss: 0.4332 - binary_accuracy: 0.8395 - val_loss: 0.3952 - val_binary_accuracy: 0.8491\n",
            "Epoch 32/100\n",
            "27/27 [==============================] - 0s 7ms/step - loss: 0.4324 - binary_accuracy: 0.8395 - val_loss: 0.3944 - val_binary_accuracy: 0.8491\n",
            "Epoch 33/100\n",
            "27/27 [==============================] - 0s 7ms/step - loss: 0.4315 - binary_accuracy: 0.8395 - val_loss: 0.3937 - val_binary_accuracy: 0.8491\n",
            "Epoch 34/100\n",
            "27/27 [==============================] - 0s 8ms/step - loss: 0.4307 - binary_accuracy: 0.8401 - val_loss: 0.3929 - val_binary_accuracy: 0.8514\n",
            "Epoch 35/100\n",
            "27/27 [==============================] - 0s 6ms/step - loss: 0.4299 - binary_accuracy: 0.8410 - val_loss: 0.3922 - val_binary_accuracy: 0.8514\n",
            "Epoch 36/100\n",
            "27/27 [==============================] - 0s 9ms/step - loss: 0.4291 - binary_accuracy: 0.8407 - val_loss: 0.3915 - val_binary_accuracy: 0.8514\n",
            "Epoch 37/100\n",
            "27/27 [==============================] - 0s 11ms/step - loss: 0.4284 - binary_accuracy: 0.8413 - val_loss: 0.3909 - val_binary_accuracy: 0.8526\n",
            "Epoch 38/100\n",
            "27/27 [==============================] - 0s 6ms/step - loss: 0.4277 - binary_accuracy: 0.8413 - val_loss: 0.3902 - val_binary_accuracy: 0.8538\n",
            "Epoch 39/100\n",
            "27/27 [==============================] - 0s 7ms/step - loss: 0.4270 - binary_accuracy: 0.8422 - val_loss: 0.3896 - val_binary_accuracy: 0.8550\n",
            "Epoch 40/100\n",
            "27/27 [==============================] - 0s 11ms/step - loss: 0.4264 - binary_accuracy: 0.8419 - val_loss: 0.3890 - val_binary_accuracy: 0.8550\n",
            "Epoch 41/100\n",
            "27/27 [==============================] - 0s 8ms/step - loss: 0.4258 - binary_accuracy: 0.8413 - val_loss: 0.3884 - val_binary_accuracy: 0.8550\n",
            "Epoch 42/100\n",
            "27/27 [==============================] - 0s 9ms/step - loss: 0.4251 - binary_accuracy: 0.8422 - val_loss: 0.3879 - val_binary_accuracy: 0.8550\n",
            "Epoch 43/100\n",
            "27/27 [==============================] - 0s 12ms/step - loss: 0.4245 - binary_accuracy: 0.8422 - val_loss: 0.3873 - val_binary_accuracy: 0.8538\n",
            "Epoch 44/100\n",
            "27/27 [==============================] - 0s 7ms/step - loss: 0.4239 - binary_accuracy: 0.8422 - val_loss: 0.3868 - val_binary_accuracy: 0.8538\n",
            "Epoch 45/100\n",
            "27/27 [==============================] - 0s 8ms/step - loss: 0.4234 - binary_accuracy: 0.8422 - val_loss: 0.3863 - val_binary_accuracy: 0.8538\n",
            "Epoch 46/100\n",
            "27/27 [==============================] - 0s 8ms/step - loss: 0.4228 - binary_accuracy: 0.8422 - val_loss: 0.3857 - val_binary_accuracy: 0.8538\n",
            "Epoch 47/100\n",
            "27/27 [==============================] - 0s 9ms/step - loss: 0.4223 - binary_accuracy: 0.8422 - val_loss: 0.3852 - val_binary_accuracy: 0.8550\n",
            "Epoch 48/100\n",
            "27/27 [==============================] - 0s 9ms/step - loss: 0.4218 - binary_accuracy: 0.8422 - val_loss: 0.3847 - val_binary_accuracy: 0.8561\n",
            "Epoch 49/100\n",
            "27/27 [==============================] - 0s 7ms/step - loss: 0.4212 - binary_accuracy: 0.8422 - val_loss: 0.3842 - val_binary_accuracy: 0.8561\n",
            "Epoch 50/100\n",
            "27/27 [==============================] - 0s 9ms/step - loss: 0.4208 - binary_accuracy: 0.8425 - val_loss: 0.3837 - val_binary_accuracy: 0.8561\n",
            "Epoch 51/100\n",
            "27/27 [==============================] - 0s 8ms/step - loss: 0.4203 - binary_accuracy: 0.8425 - val_loss: 0.3832 - val_binary_accuracy: 0.8573\n",
            "Epoch 52/100\n",
            "27/27 [==============================] - 0s 9ms/step - loss: 0.4198 - binary_accuracy: 0.8428 - val_loss: 0.3828 - val_binary_accuracy: 0.8573\n",
            "Epoch 53/100\n",
            "27/27 [==============================] - 0s 9ms/step - loss: 0.4193 - binary_accuracy: 0.8425 - val_loss: 0.3823 - val_binary_accuracy: 0.8573\n",
            "Epoch 54/100\n",
            "27/27 [==============================] - 0s 9ms/step - loss: 0.4189 - binary_accuracy: 0.8419 - val_loss: 0.3819 - val_binary_accuracy: 0.8573\n",
            "Epoch 55/100\n",
            "27/27 [==============================] - 0s 8ms/step - loss: 0.4184 - binary_accuracy: 0.8425 - val_loss: 0.3815 - val_binary_accuracy: 0.8573\n",
            "Epoch 56/100\n",
            "27/27 [==============================] - 0s 7ms/step - loss: 0.4180 - binary_accuracy: 0.8425 - val_loss: 0.3810 - val_binary_accuracy: 0.8573\n",
            "Epoch 57/100\n",
            "27/27 [==============================] - 0s 6ms/step - loss: 0.4176 - binary_accuracy: 0.8422 - val_loss: 0.3806 - val_binary_accuracy: 0.8573\n",
            "Epoch 58/100\n",
            "27/27 [==============================] - 0s 6ms/step - loss: 0.4172 - binary_accuracy: 0.8422 - val_loss: 0.3803 - val_binary_accuracy: 0.8573\n",
            "Epoch 59/100\n",
            "27/27 [==============================] - 0s 8ms/step - loss: 0.4168 - binary_accuracy: 0.8422 - val_loss: 0.3799 - val_binary_accuracy: 0.8573\n",
            "Epoch 60/100\n",
            "27/27 [==============================] - 0s 10ms/step - loss: 0.4164 - binary_accuracy: 0.8422 - val_loss: 0.3795 - val_binary_accuracy: 0.8573\n",
            "Epoch 61/100\n",
            "27/27 [==============================] - 0s 6ms/step - loss: 0.4160 - binary_accuracy: 0.8431 - val_loss: 0.3791 - val_binary_accuracy: 0.8585\n",
            "Epoch 62/100\n",
            "27/27 [==============================] - 0s 7ms/step - loss: 0.4156 - binary_accuracy: 0.8428 - val_loss: 0.3788 - val_binary_accuracy: 0.8585\n",
            "Epoch 63/100\n",
            "27/27 [==============================] - 0s 9ms/step - loss: 0.4153 - binary_accuracy: 0.8425 - val_loss: 0.3784 - val_binary_accuracy: 0.8585\n",
            "Epoch 64/100\n",
            "27/27 [==============================] - 0s 10ms/step - loss: 0.4149 - binary_accuracy: 0.8428 - val_loss: 0.3781 - val_binary_accuracy: 0.8585\n",
            "Epoch 65/100\n",
            "27/27 [==============================] - 0s 9ms/step - loss: 0.4145 - binary_accuracy: 0.8434 - val_loss: 0.3777 - val_binary_accuracy: 0.8585\n",
            "Epoch 66/100\n",
            "27/27 [==============================] - 0s 8ms/step - loss: 0.4142 - binary_accuracy: 0.8425 - val_loss: 0.3774 - val_binary_accuracy: 0.8585\n",
            "Epoch 67/100\n",
            "27/27 [==============================] - 0s 9ms/step - loss: 0.4138 - binary_accuracy: 0.8434 - val_loss: 0.3771 - val_binary_accuracy: 0.8585\n",
            "Epoch 68/100\n",
            "27/27 [==============================] - 0s 11ms/step - loss: 0.4135 - binary_accuracy: 0.8431 - val_loss: 0.3768 - val_binary_accuracy: 0.8597\n",
            "Epoch 69/100\n",
            "27/27 [==============================] - 0s 8ms/step - loss: 0.4132 - binary_accuracy: 0.8428 - val_loss: 0.3766 - val_binary_accuracy: 0.8608\n",
            "Epoch 70/100\n",
            "27/27 [==============================] - 0s 7ms/step - loss: 0.4129 - binary_accuracy: 0.8428 - val_loss: 0.3762 - val_binary_accuracy: 0.8608\n",
            "Epoch 71/100\n",
            "27/27 [==============================] - 0s 5ms/step - loss: 0.4125 - binary_accuracy: 0.8428 - val_loss: 0.3760 - val_binary_accuracy: 0.8608\n",
            "Epoch 72/100\n",
            "27/27 [==============================] - 0s 8ms/step - loss: 0.4122 - binary_accuracy: 0.8425 - val_loss: 0.3757 - val_binary_accuracy: 0.8608\n",
            "Epoch 73/100\n",
            "27/27 [==============================] - 0s 5ms/step - loss: 0.4119 - binary_accuracy: 0.8428 - val_loss: 0.3753 - val_binary_accuracy: 0.8608\n",
            "Epoch 74/100\n",
            "27/27 [==============================] - 0s 9ms/step - loss: 0.4116 - binary_accuracy: 0.8431 - val_loss: 0.3750 - val_binary_accuracy: 0.8620\n",
            "Epoch 75/100\n",
            "27/27 [==============================] - 0s 7ms/step - loss: 0.4113 - binary_accuracy: 0.8434 - val_loss: 0.3747 - val_binary_accuracy: 0.8620\n",
            "Epoch 76/100\n",
            "27/27 [==============================] - 0s 10ms/step - loss: 0.4110 - binary_accuracy: 0.8431 - val_loss: 0.3745 - val_binary_accuracy: 0.8620\n",
            "Epoch 77/100\n",
            "27/27 [==============================] - 0s 8ms/step - loss: 0.4107 - binary_accuracy: 0.8434 - val_loss: 0.3742 - val_binary_accuracy: 0.8620\n",
            "Epoch 78/100\n",
            "27/27 [==============================] - 0s 11ms/step - loss: 0.4104 - binary_accuracy: 0.8431 - val_loss: 0.3739 - val_binary_accuracy: 0.8632\n",
            "Epoch 79/100\n",
            "27/27 [==============================] - 0s 10ms/step - loss: 0.4102 - binary_accuracy: 0.8437 - val_loss: 0.3736 - val_binary_accuracy: 0.8632\n",
            "Epoch 80/100\n",
            "27/27 [==============================] - 0s 8ms/step - loss: 0.4099 - binary_accuracy: 0.8437 - val_loss: 0.3733 - val_binary_accuracy: 0.8632\n",
            "Epoch 81/100\n",
            "27/27 [==============================] - 0s 7ms/step - loss: 0.4096 - binary_accuracy: 0.8437 - val_loss: 0.3731 - val_binary_accuracy: 0.8632\n",
            "Epoch 82/100\n",
            "27/27 [==============================] - 0s 7ms/step - loss: 0.4094 - binary_accuracy: 0.8437 - val_loss: 0.3729 - val_binary_accuracy: 0.8632\n",
            "Epoch 83/100\n",
            "27/27 [==============================] - 0s 7ms/step - loss: 0.4091 - binary_accuracy: 0.8434 - val_loss: 0.3726 - val_binary_accuracy: 0.8632\n",
            "Epoch 84/100\n",
            "27/27 [==============================] - 0s 6ms/step - loss: 0.4089 - binary_accuracy: 0.8437 - val_loss: 0.3723 - val_binary_accuracy: 0.8632\n",
            "Epoch 85/100\n",
            "27/27 [==============================] - 0s 8ms/step - loss: 0.4086 - binary_accuracy: 0.8437 - val_loss: 0.3721 - val_binary_accuracy: 0.8632\n",
            "Epoch 86/100\n",
            "27/27 [==============================] - 0s 8ms/step - loss: 0.4084 - binary_accuracy: 0.8434 - val_loss: 0.3718 - val_binary_accuracy: 0.8644\n",
            "Epoch 87/100\n",
            "27/27 [==============================] - 0s 8ms/step - loss: 0.4081 - binary_accuracy: 0.8440 - val_loss: 0.3716 - val_binary_accuracy: 0.8644\n",
            "Epoch 88/100\n",
            "27/27 [==============================] - 0s 6ms/step - loss: 0.4079 - binary_accuracy: 0.8442 - val_loss: 0.3714 - val_binary_accuracy: 0.8644\n",
            "Epoch 89/100\n",
            "27/27 [==============================] - 0s 10ms/step - loss: 0.4077 - binary_accuracy: 0.8440 - val_loss: 0.3711 - val_binary_accuracy: 0.8644\n",
            "Epoch 90/100\n",
            "27/27 [==============================] - 0s 8ms/step - loss: 0.4074 - binary_accuracy: 0.8442 - val_loss: 0.3709 - val_binary_accuracy: 0.8656\n",
            "Epoch 91/100\n",
            "27/27 [==============================] - 0s 5ms/step - loss: 0.4072 - binary_accuracy: 0.8442 - val_loss: 0.3707 - val_binary_accuracy: 0.8656\n",
            "Epoch 92/100\n",
            "27/27 [==============================] - 0s 7ms/step - loss: 0.4070 - binary_accuracy: 0.8440 - val_loss: 0.3704 - val_binary_accuracy: 0.8656\n",
            "Epoch 93/100\n",
            "27/27 [==============================] - 0s 8ms/step - loss: 0.4068 - binary_accuracy: 0.8440 - val_loss: 0.3703 - val_binary_accuracy: 0.8667\n",
            "Epoch 94/100\n",
            "27/27 [==============================] - 0s 9ms/step - loss: 0.4066 - binary_accuracy: 0.8440 - val_loss: 0.3700 - val_binary_accuracy: 0.8667\n",
            "Epoch 95/100\n",
            "27/27 [==============================] - 0s 6ms/step - loss: 0.4063 - binary_accuracy: 0.8440 - val_loss: 0.3699 - val_binary_accuracy: 0.8667\n",
            "Epoch 96/100\n",
            "27/27 [==============================] - 0s 7ms/step - loss: 0.4062 - binary_accuracy: 0.8440 - val_loss: 0.3696 - val_binary_accuracy: 0.8667\n",
            "Epoch 97/100\n",
            "27/27 [==============================] - 0s 7ms/step - loss: 0.4059 - binary_accuracy: 0.8440 - val_loss: 0.3694 - val_binary_accuracy: 0.8667\n",
            "Epoch 98/100\n",
            "27/27 [==============================] - 0s 8ms/step - loss: 0.4057 - binary_accuracy: 0.8440 - val_loss: 0.3692 - val_binary_accuracy: 0.8667\n",
            "Epoch 99/100\n",
            "27/27 [==============================] - 0s 7ms/step - loss: 0.4055 - binary_accuracy: 0.8434 - val_loss: 0.3691 - val_binary_accuracy: 0.8667\n",
            "Epoch 100/100\n",
            "27/27 [==============================] - 0s 7ms/step - loss: 0.4053 - binary_accuracy: 0.8437 - val_loss: 0.3690 - val_binary_accuracy: 0.8667\n"
          ]
        }
      ]
    },
    {
      "cell_type": "markdown",
      "source": [
        "<a id='evaluation'></a>\n",
        "## Model Evaluation"
      ],
      "metadata": {
        "id": "Un2KCWCSDJdc"
      }
    },
    {
      "cell_type": "code",
      "source": [
        "eval = model.evaluate(x = X_test, y = y_test)"
      ],
      "metadata": {
        "colab": {
          "base_uri": "https://localhost:8080/",
          "height": 0
        },
        "id": "Yp2HzNR61wzR",
        "outputId": "7af6bc58-7b1f-4bdc-dd68-0d0f8e6a3d2c"
      },
      "execution_count": 39,
      "outputs": [
        {
          "output_type": "stream",
          "name": "stdout",
          "text": [
            "27/27 [==============================] - 0s 2ms/step - loss: 0.3690 - binary_accuracy: 0.8667\n"
          ]
        }
      ]
    },
    {
      "cell_type": "code",
      "source": [
        "plt.plot(results.history['loss'])\n",
        "plt.plot(results.history['val_loss'])\n",
        "plt.legend(['Training', 'Validation'])\n",
        "plt.title('Training and Validation Losses')\n",
        "plt.xlabel('epoch')\n",
        "plt.ylabel('Losses')\n"
      ],
      "metadata": {
        "colab": {
          "base_uri": "https://localhost:8080/",
          "height": 312
        },
        "id": "gbhwDYfu1w_u",
        "outputId": "249b065e-37c7-4451-b862-71d746be3f2a"
      },
      "execution_count": 40,
      "outputs": [
        {
          "output_type": "execute_result",
          "data": {
            "text/plain": [
              "Text(0, 0.5, 'Losses')"
            ]
          },
          "metadata": {},
          "execution_count": 40
        },
        {
          "output_type": "display_data",
          "data": {
            "text/plain": [
              "<Figure size 432x288 with 1 Axes>"
            ],
            "image/png": "[encoded data removed]"
          },
          "metadata": {
            "needs_background": "light"
          }
        }
      ]
    },
    {
      "cell_type": "code",
      "source": [
        "plt.plot(results.history['binary_accuracy'])\n",
        "plt.plot(results.history['val_binary_accuracy'])\n",
        "plt.legend(['Training', 'Validation'])\n",
        "plt.title('Training and Validation accuarcy')\n",
        "plt.xlabel('epoch')\n",
        "plt.ylabel('accuarcy')\n"
      ],
      "metadata": {
        "colab": {
          "base_uri": "https://localhost:8080/",
          "height": 312
        },
        "id": "kqcNBJJR1xI-",
        "outputId": "d53aa675-f52e-4428-cda8-a2df9e9b3e74"
      },
      "execution_count": 41,
      "outputs": [
        {
          "output_type": "execute_result",
          "data": {
            "text/plain": [
              "Text(0, 0.5, 'accuarcy')"
            ]
          },
          "metadata": {},
          "execution_count": 41
        },
        {
          "output_type": "display_data",
          "data": {
            "text/plain": [
              "<Figure size 432x288 with 1 Axes>"
            ],
            "image/png": "[encoded data removed]"
          },
          "metadata": {
            "needs_background": "light"
          }
        }
      ]
    },
    {
      "cell_type": "code",
      "source": [
        "model.summary()"
      ],
      "metadata": {
        "colab": {
          "base_uri": "https://localhost:8080/",
          "height": 0
        },
        "id": "2yNMn1yi6Wgr",
        "outputId": "57edc1c6-a00a-4233-ecb5-ed6f9850f675"
      },
      "execution_count": 42,
      "outputs": [
        {
          "output_type": "stream",
          "name": "stdout",
          "text": [
            "Model: \"sequential\"\n",
            "_________________________________________________________________\n",
            " Layer (type)                Output Shape              Param #   \n",
            "=================================================================\n",
            " dense (Dense)               (None, 1)                 16        \n",
            "                                                                 \n",
            "=================================================================\n",
            "Total params: 16\n",
            "Trainable params: 16\n",
            "Non-trainable params: 0\n",
            "_________________________________________________________________\n"
          ]
        }
      ]
    },
    {
      "cell_type": "code",
      "source": [
        "model.save('final_project_chd_10_years_risk_NN.h5')"
      ],
      "metadata": {
        "id": "SAhAsNskDB2M"
      },
      "execution_count": 43,
      "outputs": []
    },
    {
      "cell_type": "code",
      "source": [
        "((model.predict(X_train[0:25,:]) >= 0.5).astype(int)).reshape(1,-1)"
      ],
      "metadata": {
        "colab": {
          "base_uri": "https://localhost:8080/",
          "height": 0
        },
        "id": "o_Gp_xKbLyJi",
        "outputId": "15bca2a6-dced-4c60-ab5c-5b3fb908d783"
      },
      "execution_count": 44,
      "outputs": [
        {
          "output_type": "execute_result",
          "data": {
            "text/plain": [
              "array([[0, 0, 0, 0, 0, 0, 0, 0, 0, 0, 0, 0, 0, 0, 0, 0, 0, 0, 0, 0, 0, 0,\n",
              "        0, 0, 0]])"
            ]
          },
          "metadata": {},
          "execution_count": 44
        }
      ]
    },
    {
      "cell_type": "code",
      "source": [
        "model.predict(X_train[0:1,:])"
      ],
      "metadata": {
        "colab": {
          "base_uri": "https://localhost:8080/",
          "height": 0
        },
        "id": "miuz__6DMMiH",
        "outputId": "1bd1116c-53bd-4a1a-a73d-d69f894c9a69"
      },
      "execution_count": 46,
      "outputs": [
        {
          "output_type": "execute_result",
          "data": {
            "text/plain": [
              "array([[0.11876091]], dtype=float32)"
            ]
          },
          "metadata": {},
          "execution_count": 46
        }
      ]
    },
    {
      "cell_type": "code",
      "source": [
        ""
      ],
      "metadata": {
        "id": "aHD5yz_ZN2wD"
      },
      "execution_count": 46,
      "outputs": []
    }
  ]
}