{
  "cells": [
    {
      "cell_type": "code",
      "execution_count": 1,
      "metadata": {
        "id": "mbmY7O_MP2Oj"
      },
      "outputs": [],
      "source": [
        "#import Libraries \n",
        "from tensorflow import keras\n",
        "import pandas as pd\n",
        "import numpy as np\n",
        "from sklearn.preprocessing import MinMaxScaler , StandardScaler\n",
        "from sklearn.model_selection import train_test_split \n",
        "import matplotlib.pyplot as plt\n",
        "import seaborn as sns\n",
        "\n"
      ]
    },
    {
      "cell_type": "code",
      "execution_count": 3,
      "metadata": {
        "colab": {
          "base_uri": "https://localhost:8080/",
          "height": 424
        },
        "id": "8Jvey7TPQo8O",
        "outputId": "68cedf67-776f-496f-fcc6-05bc6d4c15fb"
      },
      "outputs": [
        {
          "output_type": "execute_result",
          "data": {
            "text/plain": [
              "     sbp  tobacco    ldl  adiposity  famhist  typea  obesity  alcohol  age  \\\n",
              "0    160    12.00   5.73      23.11  Present     49    25.30    97.20   52   \n",
              "1    144     0.01   4.41      28.61   Absent     55    28.87     2.06   63   \n",
              "2    118     0.08   3.48      32.28  Present     52    29.14     3.81   46   \n",
              "3    170     7.50   6.41      38.03  Present     51    31.99    24.26   58   \n",
              "4    134    13.60   3.50      27.78  Present     60    25.99    57.34   49   \n",
              "..   ...      ...    ...        ...      ...    ...      ...      ...  ...   \n",
              "457  214     0.40   5.98      31.72   Absent     64    28.45     0.00   58   \n",
              "458  182     4.20   4.41      32.10   Absent     52    28.61    18.72   52   \n",
              "459  108     3.00   1.59      15.23   Absent     40    20.09    26.64   55   \n",
              "460  118     5.40  11.61      30.79   Absent     64    27.35    23.97   40   \n",
              "461  132     0.00   4.82      33.41  Present     62    14.70     0.00   46   \n",
              "\n",
              "     chd  \n",
              "0      1  \n",
              "1      1  \n",
              "2      0  \n",
              "3      1  \n",
              "4      1  \n",
              "..   ...  \n",
              "457    0  \n",
              "458    1  \n",
              "459    0  \n",
              "460    0  \n",
              "461    1  \n",
              "\n",
              "[462 rows x 10 columns]"
            ],
            "text/html": [
              "\n",
              "  <div id=\"df-f15104da-bdb5-45e0-aee4-aa84971bab4e\">\n",
              "    <div class=\"colab-df-container\">\n",
              "      <div>\n",
              "<style scoped>\n",
              "    .dataframe tbody tr th:only-of-type {\n",
              "        vertical-align: middle;\n",
              "    }\n",
              "\n",
              "    .dataframe tbody tr th {\n",
              "        vertical-align: top;\n",
              "    }\n",
              "\n",
              "    .dataframe thead th {\n",
              "        text-align: right;\n",
              "    }\n",
              "</style>\n",
              "<table border=\"1\" class=\"dataframe\">\n",
              "  <thead>\n",
              "    <tr style=\"text-align: right;\">\n",
              "      <th></th>\n",
              "      <th>sbp</th>\n",
              "      <th>tobacco</th>\n",
              "      <th>ldl</th>\n",
              "      <th>adiposity</th>\n",
              "      <th>famhist</th>\n",
              "      <th>typea</th>\n",
              "      <th>obesity</th>\n",
              "      <th>alcohol</th>\n",
              "      <th>age</th>\n",
              "      <th>chd</th>\n",
              "    </tr>\n",
              "  </thead>\n",
              "  <tbody>\n",
              "    <tr>\n",
              "      <th>0</th>\n",
              "      <td>160</td>\n",
              "      <td>12.00</td>\n",
              "      <td>5.73</td>\n",
              "      <td>23.11</td>\n",
              "      <td>Present</td>\n",
              "      <td>49</td>\n",
              "      <td>25.30</td>\n",
              "      <td>97.20</td>\n",
              "      <td>52</td>\n",
              "      <td>1</td>\n",
              "    </tr>\n",
              "    <tr>\n",
              "      <th>1</th>\n",
              "      <td>144</td>\n",
              "      <td>0.01</td>\n",
              "      <td>4.41</td>\n",
              "      <td>28.61</td>\n",
              "      <td>Absent</td>\n",
              "      <td>55</td>\n",
              "      <td>28.87</td>\n",
              "      <td>2.06</td>\n",
              "      <td>63</td>\n",
              "      <td>1</td>\n",
              "    </tr>\n",
              "    <tr>\n",
              "      <th>2</th>\n",
              "      <td>118</td>\n",
              "      <td>0.08</td>\n",
              "      <td>3.48</td>\n",
              "      <td>32.28</td>\n",
              "      <td>Present</td>\n",
              "      <td>52</td>\n",
              "      <td>29.14</td>\n",
              "      <td>3.81</td>\n",
              "      <td>46</td>\n",
              "      <td>0</td>\n",
              "    </tr>\n",
              "    <tr>\n",
              "      <th>3</th>\n",
              "      <td>170</td>\n",
              "      <td>7.50</td>\n",
              "      <td>6.41</td>\n",
              "      <td>38.03</td>\n",
              "      <td>Present</td>\n",
              "      <td>51</td>\n",
              "      <td>31.99</td>\n",
              "      <td>24.26</td>\n",
              "      <td>58</td>\n",
              "      <td>1</td>\n",
              "    </tr>\n",
              "    <tr>\n",
              "      <th>4</th>\n",
              "      <td>134</td>\n",
              "      <td>13.60</td>\n",
              "      <td>3.50</td>\n",
              "      <td>27.78</td>\n",
              "      <td>Present</td>\n",
              "      <td>60</td>\n",
              "      <td>25.99</td>\n",
              "      <td>57.34</td>\n",
              "      <td>49</td>\n",
              "      <td>1</td>\n",
              "    </tr>\n",
              "    <tr>\n",
              "      <th>...</th>\n",
              "      <td>...</td>\n",
              "      <td>...</td>\n",
              "      <td>...</td>\n",
              "      <td>...</td>\n",
              "      <td>...</td>\n",
              "      <td>...</td>\n",
              "      <td>...</td>\n",
              "      <td>...</td>\n",
              "      <td>...</td>\n",
              "      <td>...</td>\n",
              "    </tr>\n",
              "    <tr>\n",
              "      <th>457</th>\n",
              "      <td>214</td>\n",
              "      <td>0.40</td>\n",
              "      <td>5.98</td>\n",
              "      <td>31.72</td>\n",
              "      <td>Absent</td>\n",
              "      <td>64</td>\n",
              "      <td>28.45</td>\n",
              "      <td>0.00</td>\n",
              "      <td>58</td>\n",
              "      <td>0</td>\n",
              "    </tr>\n",
              "    <tr>\n",
              "      <th>458</th>\n",
              "      <td>182</td>\n",
              "      <td>4.20</td>\n",
              "      <td>4.41</td>\n",
              "      <td>32.10</td>\n",
              "      <td>Absent</td>\n",
              "      <td>52</td>\n",
              "      <td>28.61</td>\n",
              "      <td>18.72</td>\n",
              "      <td>52</td>\n",
              "      <td>1</td>\n",
              "    </tr>\n",
              "    <tr>\n",
              "      <th>459</th>\n",
              "      <td>108</td>\n",
              "      <td>3.00</td>\n",
              "      <td>1.59</td>\n",
              "      <td>15.23</td>\n",
              "      <td>Absent</td>\n",
              "      <td>40</td>\n",
              "      <td>20.09</td>\n",
              "      <td>26.64</td>\n",
              "      <td>55</td>\n",
              "      <td>0</td>\n",
              "    </tr>\n",
              "    <tr>\n",
              "      <th>460</th>\n",
              "      <td>118</td>\n",
              "      <td>5.40</td>\n",
              "      <td>11.61</td>\n",
              "      <td>30.79</td>\n",
              "      <td>Absent</td>\n",
              "      <td>64</td>\n",
              "      <td>27.35</td>\n",
              "      <td>23.97</td>\n",
              "      <td>40</td>\n",
              "      <td>0</td>\n",
              "    </tr>\n",
              "    <tr>\n",
              "      <th>461</th>\n",
              "      <td>132</td>\n",
              "      <td>0.00</td>\n",
              "      <td>4.82</td>\n",
              "      <td>33.41</td>\n",
              "      <td>Present</td>\n",
              "      <td>62</td>\n",
              "      <td>14.70</td>\n",
              "      <td>0.00</td>\n",
              "      <td>46</td>\n",
              "      <td>1</td>\n",
              "    </tr>\n",
              "  </tbody>\n",
              "</table>\n",
              "<p>462 rows × 10 columns</p>\n",
              "</div>\n",
              "      <button class=\"colab-df-convert\" onclick=\"convertToInteractive('df-f15104da-bdb5-45e0-aee4-aa84971bab4e')\"\n",
              "              title=\"Convert this dataframe to an interactive table.\"\n",
              "              style=\"display:none;\">\n",
              "        \n",
              "  <svg xmlns=\"http://www.w3.org/2000/svg\" height=\"24px\"viewBox=\"0 0 24 24\"\n",
              "       width=\"24px\">\n",
              "    <path d=\"M0 0h24v24H0V0z\" fill=\"none\"/>\n",
              "    <path d=\"M18.56 5.44l.94 2.06.94-2.06 2.06-.94-2.06-.94-.94-2.06-.94 2.06-2.06.94zm-11 1L8.5 8.5l.94-2.06 2.06-.94-2.06-.94L8.5 2.5l-.94 2.06-2.06.94zm10 10l.94 2.06.94-2.06 2.06-.94-2.06-.94-.94-2.06-.94 2.06-2.06.94z\"/><path d=\"M17.41 7.96l-1.37-1.37c-.4-.4-.92-.59-1.43-.59-.52 0-1.04.2-1.43.59L10.3 9.45l-7.72 7.72c-.78.78-.78 2.05 0 2.83L4 21.41c.39.39.9.59 1.41.59.51 0 1.02-.2 1.41-.59l7.78-7.78 2.81-2.81c.8-.78.8-2.07 0-2.86zM5.41 20L4 18.59l7.72-7.72 1.47 1.35L5.41 20z\"/>\n",
              "  </svg>\n",
              "      </button>\n",
              "      \n",
              "  <style>\n",
              "    .colab-df-container {\n",
              "      display:flex;\n",
              "      flex-wrap:wrap;\n",
              "      gap: 12px;\n",
              "    }\n",
              "\n",
              "    .colab-df-convert {\n",
              "      background-color: #E8F0FE;\n",
              "      border: none;\n",
              "      border-radius: 50%;\n",
              "      cursor: pointer;\n",
              "      display: none;\n",
              "      fill: #1967D2;\n",
              "      height: 32px;\n",
              "      padding: 0 0 0 0;\n",
              "      width: 32px;\n",
              "    }\n",
              "\n",
              "    .colab-df-convert:hover {\n",
              "      background-color: #E2EBFA;\n",
              "      box-shadow: 0px 1px 2px rgba(60, 64, 67, 0.3), 0px 1px 3px 1px rgba(60, 64, 67, 0.15);\n",
              "      fill: #174EA6;\n",
              "    }\n",
              "\n",
              "    [theme=dark] .colab-df-convert {\n",
              "      background-color: #3B4455;\n",
              "      fill: #D2E3FC;\n",
              "    }\n",
              "\n",
              "    [theme=dark] .colab-df-convert:hover {\n",
              "      background-color: #434B5C;\n",
              "      box-shadow: 0px 1px 3px 1px rgba(0, 0, 0, 0.15);\n",
              "      filter: drop-shadow(0px 1px 2px rgba(0, 0, 0, 0.3));\n",
              "      fill: #FFFFFF;\n",
              "    }\n",
              "  </style>\n",
              "\n",
              "      <script>\n",
              "        const buttonEl =\n",
              "          document.querySelector('#df-f15104da-bdb5-45e0-aee4-aa84971bab4e button.colab-df-convert');\n",
              "        buttonEl.style.display =\n",
              "          google.colab.kernel.accessAllowed ? 'block' : 'none';\n",
              "\n",
              "        async function convertToInteractive(key) {\n",
              "          const element = document.querySelector('#df-f15104da-bdb5-45e0-aee4-aa84971bab4e');\n",
              "          const dataTable =\n",
              "            await google.colab.kernel.invokeFunction('convertToInteractive',\n",
              "                                                     [key], {});\n",
              "          if (!dataTable) return;\n",
              "\n",
              "          const docLinkHtml = 'Like what you see? Visit the ' +\n",
              "            '<a target=\"_blank\" href=https://colab.research.google.com/notebooks/data_table.ipynb>data table notebook</a>'\n",
              "            + ' to learn more about interactive tables.';\n",
              "          element.innerHTML = '';\n",
              "          dataTable['output_type'] = 'display_data';\n",
              "          await google.colab.output.renderOutput(dataTable, element);\n",
              "          const docLink = document.createElement('div');\n",
              "          docLink.innerHTML = docLinkHtml;\n",
              "          element.appendChild(docLink);\n",
              "        }\n",
              "      </script>\n",
              "    </div>\n",
              "  </div>\n",
              "  "
            ]
          },
          "metadata": {},
          "execution_count": 3
        }
      ],
      "source": [
        "#import data\n",
        "chd_data=pd.read_csv('/content/CHDdata diagnosis.csv')\n",
        "chd_data"
      ]
    },
    {
      "cell_type": "code",
      "execution_count": 4,
      "metadata": {
        "colab": {
          "base_uri": "https://localhost:8080/"
        },
        "id": "4npkhvdfRghk",
        "outputId": "e963d215-4791-40d7-ff82-2a947f095db9"
      },
      "outputs": [
        {
          "output_type": "execute_result",
          "data": {
            "text/plain": [
              "sbp          0\n",
              "tobacco      0\n",
              "ldl          0\n",
              "adiposity    0\n",
              "famhist      0\n",
              "typea        0\n",
              "obesity      0\n",
              "alcohol      0\n",
              "age          0\n",
              "chd          0\n",
              "dtype: int64"
            ]
          },
          "metadata": {},
          "execution_count": 4
        }
      ],
      "source": [
        "#check for null value \n",
        "chd_data.isnull().sum()\n"
      ]
    },
    {
      "cell_type": "code",
      "execution_count": 5,
      "metadata": {
        "colab": {
          "base_uri": "https://localhost:8080/"
        },
        "id": "3JzG7DJzXJ1Q",
        "outputId": "692b3c2a-2ed0-4ff3-f7bf-f2920b51d248"
      },
      "outputs": [
        {
          "output_type": "execute_result",
          "data": {
            "text/plain": [
              "0"
            ]
          },
          "metadata": {},
          "execution_count": 5
        }
      ],
      "source": [
        "#check for duplicated\n",
        "chd_data.duplicated().sum()"
      ]
    },
    {
      "cell_type": "code",
      "execution_count": 6,
      "metadata": {
        "colab": {
          "base_uri": "https://localhost:8080/"
        },
        "id": "xNhFAFI2Y48D",
        "outputId": "85972a8e-fa4d-4b3f-ce43-c86b60a76dac"
      },
      "outputs": [
        {
          "output_type": "execute_result",
          "data": {
            "text/plain": [
              "sbp            int64\n",
              "tobacco      float64\n",
              "ldl          float64\n",
              "adiposity    float64\n",
              "famhist       object\n",
              "typea          int64\n",
              "obesity      float64\n",
              "alcohol      float64\n",
              "age            int64\n",
              "chd            int64\n",
              "dtype: object"
            ]
          },
          "metadata": {},
          "execution_count": 6
        }
      ],
      "source": [
        "#check data types\n",
        "chd_data.dtypes"
      ]
    },
    {
      "cell_type": "code",
      "execution_count": 7,
      "metadata": {
        "colab": {
          "base_uri": "https://localhost:8080/",
          "height": 424
        },
        "id": "IINrKbQVaiJJ",
        "outputId": "3d159041-9c08-41b1-c0e0-3904b0ce8ae4"
      },
      "outputs": [
        {
          "output_type": "execute_result",
          "data": {
            "text/plain": [
              "     sbp  tobacco    ldl  adiposity  famhist  typea  obesity  alcohol  age  \\\n",
              "0    160    12.00   5.73      23.11        1     49    25.30    97.20   52   \n",
              "1    144     0.01   4.41      28.61        0     55    28.87     2.06   63   \n",
              "2    118     0.08   3.48      32.28        1     52    29.14     3.81   46   \n",
              "3    170     7.50   6.41      38.03        1     51    31.99    24.26   58   \n",
              "4    134    13.60   3.50      27.78        1     60    25.99    57.34   49   \n",
              "..   ...      ...    ...        ...      ...    ...      ...      ...  ...   \n",
              "457  214     0.40   5.98      31.72        0     64    28.45     0.00   58   \n",
              "458  182     4.20   4.41      32.10        0     52    28.61    18.72   52   \n",
              "459  108     3.00   1.59      15.23        0     40    20.09    26.64   55   \n",
              "460  118     5.40  11.61      30.79        0     64    27.35    23.97   40   \n",
              "461  132     0.00   4.82      33.41        1     62    14.70     0.00   46   \n",
              "\n",
              "     chd  \n",
              "0      1  \n",
              "1      1  \n",
              "2      0  \n",
              "3      1  \n",
              "4      1  \n",
              "..   ...  \n",
              "457    0  \n",
              "458    1  \n",
              "459    0  \n",
              "460    0  \n",
              "461    1  \n",
              "\n",
              "[462 rows x 10 columns]"
            ],
            "text/html": [
              "\n",
              "  <div id=\"df-d90c1fa7-c671-4421-a2e5-429a97fa8aa5\">\n",
              "    <div class=\"colab-df-container\">\n",
              "      <div>\n",
              "<style scoped>\n",
              "    .dataframe tbody tr th:only-of-type {\n",
              "        vertical-align: middle;\n",
              "    }\n",
              "\n",
              "    .dataframe tbody tr th {\n",
              "        vertical-align: top;\n",
              "    }\n",
              "\n",
              "    .dataframe thead th {\n",
              "        text-align: right;\n",
              "    }\n",
              "</style>\n",
              "<table border=\"1\" class=\"dataframe\">\n",
              "  <thead>\n",
              "    <tr style=\"text-align: right;\">\n",
              "      <th></th>\n",
              "      <th>sbp</th>\n",
              "      <th>tobacco</th>\n",
              "      <th>ldl</th>\n",
              "      <th>adiposity</th>\n",
              "      <th>famhist</th>\n",
              "      <th>typea</th>\n",
              "      <th>obesity</th>\n",
              "      <th>alcohol</th>\n",
              "      <th>age</th>\n",
              "      <th>chd</th>\n",
              "    </tr>\n",
              "  </thead>\n",
              "  <tbody>\n",
              "    <tr>\n",
              "      <th>0</th>\n",
              "      <td>160</td>\n",
              "      <td>12.00</td>\n",
              "      <td>5.73</td>\n",
              "      <td>23.11</td>\n",
              "      <td>1</td>\n",
              "      <td>49</td>\n",
              "      <td>25.30</td>\n",
              "      <td>97.20</td>\n",
              "      <td>52</td>\n",
              "      <td>1</td>\n",
              "    </tr>\n",
              "    <tr>\n",
              "      <th>1</th>\n",
              "      <td>144</td>\n",
              "      <td>0.01</td>\n",
              "      <td>4.41</td>\n",
              "      <td>28.61</td>\n",
              "      <td>0</td>\n",
              "      <td>55</td>\n",
              "      <td>28.87</td>\n",
              "      <td>2.06</td>\n",
              "      <td>63</td>\n",
              "      <td>1</td>\n",
              "    </tr>\n",
              "    <tr>\n",
              "      <th>2</th>\n",
              "      <td>118</td>\n",
              "      <td>0.08</td>\n",
              "      <td>3.48</td>\n",
              "      <td>32.28</td>\n",
              "      <td>1</td>\n",
              "      <td>52</td>\n",
              "      <td>29.14</td>\n",
              "      <td>3.81</td>\n",
              "      <td>46</td>\n",
              "      <td>0</td>\n",
              "    </tr>\n",
              "    <tr>\n",
              "      <th>3</th>\n",
              "      <td>170</td>\n",
              "      <td>7.50</td>\n",
              "      <td>6.41</td>\n",
              "      <td>38.03</td>\n",
              "      <td>1</td>\n",
              "      <td>51</td>\n",
              "      <td>31.99</td>\n",
              "      <td>24.26</td>\n",
              "      <td>58</td>\n",
              "      <td>1</td>\n",
              "    </tr>\n",
              "    <tr>\n",
              "      <th>4</th>\n",
              "      <td>134</td>\n",
              "      <td>13.60</td>\n",
              "      <td>3.50</td>\n",
              "      <td>27.78</td>\n",
              "      <td>1</td>\n",
              "      <td>60</td>\n",
              "      <td>25.99</td>\n",
              "      <td>57.34</td>\n",
              "      <td>49</td>\n",
              "      <td>1</td>\n",
              "    </tr>\n",
              "    <tr>\n",
              "      <th>...</th>\n",
              "      <td>...</td>\n",
              "      <td>...</td>\n",
              "      <td>...</td>\n",
              "      <td>...</td>\n",
              "      <td>...</td>\n",
              "      <td>...</td>\n",
              "      <td>...</td>\n",
              "      <td>...</td>\n",
              "      <td>...</td>\n",
              "      <td>...</td>\n",
              "    </tr>\n",
              "    <tr>\n",
              "      <th>457</th>\n",
              "      <td>214</td>\n",
              "      <td>0.40</td>\n",
              "      <td>5.98</td>\n",
              "      <td>31.72</td>\n",
              "      <td>0</td>\n",
              "      <td>64</td>\n",
              "      <td>28.45</td>\n",
              "      <td>0.00</td>\n",
              "      <td>58</td>\n",
              "      <td>0</td>\n",
              "    </tr>\n",
              "    <tr>\n",
              "      <th>458</th>\n",
              "      <td>182</td>\n",
              "      <td>4.20</td>\n",
              "      <td>4.41</td>\n",
              "      <td>32.10</td>\n",
              "      <td>0</td>\n",
              "      <td>52</td>\n",
              "      <td>28.61</td>\n",
              "      <td>18.72</td>\n",
              "      <td>52</td>\n",
              "      <td>1</td>\n",
              "    </tr>\n",
              "    <tr>\n",
              "      <th>459</th>\n",
              "      <td>108</td>\n",
              "      <td>3.00</td>\n",
              "      <td>1.59</td>\n",
              "      <td>15.23</td>\n",
              "      <td>0</td>\n",
              "      <td>40</td>\n",
              "      <td>20.09</td>\n",
              "      <td>26.64</td>\n",
              "      <td>55</td>\n",
              "      <td>0</td>\n",
              "    </tr>\n",
              "    <tr>\n",
              "      <th>460</th>\n",
              "      <td>118</td>\n",
              "      <td>5.40</td>\n",
              "      <td>11.61</td>\n",
              "      <td>30.79</td>\n",
              "      <td>0</td>\n",
              "      <td>64</td>\n",
              "      <td>27.35</td>\n",
              "      <td>23.97</td>\n",
              "      <td>40</td>\n",
              "      <td>0</td>\n",
              "    </tr>\n",
              "    <tr>\n",
              "      <th>461</th>\n",
              "      <td>132</td>\n",
              "      <td>0.00</td>\n",
              "      <td>4.82</td>\n",
              "      <td>33.41</td>\n",
              "      <td>1</td>\n",
              "      <td>62</td>\n",
              "      <td>14.70</td>\n",
              "      <td>0.00</td>\n",
              "      <td>46</td>\n",
              "      <td>1</td>\n",
              "    </tr>\n",
              "  </tbody>\n",
              "</table>\n",
              "<p>462 rows × 10 columns</p>\n",
              "</div>\n",
              "      <button class=\"colab-df-convert\" onclick=\"convertToInteractive('df-d90c1fa7-c671-4421-a2e5-429a97fa8aa5')\"\n",
              "              title=\"Convert this dataframe to an interactive table.\"\n",
              "              style=\"display:none;\">\n",
              "        \n",
              "  <svg xmlns=\"http://www.w3.org/2000/svg\" height=\"24px\"viewBox=\"0 0 24 24\"\n",
              "       width=\"24px\">\n",
              "    <path d=\"M0 0h24v24H0V0z\" fill=\"none\"/>\n",
              "    <path d=\"M18.56 5.44l.94 2.06.94-2.06 2.06-.94-2.06-.94-.94-2.06-.94 2.06-2.06.94zm-11 1L8.5 8.5l.94-2.06 2.06-.94-2.06-.94L8.5 2.5l-.94 2.06-2.06.94zm10 10l.94 2.06.94-2.06 2.06-.94-2.06-.94-.94-2.06-.94 2.06-2.06.94z\"/><path d=\"M17.41 7.96l-1.37-1.37c-.4-.4-.92-.59-1.43-.59-.52 0-1.04.2-1.43.59L10.3 9.45l-7.72 7.72c-.78.78-.78 2.05 0 2.83L4 21.41c.39.39.9.59 1.41.59.51 0 1.02-.2 1.41-.59l7.78-7.78 2.81-2.81c.8-.78.8-2.07 0-2.86zM5.41 20L4 18.59l7.72-7.72 1.47 1.35L5.41 20z\"/>\n",
              "  </svg>\n",
              "      </button>\n",
              "      \n",
              "  <style>\n",
              "    .colab-df-container {\n",
              "      display:flex;\n",
              "      flex-wrap:wrap;\n",
              "      gap: 12px;\n",
              "    }\n",
              "\n",
              "    .colab-df-convert {\n",
              "      background-color: #E8F0FE;\n",
              "      border: none;\n",
              "      border-radius: 50%;\n",
              "      cursor: pointer;\n",
              "      display: none;\n",
              "      fill: #1967D2;\n",
              "      height: 32px;\n",
              "      padding: 0 0 0 0;\n",
              "      width: 32px;\n",
              "    }\n",
              "\n",
              "    .colab-df-convert:hover {\n",
              "      background-color: #E2EBFA;\n",
              "      box-shadow: 0px 1px 2px rgba(60, 64, 67, 0.3), 0px 1px 3px 1px rgba(60, 64, 67, 0.15);\n",
              "      fill: #174EA6;\n",
              "    }\n",
              "\n",
              "    [theme=dark] .colab-df-convert {\n",
              "      background-color: #3B4455;\n",
              "      fill: #D2E3FC;\n",
              "    }\n",
              "\n",
              "    [theme=dark] .colab-df-convert:hover {\n",
              "      background-color: #434B5C;\n",
              "      box-shadow: 0px 1px 3px 1px rgba(0, 0, 0, 0.15);\n",
              "      filter: drop-shadow(0px 1px 2px rgba(0, 0, 0, 0.3));\n",
              "      fill: #FFFFFF;\n",
              "    }\n",
              "  </style>\n",
              "\n",
              "      <script>\n",
              "        const buttonEl =\n",
              "          document.querySelector('#df-d90c1fa7-c671-4421-a2e5-429a97fa8aa5 button.colab-df-convert');\n",
              "        buttonEl.style.display =\n",
              "          google.colab.kernel.accessAllowed ? 'block' : 'none';\n",
              "\n",
              "        async function convertToInteractive(key) {\n",
              "          const element = document.querySelector('#df-d90c1fa7-c671-4421-a2e5-429a97fa8aa5');\n",
              "          const dataTable =\n",
              "            await google.colab.kernel.invokeFunction('convertToInteractive',\n",
              "                                                     [key], {});\n",
              "          if (!dataTable) return;\n",
              "\n",
              "          const docLinkHtml = 'Like what you see? Visit the ' +\n",
              "            '<a target=\"_blank\" href=https://colab.research.google.com/notebooks/data_table.ipynb>data table notebook</a>'\n",
              "            + ' to learn more about interactive tables.';\n",
              "          element.innerHTML = '';\n",
              "          dataTable['output_type'] = 'display_data';\n",
              "          await google.colab.output.renderOutput(dataTable, element);\n",
              "          const docLink = document.createElement('div');\n",
              "          docLink.innerHTML = docLinkHtml;\n",
              "          element.appendChild(docLink);\n",
              "        }\n",
              "      </script>\n",
              "    </div>\n",
              "  </div>\n",
              "  "
            ]
          },
          "metadata": {},
          "execution_count": 7
        }
      ],
      "source": [
        "from sklearn import preprocessing\n",
        "le = preprocessing.LabelEncoder()\n",
        "le.fit(chd_data.iloc[:,4])\n",
        "chd_data.iloc[:,4]=le.transform(chd_data.iloc[:,4])\n",
        "chd_data\n"
      ]
    },
    {
      "cell_type": "code",
      "source": [
        "Index = np.r_[0:4,5:9]\n",
        "plt.figure(figsize=(16,5))\n",
        "chd_data.iloc[:,Index].boxplot()\n",
        "plt.title(\"Distribution of the values ​​of all potential predictors\")\n",
        "plt.show()\n"
      ],
      "metadata": {
        "colab": {
          "base_uri": "https://localhost:8080/",
          "height": 336
        },
        "id": "MplEx6HhmiEY",
        "outputId": "b841b4e2-a219-4bce-87ea-7ae9a89caf9e"
      },
      "execution_count": 8,
      "outputs": [
        {
          "output_type": "display_data",
          "data": {
            "text/plain": [
              "<Figure size 1152x360 with 1 Axes>"
            ],
            "image/png": "[encoded data removed]"
          },
          "metadata": {
            "needs_background": "light"
          }
        }
      ]
    },
    {
      "cell_type": "code",
      "source": [
        "outliers = ['sbp', 'tobacco', 'ldl', 'typea', 'obesity', 'alcohol']\n",
        "for column in outliers:\n",
        "  Q1,Q3 = np.percentile(chd_data[column],[25,75])\n",
        "  IQR = Q3 - Q1\n",
        "  lower_fence = Q1 - (1.5*IQR)\n",
        "  upper_fence = Q3 + (1.5*IQR)  \n",
        "  chd_data[column] = chd_data[column].apply(lambda x: upper_fence if x>upper_fence\n",
        "                                              else lower_fence if x<lower_fence else x)      "
      ],
      "metadata": {
        "id": "UgFIZ8GjpTMt"
      },
      "execution_count": 9,
      "outputs": []
    },
    {
      "cell_type": "code",
      "source": [
        "plt.figure(figsize=(16,5))\n",
        "sns.boxplot(data=chd_data.iloc[:,Index])\n",
        "plt.title(\"Distribution of the values ​​of all potential predictors\")\n",
        "plt.grid()\n",
        "plt.show()"
      ],
      "metadata": {
        "colab": {
          "base_uri": "https://localhost:8080/",
          "height": 336
        },
        "id": "RHSKS6hYp4A0",
        "outputId": "f651e536-31f2-4f3f-dd4f-e3487f8f861c"
      },
      "execution_count": 10,
      "outputs": [
        {
          "output_type": "display_data",
          "data": {
            "text/plain": [
              "<Figure size 1152x360 with 1 Axes>"
            ],
            "image/png": "[encoded data removed]"
          },
          "metadata": {
            "needs_background": "light"
          }
        }
      ]
    },
    {
      "cell_type": "code",
      "source": [
        "chd_data.to_csv('diagnosis_clean.csv', index=False)"
      ],
      "metadata": {
        "id": "o_t6Zcd5NoRY"
      },
      "execution_count": 11,
      "outputs": []
    },
    {
      "cell_type": "code",
      "source": [
        "df_clean = pd.read_csv('diagnosis_clean.csv')\n",
        "df_clean.head()"
      ],
      "metadata": {
        "colab": {
          "base_uri": "https://localhost:8080/",
          "height": 206
        },
        "id": "-cbPXz-jNoaO",
        "outputId": "c26486e1-82d3-42d1-8966-561c0210afbd"
      },
      "execution_count": 12,
      "outputs": [
        {
          "output_type": "execute_result",
          "data": {
            "text/plain": [
              "     sbp  tobacco   ldl  adiposity  famhist  typea  obesity   alcohol  age  \\\n",
              "0  160.0    12.00  5.73      23.11        1   49.0    25.30  58.96625   52   \n",
              "1  144.0     0.01  4.41      28.61        0   55.0    28.87   2.06000   63   \n",
              "2  118.0     0.08  3.48      32.28        1   52.0    29.14   3.81000   46   \n",
              "3  170.0     7.50  6.41      38.03        1   51.0    31.99  24.26000   58   \n",
              "4  134.0    13.60  3.50      27.78        1   60.0    25.99  57.34000   49   \n",
              "\n",
              "   chd  \n",
              "0    1  \n",
              "1    1  \n",
              "2    0  \n",
              "3    1  \n",
              "4    1  "
            ],
            "text/html": [
              "\n",
              "  <div id=\"df-9b4f086d-89ea-4f29-a870-b60a59bd072a\">\n",
              "    <div class=\"colab-df-container\">\n",
              "      <div>\n",
              "<style scoped>\n",
              "    .dataframe tbody tr th:only-of-type {\n",
              "        vertical-align: middle;\n",
              "    }\n",
              "\n",
              "    .dataframe tbody tr th {\n",
              "        vertical-align: top;\n",
              "    }\n",
              "\n",
              "    .dataframe thead th {\n",
              "        text-align: right;\n",
              "    }\n",
              "</style>\n",
              "<table border=\"1\" class=\"dataframe\">\n",
              "  <thead>\n",
              "    <tr style=\"text-align: right;\">\n",
              "      <th></th>\n",
              "      <th>sbp</th>\n",
              "      <th>tobacco</th>\n",
              "      <th>ldl</th>\n",
              "      <th>adiposity</th>\n",
              "      <th>famhist</th>\n",
              "      <th>typea</th>\n",
              "      <th>obesity</th>\n",
              "      <th>alcohol</th>\n",
              "      <th>age</th>\n",
              "      <th>chd</th>\n",
              "    </tr>\n",
              "  </thead>\n",
              "  <tbody>\n",
              "    <tr>\n",
              "      <th>0</th>\n",
              "      <td>160.0</td>\n",
              "      <td>12.00</td>\n",
              "      <td>5.73</td>\n",
              "      <td>23.11</td>\n",
              "      <td>1</td>\n",
              "      <td>49.0</td>\n",
              "      <td>25.30</td>\n",
              "      <td>58.96625</td>\n",
              "      <td>52</td>\n",
              "      <td>1</td>\n",
              "    </tr>\n",
              "    <tr>\n",
              "      <th>1</th>\n",
              "      <td>144.0</td>\n",
              "      <td>0.01</td>\n",
              "      <td>4.41</td>\n",
              "      <td>28.61</td>\n",
              "      <td>0</td>\n",
              "      <td>55.0</td>\n",
              "      <td>28.87</td>\n",
              "      <td>2.06000</td>\n",
              "      <td>63</td>\n",
              "      <td>1</td>\n",
              "    </tr>\n",
              "    <tr>\n",
              "      <th>2</th>\n",
              "      <td>118.0</td>\n",
              "      <td>0.08</td>\n",
              "      <td>3.48</td>\n",
              "      <td>32.28</td>\n",
              "      <td>1</td>\n",
              "      <td>52.0</td>\n",
              "      <td>29.14</td>\n",
              "      <td>3.81000</td>\n",
              "      <td>46</td>\n",
              "      <td>0</td>\n",
              "    </tr>\n",
              "    <tr>\n",
              "      <th>3</th>\n",
              "      <td>170.0</td>\n",
              "      <td>7.50</td>\n",
              "      <td>6.41</td>\n",
              "      <td>38.03</td>\n",
              "      <td>1</td>\n",
              "      <td>51.0</td>\n",
              "      <td>31.99</td>\n",
              "      <td>24.26000</td>\n",
              "      <td>58</td>\n",
              "      <td>1</td>\n",
              "    </tr>\n",
              "    <tr>\n",
              "      <th>4</th>\n",
              "      <td>134.0</td>\n",
              "      <td>13.60</td>\n",
              "      <td>3.50</td>\n",
              "      <td>27.78</td>\n",
              "      <td>1</td>\n",
              "      <td>60.0</td>\n",
              "      <td>25.99</td>\n",
              "      <td>57.34000</td>\n",
              "      <td>49</td>\n",
              "      <td>1</td>\n",
              "    </tr>\n",
              "  </tbody>\n",
              "</table>\n",
              "</div>\n",
              "      <button class=\"colab-df-convert\" onclick=\"convertToInteractive('df-9b4f086d-89ea-4f29-a870-b60a59bd072a')\"\n",
              "              title=\"Convert this dataframe to an interactive table.\"\n",
              "              style=\"display:none;\">\n",
              "        \n",
              "  <svg xmlns=\"http://www.w3.org/2000/svg\" height=\"24px\"viewBox=\"0 0 24 24\"\n",
              "       width=\"24px\">\n",
              "    <path d=\"M0 0h24v24H0V0z\" fill=\"none\"/>\n",
              "    <path d=\"M18.56 5.44l.94 2.06.94-2.06 2.06-.94-2.06-.94-.94-2.06-.94 2.06-2.06.94zm-11 1L8.5 8.5l.94-2.06 2.06-.94-2.06-.94L8.5 2.5l-.94 2.06-2.06.94zm10 10l.94 2.06.94-2.06 2.06-.94-2.06-.94-.94-2.06-.94 2.06-2.06.94z\"/><path d=\"M17.41 7.96l-1.37-1.37c-.4-.4-.92-.59-1.43-.59-.52 0-1.04.2-1.43.59L10.3 9.45l-7.72 7.72c-.78.78-.78 2.05 0 2.83L4 21.41c.39.39.9.59 1.41.59.51 0 1.02-.2 1.41-.59l7.78-7.78 2.81-2.81c.8-.78.8-2.07 0-2.86zM5.41 20L4 18.59l7.72-7.72 1.47 1.35L5.41 20z\"/>\n",
              "  </svg>\n",
              "      </button>\n",
              "      \n",
              "  <style>\n",
              "    .colab-df-container {\n",
              "      display:flex;\n",
              "      flex-wrap:wrap;\n",
              "      gap: 12px;\n",
              "    }\n",
              "\n",
              "    .colab-df-convert {\n",
              "      background-color: #E8F0FE;\n",
              "      border: none;\n",
              "      border-radius: 50%;\n",
              "      cursor: pointer;\n",
              "      display: none;\n",
              "      fill: #1967D2;\n",
              "      height: 32px;\n",
              "      padding: 0 0 0 0;\n",
              "      width: 32px;\n",
              "    }\n",
              "\n",
              "    .colab-df-convert:hover {\n",
              "      background-color: #E2EBFA;\n",
              "      box-shadow: 0px 1px 2px rgba(60, 64, 67, 0.3), 0px 1px 3px 1px rgba(60, 64, 67, 0.15);\n",
              "      fill: #174EA6;\n",
              "    }\n",
              "\n",
              "    [theme=dark] .colab-df-convert {\n",
              "      background-color: #3B4455;\n",
              "      fill: #D2E3FC;\n",
              "    }\n",
              "\n",
              "    [theme=dark] .colab-df-convert:hover {\n",
              "      background-color: #434B5C;\n",
              "      box-shadow: 0px 1px 3px 1px rgba(0, 0, 0, 0.15);\n",
              "      filter: drop-shadow(0px 1px 2px rgba(0, 0, 0, 0.3));\n",
              "      fill: #FFFFFF;\n",
              "    }\n",
              "  </style>\n",
              "\n",
              "      <script>\n",
              "        const buttonEl =\n",
              "          document.querySelector('#df-9b4f086d-89ea-4f29-a870-b60a59bd072a button.colab-df-convert');\n",
              "        buttonEl.style.display =\n",
              "          google.colab.kernel.accessAllowed ? 'block' : 'none';\n",
              "\n",
              "        async function convertToInteractive(key) {\n",
              "          const element = document.querySelector('#df-9b4f086d-89ea-4f29-a870-b60a59bd072a');\n",
              "          const dataTable =\n",
              "            await google.colab.kernel.invokeFunction('convertToInteractive',\n",
              "                                                     [key], {});\n",
              "          if (!dataTable) return;\n",
              "\n",
              "          const docLinkHtml = 'Like what you see? Visit the ' +\n",
              "            '<a target=\"_blank\" href=https://colab.research.google.com/notebooks/data_table.ipynb>data table notebook</a>'\n",
              "            + ' to learn more about interactive tables.';\n",
              "          element.innerHTML = '';\n",
              "          dataTable['output_type'] = 'display_data';\n",
              "          await google.colab.output.renderOutput(dataTable, element);\n",
              "          const docLink = document.createElement('div');\n",
              "          docLink.innerHTML = docLinkHtml;\n",
              "          element.appendChild(docLink);\n",
              "        }\n",
              "      </script>\n",
              "    </div>\n",
              "  </div>\n",
              "  "
            ]
          },
          "metadata": {},
          "execution_count": 12
        }
      ]
    },
    {
      "cell_type": "code",
      "source": [
        "#rescaling\n",
        "scaler = StandardScaler()\n",
        "chd_data.iloc[:,Index] = scaler.fit_transform(chd_data.iloc[:,Index])\n",
        "chd_data.iloc[0:5,:]"
      ],
      "metadata": {
        "colab": {
          "base_uri": "https://localhost:8080/",
          "height": 206
        },
        "id": "lrnASvH3nZr3",
        "outputId": "78f00dc4-bd49-456a-8694-dd2428a7eb7f"
      },
      "execution_count": 13,
      "outputs": [
        {
          "output_type": "execute_result",
          "data": {
            "text/plain": [
              "        sbp   tobacco       ldl  adiposity  famhist     typea   obesity  \\\n",
              "0  1.191055  2.192213  0.557379  -0.295503        1 -0.432099 -0.170222   \n",
              "1  0.335523 -0.878642 -0.144857   0.412140        0  0.191095  0.728577   \n",
              "2 -1.054716 -0.860714 -0.639614   0.884332        1 -0.120502  0.796553   \n",
              "3  1.725763  1.039682  0.919137   1.624141        1 -0.224368  1.514082   \n",
              "4 -0.199184  2.602001 -0.628974   0.305351        1  0.710422  0.003495   \n",
              "\n",
              "    alcohol       age  chd  \n",
              "0  2.376877  0.629336    1  \n",
              "1 -0.708434  1.383115    1  \n",
              "2 -0.613553  0.218184    0  \n",
              "3  0.495193  1.040488    1  \n",
              "4  2.288706  0.423760    1  "
            ],
            "text/html": [
              "\n",
              "  <div id=\"df-c3a34fb5-5659-4984-ada2-41041dcd025d\">\n",
              "    <div class=\"colab-df-container\">\n",
              "      <div>\n",
              "<style scoped>\n",
              "    .dataframe tbody tr th:only-of-type {\n",
              "        vertical-align: middle;\n",
              "    }\n",
              "\n",
              "    .dataframe tbody tr th {\n",
              "        vertical-align: top;\n",
              "    }\n",
              "\n",
              "    .dataframe thead th {\n",
              "        text-align: right;\n",
              "    }\n",
              "</style>\n",
              "<table border=\"1\" class=\"dataframe\">\n",
              "  <thead>\n",
              "    <tr style=\"text-align: right;\">\n",
              "      <th></th>\n",
              "      <th>sbp</th>\n",
              "      <th>tobacco</th>\n",
              "      <th>ldl</th>\n",
              "      <th>adiposity</th>\n",
              "      <th>famhist</th>\n",
              "      <th>typea</th>\n",
              "      <th>obesity</th>\n",
              "      <th>alcohol</th>\n",
              "      <th>age</th>\n",
              "      <th>chd</th>\n",
              "    </tr>\n",
              "  </thead>\n",
              "  <tbody>\n",
              "    <tr>\n",
              "      <th>0</th>\n",
              "      <td>1.191055</td>\n",
              "      <td>2.192213</td>\n",
              "      <td>0.557379</td>\n",
              "      <td>-0.295503</td>\n",
              "      <td>1</td>\n",
              "      <td>-0.432099</td>\n",
              "      <td>-0.170222</td>\n",
              "      <td>2.376877</td>\n",
              "      <td>0.629336</td>\n",
              "      <td>1</td>\n",
              "    </tr>\n",
              "    <tr>\n",
              "      <th>1</th>\n",
              "      <td>0.335523</td>\n",
              "      <td>-0.878642</td>\n",
              "      <td>-0.144857</td>\n",
              "      <td>0.412140</td>\n",
              "      <td>0</td>\n",
              "      <td>0.191095</td>\n",
              "      <td>0.728577</td>\n",
              "      <td>-0.708434</td>\n",
              "      <td>1.383115</td>\n",
              "      <td>1</td>\n",
              "    </tr>\n",
              "    <tr>\n",
              "      <th>2</th>\n",
              "      <td>-1.054716</td>\n",
              "      <td>-0.860714</td>\n",
              "      <td>-0.639614</td>\n",
              "      <td>0.884332</td>\n",
              "      <td>1</td>\n",
              "      <td>-0.120502</td>\n",
              "      <td>0.796553</td>\n",
              "      <td>-0.613553</td>\n",
              "      <td>0.218184</td>\n",
              "      <td>0</td>\n",
              "    </tr>\n",
              "    <tr>\n",
              "      <th>3</th>\n",
              "      <td>1.725763</td>\n",
              "      <td>1.039682</td>\n",
              "      <td>0.919137</td>\n",
              "      <td>1.624141</td>\n",
              "      <td>1</td>\n",
              "      <td>-0.224368</td>\n",
              "      <td>1.514082</td>\n",
              "      <td>0.495193</td>\n",
              "      <td>1.040488</td>\n",
              "      <td>1</td>\n",
              "    </tr>\n",
              "    <tr>\n",
              "      <th>4</th>\n",
              "      <td>-0.199184</td>\n",
              "      <td>2.602001</td>\n",
              "      <td>-0.628974</td>\n",
              "      <td>0.305351</td>\n",
              "      <td>1</td>\n",
              "      <td>0.710422</td>\n",
              "      <td>0.003495</td>\n",
              "      <td>2.288706</td>\n",
              "      <td>0.423760</td>\n",
              "      <td>1</td>\n",
              "    </tr>\n",
              "  </tbody>\n",
              "</table>\n",
              "</div>\n",
              "      <button class=\"colab-df-convert\" onclick=\"convertToInteractive('df-c3a34fb5-5659-4984-ada2-41041dcd025d')\"\n",
              "              title=\"Convert this dataframe to an interactive table.\"\n",
              "              style=\"display:none;\">\n",
              "        \n",
              "  <svg xmlns=\"http://www.w3.org/2000/svg\" height=\"24px\"viewBox=\"0 0 24 24\"\n",
              "       width=\"24px\">\n",
              "    <path d=\"M0 0h24v24H0V0z\" fill=\"none\"/>\n",
              "    <path d=\"M18.56 5.44l.94 2.06.94-2.06 2.06-.94-2.06-.94-.94-2.06-.94 2.06-2.06.94zm-11 1L8.5 8.5l.94-2.06 2.06-.94-2.06-.94L8.5 2.5l-.94 2.06-2.06.94zm10 10l.94 2.06.94-2.06 2.06-.94-2.06-.94-.94-2.06-.94 2.06-2.06.94z\"/><path d=\"M17.41 7.96l-1.37-1.37c-.4-.4-.92-.59-1.43-.59-.52 0-1.04.2-1.43.59L10.3 9.45l-7.72 7.72c-.78.78-.78 2.05 0 2.83L4 21.41c.39.39.9.59 1.41.59.51 0 1.02-.2 1.41-.59l7.78-7.78 2.81-2.81c.8-.78.8-2.07 0-2.86zM5.41 20L4 18.59l7.72-7.72 1.47 1.35L5.41 20z\"/>\n",
              "  </svg>\n",
              "      </button>\n",
              "      \n",
              "  <style>\n",
              "    .colab-df-container {\n",
              "      display:flex;\n",
              "      flex-wrap:wrap;\n",
              "      gap: 12px;\n",
              "    }\n",
              "\n",
              "    .colab-df-convert {\n",
              "      background-color: #E8F0FE;\n",
              "      border: none;\n",
              "      border-radius: 50%;\n",
              "      cursor: pointer;\n",
              "      display: none;\n",
              "      fill: #1967D2;\n",
              "      height: 32px;\n",
              "      padding: 0 0 0 0;\n",
              "      width: 32px;\n",
              "    }\n",
              "\n",
              "    .colab-df-convert:hover {\n",
              "      background-color: #E2EBFA;\n",
              "      box-shadow: 0px 1px 2px rgba(60, 64, 67, 0.3), 0px 1px 3px 1px rgba(60, 64, 67, 0.15);\n",
              "      fill: #174EA6;\n",
              "    }\n",
              "\n",
              "    [theme=dark] .colab-df-convert {\n",
              "      background-color: #3B4455;\n",
              "      fill: #D2E3FC;\n",
              "    }\n",
              "\n",
              "    [theme=dark] .colab-df-convert:hover {\n",
              "      background-color: #434B5C;\n",
              "      box-shadow: 0px 1px 3px 1px rgba(0, 0, 0, 0.15);\n",
              "      filter: drop-shadow(0px 1px 2px rgba(0, 0, 0, 0.3));\n",
              "      fill: #FFFFFF;\n",
              "    }\n",
              "  </style>\n",
              "\n",
              "      <script>\n",
              "        const buttonEl =\n",
              "          document.querySelector('#df-c3a34fb5-5659-4984-ada2-41041dcd025d button.colab-df-convert');\n",
              "        buttonEl.style.display =\n",
              "          google.colab.kernel.accessAllowed ? 'block' : 'none';\n",
              "\n",
              "        async function convertToInteractive(key) {\n",
              "          const element = document.querySelector('#df-c3a34fb5-5659-4984-ada2-41041dcd025d');\n",
              "          const dataTable =\n",
              "            await google.colab.kernel.invokeFunction('convertToInteractive',\n",
              "                                                     [key], {});\n",
              "          if (!dataTable) return;\n",
              "\n",
              "          const docLinkHtml = 'Like what you see? Visit the ' +\n",
              "            '<a target=\"_blank\" href=https://colab.research.google.com/notebooks/data_table.ipynb>data table notebook</a>'\n",
              "            + ' to learn more about interactive tables.';\n",
              "          element.innerHTML = '';\n",
              "          dataTable['output_type'] = 'display_data';\n",
              "          await google.colab.output.renderOutput(dataTable, element);\n",
              "          const docLink = document.createElement('div');\n",
              "          docLink.innerHTML = docLinkHtml;\n",
              "          element.appendChild(docLink);\n",
              "        }\n",
              "      </script>\n",
              "    </div>\n",
              "  </div>\n",
              "  "
            ]
          },
          "metadata": {},
          "execution_count": 13
        }
      ]
    },
    {
      "cell_type": "code",
      "source": [
        "plt.figure(figsize=(16,5))\n",
        "sns.boxplot(data=chd_data.iloc[:,Index])\n",
        "plt.title(\"Distribution of the values ​​of all potential standardized predictors\")\n",
        "plt.grid()\n",
        "plt.show()"
      ],
      "metadata": {
        "colab": {
          "base_uri": "https://localhost:8080/",
          "height": 336
        },
        "id": "TBEK_EzknhBh",
        "outputId": "a645b44a-4525-4205-c193-110218bf0f7a"
      },
      "execution_count": 14,
      "outputs": [
        {
          "output_type": "display_data",
          "data": {
            "text/plain": [
              "<Figure size 1152x360 with 1 Axes>"
            ],
            "image/png": "[encoded data removed]"
          },
          "metadata": {
            "needs_background": "light"
          }
        }
      ]
    },
    {
      "cell_type": "code",
      "execution_count": null,
      "metadata": {
        "colab": {
          "base_uri": "https://localhost:8080/",
          "height": 423
        },
        "id": "Lz1f7_IHkB1e",
        "outputId": "a66139ea-12e8-44d7-df8a-b10968ba9bec"
      },
      "outputs": [
        {
          "output_type": "execute_result",
          "data": {
            "text/plain": [
              "          sbp   tobacco       ldl  adiposity  famhist     typea   obesity  \\\n",
              "0    1.058564  1.823073  0.478412  -0.295503        1 -0.418470 -0.176786   \n",
              "1    0.277089 -0.790237 -0.159680   0.412140        0  0.193344  0.671373   \n",
              "2   -0.992806 -0.774980 -0.609245   0.884332        1 -0.112563  0.735519   \n",
              "3    1.546985  0.842264  0.807126   1.624141        1 -0.214532  1.412621   \n",
              "4   -0.211332  2.171805 -0.599577   0.305351        1  0.703189 -0.012856   \n",
              "..        ...       ...       ...        ...      ...       ...       ...   \n",
              "457  2.230775 -0.705234  0.599263   0.812281        0  1.111065  0.571590   \n",
              "458  2.133091  0.123004 -0.159680   0.861173        0 -0.112563  0.609602   \n",
              "459 -1.481228 -0.138545 -1.522877  -1.309364        0 -1.336191 -1.414575   \n",
              "460 -0.992806  0.384553  2.325616   0.692625        0  1.111065  0.310252   \n",
              "461 -0.309016 -0.792417  0.038515   1.029720        1  0.907127 -2.691268   \n",
              "\n",
              "      alcohol       age  \n",
              "0    1.714276  0.629336  \n",
              "1   -0.612745  1.383115  \n",
              "2   -0.541183  0.218184  \n",
              "3    0.295062  1.040488  \n",
              "4    1.647775  0.423760  \n",
              "..        ...       ...  \n",
              "457 -0.696983  1.040488  \n",
              "458  0.068519  0.629336  \n",
              "459  0.392385  0.834912  \n",
              "460  0.283203 -0.192969  \n",
              "461 -0.696983  0.218184  \n",
              "\n",
              "[462 rows x 9 columns]"
            ],
            "text/html": [
              "\n",
              "  <div id=\"df-bfc2bad0-fa10-410f-9fed-c98060441466\">\n",
              "    <div class=\"colab-df-container\">\n",
              "      <div>\n",
              "<style scoped>\n",
              "    .dataframe tbody tr th:only-of-type {\n",
              "        vertical-align: middle;\n",
              "    }\n",
              "\n",
              "    .dataframe tbody tr th {\n",
              "        vertical-align: top;\n",
              "    }\n",
              "\n",
              "    .dataframe thead th {\n",
              "        text-align: right;\n",
              "    }\n",
              "</style>\n",
              "<table border=\"1\" class=\"dataframe\">\n",
              "  <thead>\n",
              "    <tr style=\"text-align: right;\">\n",
              "      <th></th>\n",
              "      <th>sbp</th>\n",
              "      <th>tobacco</th>\n",
              "      <th>ldl</th>\n",
              "      <th>adiposity</th>\n",
              "      <th>famhist</th>\n",
              "      <th>typea</th>\n",
              "      <th>obesity</th>\n",
              "      <th>alcohol</th>\n",
              "      <th>age</th>\n",
              "    </tr>\n",
              "  </thead>\n",
              "  <tbody>\n",
              "    <tr>\n",
              "      <th>0</th>\n",
              "      <td>1.058564</td>\n",
              "      <td>1.823073</td>\n",
              "      <td>0.478412</td>\n",
              "      <td>-0.295503</td>\n",
              "      <td>1</td>\n",
              "      <td>-0.418470</td>\n",
              "      <td>-0.176786</td>\n",
              "      <td>1.714276</td>\n",
              "      <td>0.629336</td>\n",
              "    </tr>\n",
              "    <tr>\n",
              "      <th>1</th>\n",
              "      <td>0.277089</td>\n",
              "      <td>-0.790237</td>\n",
              "      <td>-0.159680</td>\n",
              "      <td>0.412140</td>\n",
              "      <td>0</td>\n",
              "      <td>0.193344</td>\n",
              "      <td>0.671373</td>\n",
              "      <td>-0.612745</td>\n",
              "      <td>1.383115</td>\n",
              "    </tr>\n",
              "    <tr>\n",
              "      <th>2</th>\n",
              "      <td>-0.992806</td>\n",
              "      <td>-0.774980</td>\n",
              "      <td>-0.609245</td>\n",
              "      <td>0.884332</td>\n",
              "      <td>1</td>\n",
              "      <td>-0.112563</td>\n",
              "      <td>0.735519</td>\n",
              "      <td>-0.541183</td>\n",
              "      <td>0.218184</td>\n",
              "    </tr>\n",
              "    <tr>\n",
              "      <th>3</th>\n",
              "      <td>1.546985</td>\n",
              "      <td>0.842264</td>\n",
              "      <td>0.807126</td>\n",
              "      <td>1.624141</td>\n",
              "      <td>1</td>\n",
              "      <td>-0.214532</td>\n",
              "      <td>1.412621</td>\n",
              "      <td>0.295062</td>\n",
              "      <td>1.040488</td>\n",
              "    </tr>\n",
              "    <tr>\n",
              "      <th>4</th>\n",
              "      <td>-0.211332</td>\n",
              "      <td>2.171805</td>\n",
              "      <td>-0.599577</td>\n",
              "      <td>0.305351</td>\n",
              "      <td>1</td>\n",
              "      <td>0.703189</td>\n",
              "      <td>-0.012856</td>\n",
              "      <td>1.647775</td>\n",
              "      <td>0.423760</td>\n",
              "    </tr>\n",
              "    <tr>\n",
              "      <th>...</th>\n",
              "      <td>...</td>\n",
              "      <td>...</td>\n",
              "      <td>...</td>\n",
              "      <td>...</td>\n",
              "      <td>...</td>\n",
              "      <td>...</td>\n",
              "      <td>...</td>\n",
              "      <td>...</td>\n",
              "      <td>...</td>\n",
              "    </tr>\n",
              "    <tr>\n",
              "      <th>457</th>\n",
              "      <td>2.230775</td>\n",
              "      <td>-0.705234</td>\n",
              "      <td>0.599263</td>\n",
              "      <td>0.812281</td>\n",
              "      <td>0</td>\n",
              "      <td>1.111065</td>\n",
              "      <td>0.571590</td>\n",
              "      <td>-0.696983</td>\n",
              "      <td>1.040488</td>\n",
              "    </tr>\n",
              "    <tr>\n",
              "      <th>458</th>\n",
              "      <td>2.133091</td>\n",
              "      <td>0.123004</td>\n",
              "      <td>-0.159680</td>\n",
              "      <td>0.861173</td>\n",
              "      <td>0</td>\n",
              "      <td>-0.112563</td>\n",
              "      <td>0.609602</td>\n",
              "      <td>0.068519</td>\n",
              "      <td>0.629336</td>\n",
              "    </tr>\n",
              "    <tr>\n",
              "      <th>459</th>\n",
              "      <td>-1.481228</td>\n",
              "      <td>-0.138545</td>\n",
              "      <td>-1.522877</td>\n",
              "      <td>-1.309364</td>\n",
              "      <td>0</td>\n",
              "      <td>-1.336191</td>\n",
              "      <td>-1.414575</td>\n",
              "      <td>0.392385</td>\n",
              "      <td>0.834912</td>\n",
              "    </tr>\n",
              "    <tr>\n",
              "      <th>460</th>\n",
              "      <td>-0.992806</td>\n",
              "      <td>0.384553</td>\n",
              "      <td>2.325616</td>\n",
              "      <td>0.692625</td>\n",
              "      <td>0</td>\n",
              "      <td>1.111065</td>\n",
              "      <td>0.310252</td>\n",
              "      <td>0.283203</td>\n",
              "      <td>-0.192969</td>\n",
              "    </tr>\n",
              "    <tr>\n",
              "      <th>461</th>\n",
              "      <td>-0.309016</td>\n",
              "      <td>-0.792417</td>\n",
              "      <td>0.038515</td>\n",
              "      <td>1.029720</td>\n",
              "      <td>1</td>\n",
              "      <td>0.907127</td>\n",
              "      <td>-2.691268</td>\n",
              "      <td>-0.696983</td>\n",
              "      <td>0.218184</td>\n",
              "    </tr>\n",
              "  </tbody>\n",
              "</table>\n",
              "<p>462 rows × 9 columns</p>\n",
              "</div>\n",
              "      <button class=\"colab-df-convert\" onclick=\"convertToInteractive('df-bfc2bad0-fa10-410f-9fed-c98060441466')\"\n",
              "              title=\"Convert this dataframe to an interactive table.\"\n",
              "              style=\"display:none;\">\n",
              "        \n",
              "  <svg xmlns=\"http://www.w3.org/2000/svg\" height=\"24px\"viewBox=\"0 0 24 24\"\n",
              "       width=\"24px\">\n",
              "    <path d=\"M0 0h24v24H0V0z\" fill=\"none\"/>\n",
              "    <path d=\"M18.56 5.44l.94 2.06.94-2.06 2.06-.94-2.06-.94-.94-2.06-.94 2.06-2.06.94zm-11 1L8.5 8.5l.94-2.06 2.06-.94-2.06-.94L8.5 2.5l-.94 2.06-2.06.94zm10 10l.94 2.06.94-2.06 2.06-.94-2.06-.94-.94-2.06-.94 2.06-2.06.94z\"/><path d=\"M17.41 7.96l-1.37-1.37c-.4-.4-.92-.59-1.43-.59-.52 0-1.04.2-1.43.59L10.3 9.45l-7.72 7.72c-.78.78-.78 2.05 0 2.83L4 21.41c.39.39.9.59 1.41.59.51 0 1.02-.2 1.41-.59l7.78-7.78 2.81-2.81c.8-.78.8-2.07 0-2.86zM5.41 20L4 18.59l7.72-7.72 1.47 1.35L5.41 20z\"/>\n",
              "  </svg>\n",
              "      </button>\n",
              "      \n",
              "  <style>\n",
              "    .colab-df-container {\n",
              "      display:flex;\n",
              "      flex-wrap:wrap;\n",
              "      gap: 12px;\n",
              "    }\n",
              "\n",
              "    .colab-df-convert {\n",
              "      background-color: #E8F0FE;\n",
              "      border: none;\n",
              "      border-radius: 50%;\n",
              "      cursor: pointer;\n",
              "      display: none;\n",
              "      fill: #1967D2;\n",
              "      height: 32px;\n",
              "      padding: 0 0 0 0;\n",
              "      width: 32px;\n",
              "    }\n",
              "\n",
              "    .colab-df-convert:hover {\n",
              "      background-color: #E2EBFA;\n",
              "      box-shadow: 0px 1px 2px rgba(60, 64, 67, 0.3), 0px 1px 3px 1px rgba(60, 64, 67, 0.15);\n",
              "      fill: #174EA6;\n",
              "    }\n",
              "\n",
              "    [theme=dark] .colab-df-convert {\n",
              "      background-color: #3B4455;\n",
              "      fill: #D2E3FC;\n",
              "    }\n",
              "\n",
              "    [theme=dark] .colab-df-convert:hover {\n",
              "      background-color: #434B5C;\n",
              "      box-shadow: 0px 1px 3px 1px rgba(0, 0, 0, 0.15);\n",
              "      filter: drop-shadow(0px 1px 2px rgba(0, 0, 0, 0.3));\n",
              "      fill: #FFFFFF;\n",
              "    }\n",
              "  </style>\n",
              "\n",
              "      <script>\n",
              "        const buttonEl =\n",
              "          document.querySelector('#df-bfc2bad0-fa10-410f-9fed-c98060441466 button.colab-df-convert');\n",
              "        buttonEl.style.display =\n",
              "          google.colab.kernel.accessAllowed ? 'block' : 'none';\n",
              "\n",
              "        async function convertToInteractive(key) {\n",
              "          const element = document.querySelector('#df-bfc2bad0-fa10-410f-9fed-c98060441466');\n",
              "          const dataTable =\n",
              "            await google.colab.kernel.invokeFunction('convertToInteractive',\n",
              "                                                     [key], {});\n",
              "          if (!dataTable) return;\n",
              "\n",
              "          const docLinkHtml = 'Like what you see? Visit the ' +\n",
              "            '<a target=\"_blank\" href=https://colab.research.google.com/notebooks/data_table.ipynb>data table notebook</a>'\n",
              "            + ' to learn more about interactive tables.';\n",
              "          element.innerHTML = '';\n",
              "          dataTable['output_type'] = 'display_data';\n",
              "          await google.colab.output.renderOutput(dataTable, element);\n",
              "          const docLink = document.createElement('div');\n",
              "          docLink.innerHTML = docLinkHtml;\n",
              "          element.appendChild(docLink);\n",
              "        }\n",
              "      </script>\n",
              "    </div>\n",
              "  </div>\n",
              "  "
            ]
          },
          "metadata": {},
          "execution_count": 12
        }
      ],
      "source": [
        "#spliting data\n",
        "x=chd_data.iloc[:,:-1]\n",
        "y=chd_data.iloc[:,-1]\n",
        "x"
      ]
    },
    {
      "cell_type": "code",
      "execution_count": null,
      "metadata": {
        "id": "37-RoOoIcLXp"
      },
      "outputs": [],
      "source": [
        "x_train, x_test, y_train, y_test = train_test_split(x, y, test_size=0.25, random_state=23)"
      ]
    },
    {
      "cell_type": "code",
      "source": [
        "x_train.iloc[0,:]"
      ],
      "metadata": {
        "colab": {
          "base_uri": "https://localhost:8080/"
        },
        "id": "JbS_NuEP9qz3",
        "outputId": "4f0eca57-0513-49c5-cdea-255c061cb6f5"
      },
      "execution_count": null,
      "outputs": [
        {
          "output_type": "execute_result",
          "data": {
            "text/plain": [
              "sbp          0.325931\n",
              "tobacco      1.190996\n",
              "ldl          0.241545\n",
              "adiposity    0.275758\n",
              "famhist      0.000000\n",
              "typea        0.601220\n",
              "obesity     -1.207881\n",
              "alcohol      0.186289\n",
              "age          1.246064\n",
              "Name: 27, dtype: float64"
            ]
          },
          "metadata": {},
          "execution_count": 14
        }
      ]
    },
    {
      "cell_type": "code",
      "execution_count": null,
      "metadata": {
        "id": "VR996pUN8FIK"
      },
      "outputs": [],
      "source": [
        "from sklearn.linear_model import LogisticRegression\n",
        "from sklearn.neighbors import KNeighborsClassifier\n",
        "from sklearn.svm import SVC\n",
        "from sklearn.naive_bayes import GaussianNB\n",
        "from sklearn.tree import DecisionTreeClassifier\n",
        "from sklearn.ensemble import RandomForestClassifier\n",
        "from sklearn.metrics import accuracy_score, recall_score"
      ]
    },
    {
      "cell_type": "code",
      "source": [
        "classifiers = []\n",
        "classifiers.append((\"LR\",LogisticRegression(random_state=0)))\n",
        "classifiers.append((\"NB\",GaussianNB()))\n",
        "classifiers.append((\"DT\",DecisionTreeClassifier(random_state = 0)))\n",
        "classifiers.append((\"RF\",RandomForestClassifier(random_state = 0)))\n",
        "classifiers.append((\"SVM\",SVC()))\n",
        "classifiers.append((\"KNN\", KNeighborsClassifier()))\n",
        "scores = []\n",
        "clf_names = []"
      ],
      "metadata": {
        "id": "ORLYtryur126"
      },
      "execution_count": null,
      "outputs": []
    },
    {
      "cell_type": "code",
      "execution_count": null,
      "metadata": {
        "colab": {
          "base_uri": "https://localhost:8080/"
        },
        "id": "RTJojwA48MrQ",
        "outputId": "ece0e600-1453-45ab-b008-893b5de1dce5"
      },
      "outputs": [
        {
          "output_type": "stream",
          "name": "stdout",
          "text": [
            "classifier = LogisticRegression(random_state=0), P = 0.2, i = 67, score = 81.72, recall = 0.7083333333333334\n",
            "classifier = GaussianNB(), P = 0.2, i = 33, score = 79.57, recall = 0.7894736842105263\n",
            "classifier = DecisionTreeClassifier(random_state=0), P = 0.2, i = 0, score = 74.19, recall = 0.625\n",
            "classifier = RandomForestClassifier(random_state=0), P = 0.2, i = 69, score = 78.49, recall = 0.6176470588235294\n",
            "classifier = SVC(), P = 0.2, i = 62, score = 81.72, recall = 0.6296296296296297\n",
            "classifier = KNeighborsClassifier(), P = 0.2, i = 80, score = 75.27, recall = 0.4642857142857143\n"
          ]
        }
      ],
      "source": [
        "my_list = [ 0.2, 0.25, 0.33, 0.4]\n",
        "for clf in classifiers:\n",
        "  score = 0\n",
        "  recall = 0\n",
        "  for p in my_list:\n",
        "    for i in range(101):\n",
        "      X_train, X_test, y_train, y_test = train_test_split(x, y, test_size = p, random_state = i)\n",
        "      classifier = clf[1]\n",
        "      classifier.fit(X_train,y_train)\n",
        "      y_pred = classifier.predict(X_test)\n",
        "      acc_score = (accuracy_score(y_test,y_pred)*100).round(2)\n",
        "      rec_score = recall_score(y_test,y_pred)\n",
        "      if acc_score > score:\n",
        "          score = acc_score\n",
        "          recall = rec_score\n",
        "          paramters = (p, i, score, recall)\n",
        "  p, i, score, recall = paramters\n",
        "  print(\"classifier = {}, P = {}, i = {}, score = {}, recall = {}\".format(classifier, p,i,score, recall))"
      ]
    },
    {
      "cell_type": "code",
      "execution_count": null,
      "metadata": {
        "colab": {
          "base_uri": "https://localhost:8080/"
        },
        "id": "rhqiRxzn_0sP",
        "outputId": "2cc6a7cb-2ce0-4b0d-c002-752695ed4fe6"
      },
      "outputs": [
        {
          "output_type": "stream",
          "name": "stdout",
          "text": [
            "classifier = LogisticRegression(random_state=0), P = 0.25, i = 67, score = 79.31, recall = 0.7241379310344828\n",
            "classifier = GaussianNB(), P = 0.2, i = 62, score = 78.49, recall = 0.8888888888888888\n",
            "classifier = DecisionTreeClassifier(random_state=0), P = 0.2, i = 43, score = 72.04, recall = 0.7575757575757576\n",
            "classifier = RandomForestClassifier(random_state=0), P = 0.25, i = 25, score = 73.28, recall = 0.6785714285714286\n",
            "classifier = SVC(), P = 0.2, i = 54, score = 79.57, recall = 0.7142857142857143\n",
            "classifier = KNeighborsClassifier(), P = 0.25, i = 78, score = 66.38, recall = 0.6285714285714286\n"
          ]
        }
      ],
      "source": [
        "my_list = [ 0.2, 0.25, 0.33, 0.4]\n",
        "for clf in classifiers:\n",
        "  score = 0\n",
        "  recall = 0\n",
        "  for p in my_list:\n",
        "    for i in range(101):\n",
        "      X_train, X_test, y_train, y_test = train_test_split(x, y, test_size = p, random_state = i)\n",
        "      classifier = clf[1]\n",
        "      classifier.fit(X_train,y_train)\n",
        "      y_pred = classifier.predict(X_test)\n",
        "      acc_score = (accuracy_score(y_test,y_pred)*100).round(2)\n",
        "      rec_score = recall_score(y_test,y_pred)\n",
        "      if rec_score > recall:\n",
        "          score = acc_score\n",
        "          recall = rec_score\n",
        "          paramters = (p, i, score, recall)\n",
        "  p, i, score, recall = paramters\n",
        "  print(\"classifier = {}, P = {}, i = {}, score = {}, recall = {}\".format(classifier, p,i,score, recall))"
      ]
    },
    {
      "cell_type": "code",
      "source": [
        "# Applying GridSearch on the dataset to Check the best paramters for our Classification\n",
        "from sklearn.model_selection import RepeatedStratifiedKFold, GridSearchCV\n",
        "for classifier_name, classifier in classifiers:\n",
        "    cv = RepeatedStratifiedKFold(n_splits=5, n_repeats=3, random_state=0)\n",
        "    if classifier_name == \"LR\" : \n",
        "        parameters = [{'solver' : ['newton-cg', 'lbfgs'], 'penalty' : ['l2'], \n",
        "                       'C':[100, 10, 1, 0.1, 0.01],'multi_class':['auto', 'ovr', 'multinomial']},\n",
        "                      {'solver': ['liblinear'],'penalty' : ['l1', 'l2'],\n",
        "                       'C':[100, 10, 1, 0.1, 0.01],'multi_class':['auto', 'ovr'],'random_state':[0,1,42]}]\n",
        "    elif classifier_name == \"NB\" : \n",
        "        continue           \n",
        "    elif classifier_name == \"DT\" :\n",
        "        parameters = [{'criterion' : ['gini', 'entropy'],'random_state':[ 0, 1, 12, 42],\n",
        "                        'splitter':['best', 'random'], 'max_features': ['sqrt', 'log2']}]\n",
        "    elif classifier_name == \"RF\" :\n",
        "        parameters = [{'bootstrap':[True], 'criterion' : ['gini', 'entropy'], 'n_estimators':[10,15,20,25],\n",
        "                        'max_depth':[110,130,150,170], 'random_state':[ 0, 1 , 42],\n",
        "                       'min_samples_leaf':[7,9,11,13],'min_samples_split':[8,12,14],'max_features': ['sqrt', 'log2']}]\n",
        "    elif classifier_name == \"SVM\" :\n",
        "        parameters = [{'C':[100, 10, 1, 0.1, 0.01], 'gamma' : ['auto', 'scale'],\n",
        "                       'kernel': ['poly', 'rbf', 'sigmoid']},\n",
        "                      {'C':[100, 10, 1, 0.1, 0.01], 'kernel': ['linear']}]    \n",
        "    elif classifier_name == \"KNN\" :\n",
        "        parameters = [{'n_neighbors': range(1, 21, 2),\n",
        "                       'weights' : ['uniform', 'distance'],'n_jobs': [-1],\n",
        "                       'algorithm' : ['auto', 'ball_tree', 'kd_tree','brute']}]\n",
        "    grid_search= GridSearchCV(estimator = classifier,\n",
        "                              param_grid = parameters,\n",
        "                              scoring = 'accuracy',\n",
        "                              cv = cv, n_jobs = -1)\n",
        "    grid_search = grid_search.fit(x, y)\n",
        "    best_accuracy = grid_search.best_score_\n",
        "    best_parameters = grid_search.best_params_\n",
        "    print(classifier_name,\" (best score) : \", best_accuracy)\n",
        "    print(\"best parameters : \", best_parameters)\n",
        "   "
      ],
      "metadata": {
        "colab": {
          "base_uri": "https://localhost:8080/"
        },
        "id": "CueaWMC1wr12",
        "outputId": "fee1db91-f988-4d8d-cfac-a3e96c2a6167"
      },
      "execution_count": null,
      "outputs": [
        {
          "output_type": "stream",
          "name": "stdout",
          "text": [
            "LR  (best score) :  0.7294374318217237\n",
            "best parameters :  {'C': 0.1, 'multi_class': 'auto', 'penalty': 'l2', 'solver': 'newton-cg'}\n",
            "DT  (best score) :  0.6495247000155836\n",
            "best parameters :  {'criterion': 'entropy', 'max_features': 'sqrt', 'random_state': 1, 'splitter': 'best'}\n",
            "RF  (best score) :  0.7158017765310892\n",
            "best parameters :  {'bootstrap': True, 'criterion': 'entropy', 'max_depth': 110, 'max_features': 'sqrt', 'min_samples_leaf': 11, 'min_samples_split': 8, 'n_estimators': 25, 'random_state': 42}\n",
            "SVM  (best score) :  0.7251908991740688\n",
            "best parameters :  {'C': 1, 'gamma': 'auto', 'kernel': 'rbf'}\n",
            "KNN  (best score) :  0.6904784167056258\n",
            "best parameters :  {'algorithm': 'auto', 'n_jobs': -1, 'n_neighbors': 13, 'weights': 'distance'}\n"
          ]
        }
      ]
    },
    {
      "cell_type": "code",
      "execution_count": null,
      "metadata": {
        "id": "UFmqPIwEQu4p"
      },
      "outputs": [],
      "source": [
        "classifiers = []\n",
        "classifiers.append((\"LR\",LogisticRegression(C = 0.1, multi_class =  'auto', penalty = 'l2', solver =  'newton-cg')))\n",
        "classifiers.append((\"NB\",GaussianNB()))\n",
        "classifiers.append((\"DT\",DecisionTreeClassifier(criterion = 'entropy', max_features ='sqrt', random_state = 1, splitter = 'best')))\n",
        "classifiers.append((\"RF\",RandomForestClassifier(bootstrap = True, criterion = 'entropy', max_depth = 110, max_features = 'sqrt', \n",
        "                                                min_samples_leaf = 11, min_samples_split = 8, n_estimators = 25, random_state = 42)))\n",
        "classifiers.append((\"SVM\",SVC(C = 1, gamma = 'auto', kernel = 'rbf')))\n",
        "classifiers.append((\"KNN\", KNeighborsClassifier(algorithm = 'auto', n_jobs = -1, n_neighbors = 13, weights = 'distance')))"
      ]
    },
    {
      "cell_type": "code",
      "execution_count": null,
      "metadata": {
        "colab": {
          "base_uri": "https://localhost:8080/"
        },
        "id": "6qicfrzdSY7g",
        "outputId": "545f4dee-2682-48e7-9375-f3ff150db1c4"
      },
      "outputs": [
        {
          "output_type": "stream",
          "name": "stdout",
          "text": [
            "classifier = LogisticRegression(C=0.1, solver='newton-cg'), P = 0.25, i = 67, score = 81.9, recall = 0.7241379310344828\n",
            "classifier = GaussianNB(), P = 0.2, i = 33, score = 79.57, recall = 0.7894736842105263\n",
            "classifier = DecisionTreeClassifier(criterion='entropy', max_features='sqrt', random_state=1), P = 0.2, i = 1, score = 76.34, recall = 0.5925925925925926\n",
            "classifier = RandomForestClassifier(criterion='entropy', max_depth=110, max_features='sqrt',\n",
            "                       min_samples_leaf=11, min_samples_split=8,\n",
            "                       n_estimators=25, random_state=42), P = 0.25, i = 9, score = 81.03, recall = 0.5135135135135135\n",
            "classifier = SVC(C=1, gamma='auto'), P = 0.2, i = 62, score = 82.8, recall = 0.6666666666666666\n",
            "classifier = KNeighborsClassifier(n_jobs=-1, n_neighbors=13, weights='distance'), P = 0.2, i = 62, score = 83.87, recall = 0.5555555555555556\n"
          ]
        }
      ],
      "source": [
        "my_list = [ 0.2, 0.25, 0.33, 0.4]\n",
        "for clf in classifiers:\n",
        "  score = 0\n",
        "  recall = 0\n",
        "  for p in my_list:\n",
        "    for i in range(101):\n",
        "      X_train, X_test, y_train, y_test = train_test_split(x, y, test_size = p, random_state = i)\n",
        "      classifier = clf[1]\n",
        "      classifier.fit(X_train,y_train)\n",
        "      y_pred = classifier.predict(X_test)\n",
        "      acc_score = (accuracy_score(y_test,y_pred)*100).round(2)\n",
        "      rec_score = recall_score(y_test,y_pred)\n",
        "      if acc_score > score:\n",
        "          score = acc_score\n",
        "          recall = rec_score\n",
        "          paramters = (p, i, score, recall)\n",
        "  p, i, score, recall = paramters\n",
        "  print(\"classifier = {}, P = {}, i = {}, score = {}, recall = {}\".format(classifier, p, i, score, recall))"
      ]
    },
    {
      "cell_type": "code",
      "source": [
        "my_list = [ 0.2, 0.25, 0.33, 0.4]\n",
        "for clf in classifiers:\n",
        "  score = 0\n",
        "  recall = 0\n",
        "  for p in my_list:\n",
        "    for i in range(101):\n",
        "      X_train, X_test, y_train, y_test = train_test_split(x, y, test_size = p, random_state = i)\n",
        "      classifier = clf[1]\n",
        "      classifier.fit(X_train,y_train)\n",
        "      y_pred = classifier.predict(X_test)\n",
        "      acc_score = (accuracy_score(y_test,y_pred)*100).round(2)\n",
        "      rec_score = recall_score(y_test,y_pred)\n",
        "      if rec_score > recall:\n",
        "          score = acc_score\n",
        "          recall = rec_score\n",
        "          paramters = (p, i, score, recall)\n",
        "  p, i, score, recall = paramters\n",
        "  print(\"classifier = {}, P = {}, i = {}, score = {}, recall = {}\".format(classifier, p,i,score, recall))"
      ],
      "metadata": {
        "colab": {
          "base_uri": "https://localhost:8080/"
        },
        "id": "V3Usd5utbv5f",
        "outputId": "ee8e07f2-9ac7-45a4-92eb-0cca1c06589e"
      },
      "execution_count": null,
      "outputs": [
        {
          "output_type": "stream",
          "name": "stdout",
          "text": [
            "classifier = LogisticRegression(C=0.1, solver='newton-cg'), P = 0.25, i = 67, score = 81.9, recall = 0.7241379310344828\n",
            "classifier = GaussianNB(), P = 0.2, i = 62, score = 78.49, recall = 0.8888888888888888\n",
            "classifier = DecisionTreeClassifier(criterion='entropy', max_features='sqrt', random_state=1), P = 0.2, i = 28, score = 70.97, recall = 0.7\n",
            "classifier = RandomForestClassifier(criterion='entropy', max_depth=110, max_features='sqrt',\n",
            "                       min_samples_leaf=11, min_samples_split=8,\n",
            "                       n_estimators=25, random_state=42), P = 0.25, i = 43, score = 68.97, recall = 0.6904761904761905\n",
            "classifier = SVC(C=1, gamma='auto'), P = 0.2, i = 54, score = 80.65, recall = 0.7142857142857143\n",
            "classifier = KNeighborsClassifier(n_jobs=-1, n_neighbors=13, weights='distance'), P = 0.25, i = 78, score = 72.41, recall = 0.6\n"
          ]
        }
      ]
    },
    {
      "cell_type": "markdown",
      "source": [
        "## Final Model"
      ],
      "metadata": {
        "id": "RJ27gkGMX43K"
      }
    },
    {
      "cell_type": "markdown",
      "source": [
        "### Highest Accuarcy Model"
      ],
      "metadata": {
        "id": "rmxM-LjsYJNX"
      }
    },
    {
      "cell_type": "markdown",
      "source": [
        "### Logistic Regression Classifier"
      ],
      "metadata": {
        "id": "EhG9IrKXdWKh"
      }
    },
    {
      "cell_type": "code",
      "source": [
        "X_train, X_test, y_train, y_test = train_test_split(x, y, test_size = 0.25, random_state = 67)\n",
        "X_train.iloc[0,:]"
      ],
      "metadata": {
        "colab": {
          "base_uri": "https://localhost:8080/"
        },
        "id": "URzCBHg8er1H",
        "outputId": "fbde34d8-3fc7-4dac-c8cf-9b06af8c067a"
      },
      "execution_count": null,
      "outputs": [
        {
          "output_type": "execute_result",
          "data": {
            "text/plain": [
              "sbp         -1.090491\n",
              "tobacco      2.187334\n",
              "ldl         -0.759100\n",
              "adiposity   -1.340243\n",
              "famhist      0.000000\n",
              "typea       -0.622408\n",
              "obesity     -1.578505\n",
              "alcohol      1.309188\n",
              "age          1.109013\n",
              "Name: 114, dtype: float64"
            ]
          },
          "metadata": {},
          "execution_count": 22
        }
      ]
    },
    {
      "cell_type": "code",
      "source": [
        "lr_acc_clf = LogisticRegression(C = 0.1, multi_class =  'auto', penalty = 'l2', solver =  'newton-cg')\n",
        "lr_acc_clf.fit(X_train,y_train)"
      ],
      "metadata": {
        "colab": {
          "base_uri": "https://localhost:8080/"
        },
        "id": "-Q1kuw4Bdah3",
        "outputId": "ff3748f4-ae09-4c26-f85c-14b39d42187c"
      },
      "execution_count": null,
      "outputs": [
        {
          "output_type": "execute_result",
          "data": {
            "text/plain": [
              "LogisticRegression(C=0.1, solver='newton-cg')"
            ]
          },
          "metadata": {},
          "execution_count": 23
        }
      ]
    },
    {
      "cell_type": "code",
      "source": [
        "lr_train_score = lr_acc_clf.score(X_train,y_train)\n",
        "lr_test_score = lr_acc_clf.score(X_test,y_test)\n",
        "print('Model Train Score: {} '.format(lr_train_score))\n",
        "print('Model Test Score: {} '.format(lr_test_score))"
      ],
      "metadata": {
        "colab": {
          "base_uri": "https://localhost:8080/"
        },
        "id": "tNdD5CxfdmOL",
        "outputId": "dd98bfa3-64df-45a0-ee28-ad58ce6707fd"
      },
      "execution_count": null,
      "outputs": [
        {
          "output_type": "stream",
          "name": "stdout",
          "text": [
            "Model Train Score: 0.7052023121387283 \n",
            "Model Test Score: 0.8189655172413793 \n"
          ]
        }
      ]
    },
    {
      "cell_type": "code",
      "source": [
        "y_pred_lr = lr_acc_clf.predict(X_test)\n",
        "lr_acc_score = (accuracy_score(y_test,y_pred_lr)*100).round(2)\n",
        "print(\"Logistic Regression Highest Accuarcy: {} % \".format(lr_acc_score))"
      ],
      "metadata": {
        "colab": {
          "base_uri": "https://localhost:8080/"
        },
        "id": "2TjJrVVRcX2N",
        "outputId": "75ad87ad-e1bb-4938-e7ae-1ab93d42759c"
      },
      "execution_count": null,
      "outputs": [
        {
          "output_type": "stream",
          "name": "stdout",
          "text": [
            "Logistic Regression Highest Accuarcy: 81.9 % \n"
          ]
        }
      ]
    },
    {
      "cell_type": "markdown",
      "source": [
        "### KNN Classifier"
      ],
      "metadata": {
        "id": "X5QdfZO9dSQA"
      }
    },
    {
      "cell_type": "code",
      "source": [
        "X_train, X_test, y_train, y_test = train_test_split(x, y, test_size = 0.2, random_state = 62)\n",
        "X_train.iloc[0,:]"
      ],
      "metadata": {
        "colab": {
          "base_uri": "https://localhost:8080/"
        },
        "id": "6eD5FxRdX7u9",
        "outputId": "bb6ed887-87d2-49dd-d281-d0283ee29c4f"
      },
      "execution_count": null,
      "outputs": [
        {
          "output_type": "execute_result",
          "data": {
            "text/plain": [
              "sbp         -0.602069\n",
              "tobacco      1.496137\n",
              "ldl         -0.121008\n",
              "adiposity   -1.039172\n",
              "famhist      0.000000\n",
              "typea        1.416972\n",
              "obesity     -1.585632\n",
              "alcohol     -0.696983\n",
              "age          0.423760\n",
              "Name: 86, dtype: float64"
            ]
          },
          "metadata": {},
          "execution_count": 26
        }
      ]
    },
    {
      "cell_type": "code",
      "source": [
        "knn_acc_clf = KNeighborsClassifier(algorithm = 'auto', n_jobs = -1, n_neighbors = 13, weights = 'distance')\n",
        "knn_acc_clf.fit(X_train,y_train)"
      ],
      "metadata": {
        "colab": {
          "base_uri": "https://localhost:8080/"
        },
        "id": "WLLK2ZXwcQQu",
        "outputId": "063aae43-8a74-4173-f504-45c462cadfd0"
      },
      "execution_count": null,
      "outputs": [
        {
          "output_type": "execute_result",
          "data": {
            "text/plain": [
              "KNeighborsClassifier(n_jobs=-1, n_neighbors=13, weights='distance')"
            ]
          },
          "metadata": {},
          "execution_count": 27
        }
      ]
    },
    {
      "cell_type": "code",
      "source": [
        "knn_train_score = knn_acc_clf.score(X_train,y_train)\n",
        "knn_test_score = knn_acc_clf.score(X_test,y_test)\n",
        "print('Model Train Score: {}'.format(knn_train_score))\n",
        "print('Model Test Score: {}'.format(knn_test_score))"
      ],
      "metadata": {
        "colab": {
          "base_uri": "https://localhost:8080/"
        },
        "id": "IA-MWp0jcuVL",
        "outputId": "4299c6a3-9d50-418f-bdff-b44a032b5b40"
      },
      "execution_count": null,
      "outputs": [
        {
          "output_type": "stream",
          "name": "stdout",
          "text": [
            "Model Train Score: 1.0\n",
            "Model Test Score: 0.8387096774193549\n"
          ]
        }
      ]
    },
    {
      "cell_type": "code",
      "source": [
        "y_pred_knn = knn_acc_clf.predict(X_test)\n",
        "knn_acc_score = (accuracy_score(y_test,y_pred_knn)*100).round(2)\n",
        "print(\"KNN Highest Accuarcy: {} % \".format(knn_acc_score))"
      ],
      "metadata": {
        "colab": {
          "base_uri": "https://localhost:8080/"
        },
        "id": "ifM7F7mXdsY2",
        "outputId": "cfedc4b8-4417-4527-d6db-e37e21f010a9"
      },
      "execution_count": null,
      "outputs": [
        {
          "output_type": "stream",
          "name": "stdout",
          "text": [
            "KNN Highest Accuarcy: 83.87 % \n"
          ]
        }
      ]
    },
    {
      "cell_type": "markdown",
      "source": [
        "### Support Vector Machine"
      ],
      "metadata": {
        "id": "mwXgVolEfBEe"
      }
    },
    {
      "cell_type": "code",
      "source": [
        "svc_acc_clf = SVC(C = 1, gamma = 'auto', kernel = 'rbf')\n",
        "svc_acc_clf.fit(X_train,y_train)"
      ],
      "metadata": {
        "colab": {
          "base_uri": "https://localhost:8080/"
        },
        "id": "SW6WMqegehbJ",
        "outputId": "a26467d4-84ff-4176-d382-2818aa64a6f0"
      },
      "execution_count": null,
      "outputs": [
        {
          "output_type": "execute_result",
          "data": {
            "text/plain": [
              "SVC(C=1, gamma='auto')"
            ]
          },
          "metadata": {},
          "execution_count": 30
        }
      ]
    },
    {
      "cell_type": "code",
      "source": [
        "svc_train_score = svc_acc_clf.score(X_train,y_train)\n",
        "svc_test_score = svc_acc_clf.score(X_test,y_test)\n",
        "print('Model Train Score: {}'.format(svc_train_score))\n",
        "print('Model Test Score: {}'.format(svc_test_score))"
      ],
      "metadata": {
        "colab": {
          "base_uri": "https://localhost:8080/"
        },
        "id": "dD7uoz-ngdxl",
        "outputId": "287bd719-901c-4c96-c7a5-edfdd850d2c4"
      },
      "execution_count": null,
      "outputs": [
        {
          "output_type": "stream",
          "name": "stdout",
          "text": [
            "Model Train Score: 0.7886178861788617\n",
            "Model Test Score: 0.8279569892473119\n"
          ]
        }
      ]
    },
    {
      "cell_type": "code",
      "source": [
        "y_pred_svc = svc_acc_clf.predict(X_test)\n",
        "svc_acc_score = (accuracy_score(y_test,y_pred_svc)*100).round(2)\n",
        "print(\"SVC Highest Accuarcy: {} % \".format(svc_acc_score))"
      ],
      "metadata": {
        "colab": {
          "base_uri": "https://localhost:8080/"
        },
        "id": "FEbwveMkguVe",
        "outputId": "44553914-7b05-48fb-bee3-6d0be282e830"
      },
      "execution_count": null,
      "outputs": [
        {
          "output_type": "stream",
          "name": "stdout",
          "text": [
            "SVC Highest Accuarcy: 82.8 % \n"
          ]
        }
      ]
    },
    {
      "cell_type": "markdown",
      "source": [
        "### Highest Recall Model"
      ],
      "metadata": {
        "id": "Psfx8NQahUS6"
      }
    },
    {
      "cell_type": "code",
      "source": [
        "rec_clf = GaussianNB()\n",
        "rec_clf.fit(X_train,y_train)"
      ],
      "metadata": {
        "colab": {
          "base_uri": "https://localhost:8080/"
        },
        "id": "g7xXalJhhWs4",
        "outputId": "772c9905-c811-45e0-a691-54ee986ca7d7"
      },
      "execution_count": null,
      "outputs": [
        {
          "output_type": "execute_result",
          "data": {
            "text/plain": [
              "GaussianNB()"
            ]
          },
          "metadata": {},
          "execution_count": 33
        }
      ]
    },
    {
      "cell_type": "code",
      "source": [
        "y_pred_rec = rec_clf.predict(X_test)\n",
        "rec_score = (recall_score(y_test,y_pred_rec)*100).round(2)\n",
        "print(\"Highest Recall: {} % \".format(rec_score))"
      ],
      "metadata": {
        "colab": {
          "base_uri": "https://localhost:8080/"
        },
        "id": "Gi-7ITmjhl7M",
        "outputId": "9c3e43c9-dd38-4703-b7a7-5d8854f0bb75"
      },
      "execution_count": null,
      "outputs": [
        {
          "output_type": "stream",
          "name": "stdout",
          "text": [
            "Highest Recall: 88.89 % \n"
          ]
        }
      ]
    },
    {
      "cell_type": "markdown",
      "source": [
        "## Save Optmial Model"
      ],
      "metadata": {
        "id": "8QGa_n4oh3ak"
      }
    },
    {
      "cell_type": "code",
      "source": [
        "import pickle"
      ],
      "metadata": {
        "id": "8zzjRtRPh7KT"
      },
      "execution_count": null,
      "outputs": []
    },
    {
      "cell_type": "code",
      "source": [
        "filename = 'chd_diagnostic_best_recall_model.sav'\n",
        "pickle.dump(rec_clf, open(filename, 'wb'))"
      ],
      "metadata": {
        "id": "nEK6NezPie_K"
      },
      "execution_count": null,
      "outputs": []
    },
    {
      "cell_type": "code",
      "source": [
        "filename = 'chd_diagnostic_best_accuarcy_model.sav'\n",
        "pickle.dump(svc_acc_clf, open(filename, 'wb'))"
      ],
      "metadata": {
        "id": "1JQommkkiua-"
      },
      "execution_count": null,
      "outputs": []
    }
  ],
  "metadata": {
    "colab": {
      "name": "final_project_chd_diagnostic_traditional_ML.ipynb",
      "provenance": []
    },
    "kernelspec": {
      "display_name": "Python 3",
      "name": "python3"
    },
    "language_info": {
      "name": "python"
    }
  },
  "nbformat": 4,
  "nbformat_minor": 0
}